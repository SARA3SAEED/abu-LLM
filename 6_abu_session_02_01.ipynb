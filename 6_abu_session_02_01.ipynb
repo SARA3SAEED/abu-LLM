{
  "nbformat": 4,
  "nbformat_minor": 0,
  "metadata": {
    "colab": {
      "provenance": [],
      "gpuType": "T4",
      "include_colab_link": true
    },
    "kernelspec": {
      "name": "python3",
      "display_name": "Python 3"
    },
    "language_info": {
      "name": "python"
    },
    "accelerator": "GPU",
    "widgets": {
      "application/vnd.jupyter.widget-state+json": {
        "93f0d3fda89f428299eeb44f51c5d2ad": {
          "model_module": "@jupyter-widgets/controls",
          "model_name": "HBoxModel",
          "model_module_version": "1.5.0",
          "state": {
            "_dom_classes": [],
            "_model_module": "@jupyter-widgets/controls",
            "_model_module_version": "1.5.0",
            "_model_name": "HBoxModel",
            "_view_count": null,
            "_view_module": "@jupyter-widgets/controls",
            "_view_module_version": "1.5.0",
            "_view_name": "HBoxView",
            "box_style": "",
            "children": [
              "IPY_MODEL_49cc535481464b1885aea84b5bb5a712",
              "IPY_MODEL_439fe4d71fd64bcebf6951428239cb30",
              "IPY_MODEL_78d78a9be3f447609b66659f0a81079d"
            ],
            "layout": "IPY_MODEL_acd48e7d8f1849c2a0ca17f22ae6952f"
          }
        },
        "49cc535481464b1885aea84b5bb5a712": {
          "model_module": "@jupyter-widgets/controls",
          "model_name": "HTMLModel",
          "model_module_version": "1.5.0",
          "state": {
            "_dom_classes": [],
            "_model_module": "@jupyter-widgets/controls",
            "_model_module_version": "1.5.0",
            "_model_name": "HTMLModel",
            "_view_count": null,
            "_view_module": "@jupyter-widgets/controls",
            "_view_module_version": "1.5.0",
            "_view_name": "HTMLView",
            "description": "",
            "description_tooltip": null,
            "layout": "IPY_MODEL_85070a89f6f147a0ac56977c11e64b93",
            "placeholder": "​",
            "style": "IPY_MODEL_f1dbd127dd634eabb817abb1b9a8417d",
            "value": "Downloading builder script: 100%"
          }
        },
        "439fe4d71fd64bcebf6951428239cb30": {
          "model_module": "@jupyter-widgets/controls",
          "model_name": "FloatProgressModel",
          "model_module_version": "1.5.0",
          "state": {
            "_dom_classes": [],
            "_model_module": "@jupyter-widgets/controls",
            "_model_module_version": "1.5.0",
            "_model_name": "FloatProgressModel",
            "_view_count": null,
            "_view_module": "@jupyter-widgets/controls",
            "_view_module_version": "1.5.0",
            "_view_name": "ProgressView",
            "bar_style": "success",
            "description": "",
            "description_tooltip": null,
            "layout": "IPY_MODEL_6172d3a8bcc04e8e8f5d1d85bf89a51c",
            "max": 3388,
            "min": 0,
            "orientation": "horizontal",
            "style": "IPY_MODEL_debc7d5393cc45fb8dfd21b664087627",
            "value": 3388
          }
        },
        "78d78a9be3f447609b66659f0a81079d": {
          "model_module": "@jupyter-widgets/controls",
          "model_name": "HTMLModel",
          "model_module_version": "1.5.0",
          "state": {
            "_dom_classes": [],
            "_model_module": "@jupyter-widgets/controls",
            "_model_module_version": "1.5.0",
            "_model_name": "HTMLModel",
            "_view_count": null,
            "_view_module": "@jupyter-widgets/controls",
            "_view_module_version": "1.5.0",
            "_view_name": "HTMLView",
            "description": "",
            "description_tooltip": null,
            "layout": "IPY_MODEL_fe2780ae94294db1b7b282459bd5dfe6",
            "placeholder": "​",
            "style": "IPY_MODEL_80e4f21e28ee4167a001d5f3a1be7ab3",
            "value": " 3.39k/3.39k [00:00&lt;00:00, 13.4kB/s]"
          }
        },
        "acd48e7d8f1849c2a0ca17f22ae6952f": {
          "model_module": "@jupyter-widgets/base",
          "model_name": "LayoutModel",
          "model_module_version": "1.2.0",
          "state": {
            "_model_module": "@jupyter-widgets/base",
            "_model_module_version": "1.2.0",
            "_model_name": "LayoutModel",
            "_view_count": null,
            "_view_module": "@jupyter-widgets/base",
            "_view_module_version": "1.2.0",
            "_view_name": "LayoutView",
            "align_content": null,
            "align_items": null,
            "align_self": null,
            "border": null,
            "bottom": null,
            "display": null,
            "flex": null,
            "flex_flow": null,
            "grid_area": null,
            "grid_auto_columns": null,
            "grid_auto_flow": null,
            "grid_auto_rows": null,
            "grid_column": null,
            "grid_gap": null,
            "grid_row": null,
            "grid_template_areas": null,
            "grid_template_columns": null,
            "grid_template_rows": null,
            "height": null,
            "justify_content": null,
            "justify_items": null,
            "left": null,
            "margin": null,
            "max_height": null,
            "max_width": null,
            "min_height": null,
            "min_width": null,
            "object_fit": null,
            "object_position": null,
            "order": null,
            "overflow": null,
            "overflow_x": null,
            "overflow_y": null,
            "padding": null,
            "right": null,
            "top": null,
            "visibility": null,
            "width": null
          }
        },
        "85070a89f6f147a0ac56977c11e64b93": {
          "model_module": "@jupyter-widgets/base",
          "model_name": "LayoutModel",
          "model_module_version": "1.2.0",
          "state": {
            "_model_module": "@jupyter-widgets/base",
            "_model_module_version": "1.2.0",
            "_model_name": "LayoutModel",
            "_view_count": null,
            "_view_module": "@jupyter-widgets/base",
            "_view_module_version": "1.2.0",
            "_view_name": "LayoutView",
            "align_content": null,
            "align_items": null,
            "align_self": null,
            "border": null,
            "bottom": null,
            "display": null,
            "flex": null,
            "flex_flow": null,
            "grid_area": null,
            "grid_auto_columns": null,
            "grid_auto_flow": null,
            "grid_auto_rows": null,
            "grid_column": null,
            "grid_gap": null,
            "grid_row": null,
            "grid_template_areas": null,
            "grid_template_columns": null,
            "grid_template_rows": null,
            "height": null,
            "justify_content": null,
            "justify_items": null,
            "left": null,
            "margin": null,
            "max_height": null,
            "max_width": null,
            "min_height": null,
            "min_width": null,
            "object_fit": null,
            "object_position": null,
            "order": null,
            "overflow": null,
            "overflow_x": null,
            "overflow_y": null,
            "padding": null,
            "right": null,
            "top": null,
            "visibility": null,
            "width": null
          }
        },
        "f1dbd127dd634eabb817abb1b9a8417d": {
          "model_module": "@jupyter-widgets/controls",
          "model_name": "DescriptionStyleModel",
          "model_module_version": "1.5.0",
          "state": {
            "_model_module": "@jupyter-widgets/controls",
            "_model_module_version": "1.5.0",
            "_model_name": "DescriptionStyleModel",
            "_view_count": null,
            "_view_module": "@jupyter-widgets/base",
            "_view_module_version": "1.2.0",
            "_view_name": "StyleView",
            "description_width": ""
          }
        },
        "6172d3a8bcc04e8e8f5d1d85bf89a51c": {
          "model_module": "@jupyter-widgets/base",
          "model_name": "LayoutModel",
          "model_module_version": "1.2.0",
          "state": {
            "_model_module": "@jupyter-widgets/base",
            "_model_module_version": "1.2.0",
            "_model_name": "LayoutModel",
            "_view_count": null,
            "_view_module": "@jupyter-widgets/base",
            "_view_module_version": "1.2.0",
            "_view_name": "LayoutView",
            "align_content": null,
            "align_items": null,
            "align_self": null,
            "border": null,
            "bottom": null,
            "display": null,
            "flex": null,
            "flex_flow": null,
            "grid_area": null,
            "grid_auto_columns": null,
            "grid_auto_flow": null,
            "grid_auto_rows": null,
            "grid_column": null,
            "grid_gap": null,
            "grid_row": null,
            "grid_template_areas": null,
            "grid_template_columns": null,
            "grid_template_rows": null,
            "height": null,
            "justify_content": null,
            "justify_items": null,
            "left": null,
            "margin": null,
            "max_height": null,
            "max_width": null,
            "min_height": null,
            "min_width": null,
            "object_fit": null,
            "object_position": null,
            "order": null,
            "overflow": null,
            "overflow_x": null,
            "overflow_y": null,
            "padding": null,
            "right": null,
            "top": null,
            "visibility": null,
            "width": null
          }
        },
        "debc7d5393cc45fb8dfd21b664087627": {
          "model_module": "@jupyter-widgets/controls",
          "model_name": "ProgressStyleModel",
          "model_module_version": "1.5.0",
          "state": {
            "_model_module": "@jupyter-widgets/controls",
            "_model_module_version": "1.5.0",
            "_model_name": "ProgressStyleModel",
            "_view_count": null,
            "_view_module": "@jupyter-widgets/base",
            "_view_module_version": "1.2.0",
            "_view_name": "StyleView",
            "bar_color": null,
            "description_width": ""
          }
        },
        "fe2780ae94294db1b7b282459bd5dfe6": {
          "model_module": "@jupyter-widgets/base",
          "model_name": "LayoutModel",
          "model_module_version": "1.2.0",
          "state": {
            "_model_module": "@jupyter-widgets/base",
            "_model_module_version": "1.2.0",
            "_model_name": "LayoutModel",
            "_view_count": null,
            "_view_module": "@jupyter-widgets/base",
            "_view_module_version": "1.2.0",
            "_view_name": "LayoutView",
            "align_content": null,
            "align_items": null,
            "align_self": null,
            "border": null,
            "bottom": null,
            "display": null,
            "flex": null,
            "flex_flow": null,
            "grid_area": null,
            "grid_auto_columns": null,
            "grid_auto_flow": null,
            "grid_auto_rows": null,
            "grid_column": null,
            "grid_gap": null,
            "grid_row": null,
            "grid_template_areas": null,
            "grid_template_columns": null,
            "grid_template_rows": null,
            "height": null,
            "justify_content": null,
            "justify_items": null,
            "left": null,
            "margin": null,
            "max_height": null,
            "max_width": null,
            "min_height": null,
            "min_width": null,
            "object_fit": null,
            "object_position": null,
            "order": null,
            "overflow": null,
            "overflow_x": null,
            "overflow_y": null,
            "padding": null,
            "right": null,
            "top": null,
            "visibility": null,
            "width": null
          }
        },
        "80e4f21e28ee4167a001d5f3a1be7ab3": {
          "model_module": "@jupyter-widgets/controls",
          "model_name": "DescriptionStyleModel",
          "model_module_version": "1.5.0",
          "state": {
            "_model_module": "@jupyter-widgets/controls",
            "_model_module_version": "1.5.0",
            "_model_name": "DescriptionStyleModel",
            "_view_count": null,
            "_view_module": "@jupyter-widgets/base",
            "_view_module_version": "1.2.0",
            "_view_name": "StyleView",
            "description_width": ""
          }
        },
        "2762e9b0afe744adb7a06c100be9415b": {
          "model_module": "@jupyter-widgets/controls",
          "model_name": "HBoxModel",
          "model_module_version": "1.5.0",
          "state": {
            "_dom_classes": [],
            "_model_module": "@jupyter-widgets/controls",
            "_model_module_version": "1.5.0",
            "_model_name": "HBoxModel",
            "_view_count": null,
            "_view_module": "@jupyter-widgets/controls",
            "_view_module_version": "1.5.0",
            "_view_name": "HBoxView",
            "box_style": "",
            "children": [
              "IPY_MODEL_31d17bdf6e7349bb86f34cc22807d774",
              "IPY_MODEL_9a1e52869b534d4bb27a60a519b5a4be",
              "IPY_MODEL_1ed7fe3f8a3f4ae5afc9066961060783"
            ],
            "layout": "IPY_MODEL_7bb10c9a40374dd0a5dae619a1394e9f"
          }
        },
        "31d17bdf6e7349bb86f34cc22807d774": {
          "model_module": "@jupyter-widgets/controls",
          "model_name": "HTMLModel",
          "model_module_version": "1.5.0",
          "state": {
            "_dom_classes": [],
            "_model_module": "@jupyter-widgets/controls",
            "_model_module_version": "1.5.0",
            "_model_name": "HTMLModel",
            "_view_count": null,
            "_view_module": "@jupyter-widgets/controls",
            "_view_module_version": "1.5.0",
            "_view_name": "HTMLView",
            "description": "",
            "description_tooltip": null,
            "layout": "IPY_MODEL_9421ff1e6b14493c97e4e61d5ca2eab1",
            "placeholder": "​",
            "style": "IPY_MODEL_5ac812a1922846de89725ef77c269077",
            "value": "Downloading readme: 100%"
          }
        },
        "9a1e52869b534d4bb27a60a519b5a4be": {
          "model_module": "@jupyter-widgets/controls",
          "model_name": "FloatProgressModel",
          "model_module_version": "1.5.0",
          "state": {
            "_dom_classes": [],
            "_model_module": "@jupyter-widgets/controls",
            "_model_module_version": "1.5.0",
            "_model_name": "FloatProgressModel",
            "_view_count": null,
            "_view_module": "@jupyter-widgets/controls",
            "_view_module_version": "1.5.0",
            "_view_name": "ProgressView",
            "bar_style": "success",
            "description": "",
            "description_tooltip": null,
            "layout": "IPY_MODEL_fbd099effe9f4fa9966cd29e5c1d03fe",
            "max": 3872,
            "min": 0,
            "orientation": "horizontal",
            "style": "IPY_MODEL_69d12fb2ae6b46bd8c498753af8ed298",
            "value": 3872
          }
        },
        "1ed7fe3f8a3f4ae5afc9066961060783": {
          "model_module": "@jupyter-widgets/controls",
          "model_name": "HTMLModel",
          "model_module_version": "1.5.0",
          "state": {
            "_dom_classes": [],
            "_model_module": "@jupyter-widgets/controls",
            "_model_module_version": "1.5.0",
            "_model_name": "HTMLModel",
            "_view_count": null,
            "_view_module": "@jupyter-widgets/controls",
            "_view_module_version": "1.5.0",
            "_view_name": "HTMLView",
            "description": "",
            "description_tooltip": null,
            "layout": "IPY_MODEL_ff5eeb208fc44d4f99c1ff27baa05a62",
            "placeholder": "​",
            "style": "IPY_MODEL_b0e367d4c4ca4d8cbb10ff3650365e39",
            "value": " 3.87k/3.87k [00:00&lt;00:00, 15.0kB/s]"
          }
        },
        "7bb10c9a40374dd0a5dae619a1394e9f": {
          "model_module": "@jupyter-widgets/base",
          "model_name": "LayoutModel",
          "model_module_version": "1.2.0",
          "state": {
            "_model_module": "@jupyter-widgets/base",
            "_model_module_version": "1.2.0",
            "_model_name": "LayoutModel",
            "_view_count": null,
            "_view_module": "@jupyter-widgets/base",
            "_view_module_version": "1.2.0",
            "_view_name": "LayoutView",
            "align_content": null,
            "align_items": null,
            "align_self": null,
            "border": null,
            "bottom": null,
            "display": null,
            "flex": null,
            "flex_flow": null,
            "grid_area": null,
            "grid_auto_columns": null,
            "grid_auto_flow": null,
            "grid_auto_rows": null,
            "grid_column": null,
            "grid_gap": null,
            "grid_row": null,
            "grid_template_areas": null,
            "grid_template_columns": null,
            "grid_template_rows": null,
            "height": null,
            "justify_content": null,
            "justify_items": null,
            "left": null,
            "margin": null,
            "max_height": null,
            "max_width": null,
            "min_height": null,
            "min_width": null,
            "object_fit": null,
            "object_position": null,
            "order": null,
            "overflow": null,
            "overflow_x": null,
            "overflow_y": null,
            "padding": null,
            "right": null,
            "top": null,
            "visibility": null,
            "width": null
          }
        },
        "9421ff1e6b14493c97e4e61d5ca2eab1": {
          "model_module": "@jupyter-widgets/base",
          "model_name": "LayoutModel",
          "model_module_version": "1.2.0",
          "state": {
            "_model_module": "@jupyter-widgets/base",
            "_model_module_version": "1.2.0",
            "_model_name": "LayoutModel",
            "_view_count": null,
            "_view_module": "@jupyter-widgets/base",
            "_view_module_version": "1.2.0",
            "_view_name": "LayoutView",
            "align_content": null,
            "align_items": null,
            "align_self": null,
            "border": null,
            "bottom": null,
            "display": null,
            "flex": null,
            "flex_flow": null,
            "grid_area": null,
            "grid_auto_columns": null,
            "grid_auto_flow": null,
            "grid_auto_rows": null,
            "grid_column": null,
            "grid_gap": null,
            "grid_row": null,
            "grid_template_areas": null,
            "grid_template_columns": null,
            "grid_template_rows": null,
            "height": null,
            "justify_content": null,
            "justify_items": null,
            "left": null,
            "margin": null,
            "max_height": null,
            "max_width": null,
            "min_height": null,
            "min_width": null,
            "object_fit": null,
            "object_position": null,
            "order": null,
            "overflow": null,
            "overflow_x": null,
            "overflow_y": null,
            "padding": null,
            "right": null,
            "top": null,
            "visibility": null,
            "width": null
          }
        },
        "5ac812a1922846de89725ef77c269077": {
          "model_module": "@jupyter-widgets/controls",
          "model_name": "DescriptionStyleModel",
          "model_module_version": "1.5.0",
          "state": {
            "_model_module": "@jupyter-widgets/controls",
            "_model_module_version": "1.5.0",
            "_model_name": "DescriptionStyleModel",
            "_view_count": null,
            "_view_module": "@jupyter-widgets/base",
            "_view_module_version": "1.2.0",
            "_view_name": "StyleView",
            "description_width": ""
          }
        },
        "fbd099effe9f4fa9966cd29e5c1d03fe": {
          "model_module": "@jupyter-widgets/base",
          "model_name": "LayoutModel",
          "model_module_version": "1.2.0",
          "state": {
            "_model_module": "@jupyter-widgets/base",
            "_model_module_version": "1.2.0",
            "_model_name": "LayoutModel",
            "_view_count": null,
            "_view_module": "@jupyter-widgets/base",
            "_view_module_version": "1.2.0",
            "_view_name": "LayoutView",
            "align_content": null,
            "align_items": null,
            "align_self": null,
            "border": null,
            "bottom": null,
            "display": null,
            "flex": null,
            "flex_flow": null,
            "grid_area": null,
            "grid_auto_columns": null,
            "grid_auto_flow": null,
            "grid_auto_rows": null,
            "grid_column": null,
            "grid_gap": null,
            "grid_row": null,
            "grid_template_areas": null,
            "grid_template_columns": null,
            "grid_template_rows": null,
            "height": null,
            "justify_content": null,
            "justify_items": null,
            "left": null,
            "margin": null,
            "max_height": null,
            "max_width": null,
            "min_height": null,
            "min_width": null,
            "object_fit": null,
            "object_position": null,
            "order": null,
            "overflow": null,
            "overflow_x": null,
            "overflow_y": null,
            "padding": null,
            "right": null,
            "top": null,
            "visibility": null,
            "width": null
          }
        },
        "69d12fb2ae6b46bd8c498753af8ed298": {
          "model_module": "@jupyter-widgets/controls",
          "model_name": "ProgressStyleModel",
          "model_module_version": "1.5.0",
          "state": {
            "_model_module": "@jupyter-widgets/controls",
            "_model_module_version": "1.5.0",
            "_model_name": "ProgressStyleModel",
            "_view_count": null,
            "_view_module": "@jupyter-widgets/base",
            "_view_module_version": "1.2.0",
            "_view_name": "StyleView",
            "bar_color": null,
            "description_width": ""
          }
        },
        "ff5eeb208fc44d4f99c1ff27baa05a62": {
          "model_module": "@jupyter-widgets/base",
          "model_name": "LayoutModel",
          "model_module_version": "1.2.0",
          "state": {
            "_model_module": "@jupyter-widgets/base",
            "_model_module_version": "1.2.0",
            "_model_name": "LayoutModel",
            "_view_count": null,
            "_view_module": "@jupyter-widgets/base",
            "_view_module_version": "1.2.0",
            "_view_name": "LayoutView",
            "align_content": null,
            "align_items": null,
            "align_self": null,
            "border": null,
            "bottom": null,
            "display": null,
            "flex": null,
            "flex_flow": null,
            "grid_area": null,
            "grid_auto_columns": null,
            "grid_auto_flow": null,
            "grid_auto_rows": null,
            "grid_column": null,
            "grid_gap": null,
            "grid_row": null,
            "grid_template_areas": null,
            "grid_template_columns": null,
            "grid_template_rows": null,
            "height": null,
            "justify_content": null,
            "justify_items": null,
            "left": null,
            "margin": null,
            "max_height": null,
            "max_width": null,
            "min_height": null,
            "min_width": null,
            "object_fit": null,
            "object_position": null,
            "order": null,
            "overflow": null,
            "overflow_x": null,
            "overflow_y": null,
            "padding": null,
            "right": null,
            "top": null,
            "visibility": null,
            "width": null
          }
        },
        "b0e367d4c4ca4d8cbb10ff3650365e39": {
          "model_module": "@jupyter-widgets/controls",
          "model_name": "DescriptionStyleModel",
          "model_module_version": "1.5.0",
          "state": {
            "_model_module": "@jupyter-widgets/controls",
            "_model_module_version": "1.5.0",
            "_model_name": "DescriptionStyleModel",
            "_view_count": null,
            "_view_module": "@jupyter-widgets/base",
            "_view_module_version": "1.2.0",
            "_view_name": "StyleView",
            "description_width": ""
          }
        },
        "314ce7a065df4c878ae10e821a083bd5": {
          "model_module": "@jupyter-widgets/controls",
          "model_name": "HBoxModel",
          "model_module_version": "1.5.0",
          "state": {
            "_dom_classes": [],
            "_model_module": "@jupyter-widgets/controls",
            "_model_module_version": "1.5.0",
            "_model_name": "HBoxModel",
            "_view_count": null,
            "_view_module": "@jupyter-widgets/controls",
            "_view_module_version": "1.5.0",
            "_view_name": "HBoxView",
            "box_style": "",
            "children": [
              "IPY_MODEL_799752ea8fc140fca425877ad1cfe85a",
              "IPY_MODEL_5d1b4820f71d490a8836a27a5296619b",
              "IPY_MODEL_30596ec413a54aafa3a6f541d3ac56a9"
            ],
            "layout": "IPY_MODEL_17c516c3ff7149d9ac14f2b8758887cd"
          }
        },
        "799752ea8fc140fca425877ad1cfe85a": {
          "model_module": "@jupyter-widgets/controls",
          "model_name": "HTMLModel",
          "model_module_version": "1.5.0",
          "state": {
            "_dom_classes": [],
            "_model_module": "@jupyter-widgets/controls",
            "_model_module_version": "1.5.0",
            "_model_name": "HTMLModel",
            "_view_count": null,
            "_view_module": "@jupyter-widgets/controls",
            "_view_module_version": "1.5.0",
            "_view_name": "HTMLView",
            "description": "",
            "description_tooltip": null,
            "layout": "IPY_MODEL_e0ff3a273bec4b939430b97d0a91f4c1",
            "placeholder": "​",
            "style": "IPY_MODEL_cf31d622adb84f5c99992dae905df235",
            "value": " 42%"
          }
        },
        "5d1b4820f71d490a8836a27a5296619b": {
          "model_module": "@jupyter-widgets/controls",
          "model_name": "FloatProgressModel",
          "model_module_version": "1.5.0",
          "state": {
            "_dom_classes": [],
            "_model_module": "@jupyter-widgets/controls",
            "_model_module_version": "1.5.0",
            "_model_name": "FloatProgressModel",
            "_view_count": null,
            "_view_module": "@jupyter-widgets/controls",
            "_view_module_version": "1.5.0",
            "_view_name": "ProgressView",
            "bar_style": "",
            "description": "",
            "description_tooltip": null,
            "layout": "IPY_MODEL_ff0c0b4ed18b4694a3601017f9512cdc",
            "max": 500,
            "min": 0,
            "orientation": "horizontal",
            "style": "IPY_MODEL_f80d613095cc4d3e9826eb63f3436aed",
            "value": 209
          }
        },
        "30596ec413a54aafa3a6f541d3ac56a9": {
          "model_module": "@jupyter-widgets/controls",
          "model_name": "HTMLModel",
          "model_module_version": "1.5.0",
          "state": {
            "_dom_classes": [],
            "_model_module": "@jupyter-widgets/controls",
            "_model_module_version": "1.5.0",
            "_model_name": "HTMLModel",
            "_view_count": null,
            "_view_module": "@jupyter-widgets/controls",
            "_view_module_version": "1.5.0",
            "_view_name": "HTMLView",
            "description": "",
            "description_tooltip": null,
            "layout": "IPY_MODEL_0eebc15d392c44bf86df9d534592327f",
            "placeholder": "​",
            "style": "IPY_MODEL_9fe2225f58fc486fbcd04b0a6295645b",
            "value": " 209/500 [00:09&lt;00:13, 21.96it/s]"
          }
        },
        "17c516c3ff7149d9ac14f2b8758887cd": {
          "model_module": "@jupyter-widgets/base",
          "model_name": "LayoutModel",
          "model_module_version": "1.2.0",
          "state": {
            "_model_module": "@jupyter-widgets/base",
            "_model_module_version": "1.2.0",
            "_model_name": "LayoutModel",
            "_view_count": null,
            "_view_module": "@jupyter-widgets/base",
            "_view_module_version": "1.2.0",
            "_view_name": "LayoutView",
            "align_content": null,
            "align_items": null,
            "align_self": null,
            "border": null,
            "bottom": null,
            "display": null,
            "flex": null,
            "flex_flow": null,
            "grid_area": null,
            "grid_auto_columns": null,
            "grid_auto_flow": null,
            "grid_auto_rows": null,
            "grid_column": null,
            "grid_gap": null,
            "grid_row": null,
            "grid_template_areas": null,
            "grid_template_columns": null,
            "grid_template_rows": null,
            "height": null,
            "justify_content": null,
            "justify_items": null,
            "left": null,
            "margin": null,
            "max_height": null,
            "max_width": null,
            "min_height": null,
            "min_width": null,
            "object_fit": null,
            "object_position": null,
            "order": null,
            "overflow": null,
            "overflow_x": null,
            "overflow_y": null,
            "padding": null,
            "right": null,
            "top": null,
            "visibility": null,
            "width": null
          }
        },
        "e0ff3a273bec4b939430b97d0a91f4c1": {
          "model_module": "@jupyter-widgets/base",
          "model_name": "LayoutModel",
          "model_module_version": "1.2.0",
          "state": {
            "_model_module": "@jupyter-widgets/base",
            "_model_module_version": "1.2.0",
            "_model_name": "LayoutModel",
            "_view_count": null,
            "_view_module": "@jupyter-widgets/base",
            "_view_module_version": "1.2.0",
            "_view_name": "LayoutView",
            "align_content": null,
            "align_items": null,
            "align_self": null,
            "border": null,
            "bottom": null,
            "display": null,
            "flex": null,
            "flex_flow": null,
            "grid_area": null,
            "grid_auto_columns": null,
            "grid_auto_flow": null,
            "grid_auto_rows": null,
            "grid_column": null,
            "grid_gap": null,
            "grid_row": null,
            "grid_template_areas": null,
            "grid_template_columns": null,
            "grid_template_rows": null,
            "height": null,
            "justify_content": null,
            "justify_items": null,
            "left": null,
            "margin": null,
            "max_height": null,
            "max_width": null,
            "min_height": null,
            "min_width": null,
            "object_fit": null,
            "object_position": null,
            "order": null,
            "overflow": null,
            "overflow_x": null,
            "overflow_y": null,
            "padding": null,
            "right": null,
            "top": null,
            "visibility": null,
            "width": null
          }
        },
        "cf31d622adb84f5c99992dae905df235": {
          "model_module": "@jupyter-widgets/controls",
          "model_name": "DescriptionStyleModel",
          "model_module_version": "1.5.0",
          "state": {
            "_model_module": "@jupyter-widgets/controls",
            "_model_module_version": "1.5.0",
            "_model_name": "DescriptionStyleModel",
            "_view_count": null,
            "_view_module": "@jupyter-widgets/base",
            "_view_module_version": "1.2.0",
            "_view_name": "StyleView",
            "description_width": ""
          }
        },
        "ff0c0b4ed18b4694a3601017f9512cdc": {
          "model_module": "@jupyter-widgets/base",
          "model_name": "LayoutModel",
          "model_module_version": "1.2.0",
          "state": {
            "_model_module": "@jupyter-widgets/base",
            "_model_module_version": "1.2.0",
            "_model_name": "LayoutModel",
            "_view_count": null,
            "_view_module": "@jupyter-widgets/base",
            "_view_module_version": "1.2.0",
            "_view_name": "LayoutView",
            "align_content": null,
            "align_items": null,
            "align_self": null,
            "border": null,
            "bottom": null,
            "display": null,
            "flex": null,
            "flex_flow": null,
            "grid_area": null,
            "grid_auto_columns": null,
            "grid_auto_flow": null,
            "grid_auto_rows": null,
            "grid_column": null,
            "grid_gap": null,
            "grid_row": null,
            "grid_template_areas": null,
            "grid_template_columns": null,
            "grid_template_rows": null,
            "height": null,
            "justify_content": null,
            "justify_items": null,
            "left": null,
            "margin": null,
            "max_height": null,
            "max_width": null,
            "min_height": null,
            "min_width": null,
            "object_fit": null,
            "object_position": null,
            "order": null,
            "overflow": null,
            "overflow_x": null,
            "overflow_y": null,
            "padding": null,
            "right": null,
            "top": null,
            "visibility": null,
            "width": null
          }
        },
        "f80d613095cc4d3e9826eb63f3436aed": {
          "model_module": "@jupyter-widgets/controls",
          "model_name": "ProgressStyleModel",
          "model_module_version": "1.5.0",
          "state": {
            "_model_module": "@jupyter-widgets/controls",
            "_model_module_version": "1.5.0",
            "_model_name": "ProgressStyleModel",
            "_view_count": null,
            "_view_module": "@jupyter-widgets/base",
            "_view_module_version": "1.2.0",
            "_view_name": "StyleView",
            "bar_color": null,
            "description_width": ""
          }
        },
        "0eebc15d392c44bf86df9d534592327f": {
          "model_module": "@jupyter-widgets/base",
          "model_name": "LayoutModel",
          "model_module_version": "1.2.0",
          "state": {
            "_model_module": "@jupyter-widgets/base",
            "_model_module_version": "1.2.0",
            "_model_name": "LayoutModel",
            "_view_count": null,
            "_view_module": "@jupyter-widgets/base",
            "_view_module_version": "1.2.0",
            "_view_name": "LayoutView",
            "align_content": null,
            "align_items": null,
            "align_self": null,
            "border": null,
            "bottom": null,
            "display": null,
            "flex": null,
            "flex_flow": null,
            "grid_area": null,
            "grid_auto_columns": null,
            "grid_auto_flow": null,
            "grid_auto_rows": null,
            "grid_column": null,
            "grid_gap": null,
            "grid_row": null,
            "grid_template_areas": null,
            "grid_template_columns": null,
            "grid_template_rows": null,
            "height": null,
            "justify_content": null,
            "justify_items": null,
            "left": null,
            "margin": null,
            "max_height": null,
            "max_width": null,
            "min_height": null,
            "min_width": null,
            "object_fit": null,
            "object_position": null,
            "order": null,
            "overflow": null,
            "overflow_x": null,
            "overflow_y": null,
            "padding": null,
            "right": null,
            "top": null,
            "visibility": null,
            "width": null
          }
        },
        "9fe2225f58fc486fbcd04b0a6295645b": {
          "model_module": "@jupyter-widgets/controls",
          "model_name": "DescriptionStyleModel",
          "model_module_version": "1.5.0",
          "state": {
            "_model_module": "@jupyter-widgets/controls",
            "_model_module_version": "1.5.0",
            "_model_name": "DescriptionStyleModel",
            "_view_count": null,
            "_view_module": "@jupyter-widgets/base",
            "_view_module_version": "1.2.0",
            "_view_name": "StyleView",
            "description_width": ""
          }
        },
        "cd2dbd811f14463a8aa3faa294b45442": {
          "model_module": "@jupyter-widgets/controls",
          "model_name": "HBoxModel",
          "model_module_version": "1.5.0",
          "state": {
            "_dom_classes": [],
            "_model_module": "@jupyter-widgets/controls",
            "_model_module_version": "1.5.0",
            "_model_name": "HBoxModel",
            "_view_count": null,
            "_view_module": "@jupyter-widgets/controls",
            "_view_module_version": "1.5.0",
            "_view_name": "HBoxView",
            "box_style": "",
            "children": [
              "IPY_MODEL_04b6a98c449b4b869650b6aaefe33cb4",
              "IPY_MODEL_8ad8788bec52499196c5e537ad6c86e1",
              "IPY_MODEL_92aab68b05594a3c8621bac6fdb7d11b"
            ],
            "layout": "IPY_MODEL_9216e409727d4c099afab3cbd8fc0d54"
          }
        },
        "04b6a98c449b4b869650b6aaefe33cb4": {
          "model_module": "@jupyter-widgets/controls",
          "model_name": "HTMLModel",
          "model_module_version": "1.5.0",
          "state": {
            "_dom_classes": [],
            "_model_module": "@jupyter-widgets/controls",
            "_model_module_version": "1.5.0",
            "_model_name": "HTMLModel",
            "_view_count": null,
            "_view_module": "@jupyter-widgets/controls",
            "_view_module_version": "1.5.0",
            "_view_name": "HTMLView",
            "description": "",
            "description_tooltip": null,
            "layout": "IPY_MODEL_2f07ecacf8274c6d9f098da41a8c312a",
            "placeholder": "​",
            "style": "IPY_MODEL_f8d7baca7206474cba562676aa894b33",
            "value": "100%"
          }
        },
        "8ad8788bec52499196c5e537ad6c86e1": {
          "model_module": "@jupyter-widgets/controls",
          "model_name": "FloatProgressModel",
          "model_module_version": "1.5.0",
          "state": {
            "_dom_classes": [],
            "_model_module": "@jupyter-widgets/controls",
            "_model_module_version": "1.5.0",
            "_model_name": "FloatProgressModel",
            "_view_count": null,
            "_view_module": "@jupyter-widgets/controls",
            "_view_module_version": "1.5.0",
            "_view_name": "ProgressView",
            "bar_style": "success",
            "description": "",
            "description_tooltip": null,
            "layout": "IPY_MODEL_8447bddeb20e4fa380f2d4fa43990e03",
            "max": 50,
            "min": 0,
            "orientation": "horizontal",
            "style": "IPY_MODEL_2744e8da188c479c98f97816ecdb977b",
            "value": 50
          }
        },
        "92aab68b05594a3c8621bac6fdb7d11b": {
          "model_module": "@jupyter-widgets/controls",
          "model_name": "HTMLModel",
          "model_module_version": "1.5.0",
          "state": {
            "_dom_classes": [],
            "_model_module": "@jupyter-widgets/controls",
            "_model_module_version": "1.5.0",
            "_model_name": "HTMLModel",
            "_view_count": null,
            "_view_module": "@jupyter-widgets/controls",
            "_view_module_version": "1.5.0",
            "_view_name": "HTMLView",
            "description": "",
            "description_tooltip": null,
            "layout": "IPY_MODEL_623a59fff44f4e1eafa7efa3388e22f4",
            "placeholder": "​",
            "style": "IPY_MODEL_fcf16608af63478b9c8c7582d3aaf638",
            "value": " 50/50 [00:24&lt;00:00,  1.92it/s]"
          }
        },
        "9216e409727d4c099afab3cbd8fc0d54": {
          "model_module": "@jupyter-widgets/base",
          "model_name": "LayoutModel",
          "model_module_version": "1.2.0",
          "state": {
            "_model_module": "@jupyter-widgets/base",
            "_model_module_version": "1.2.0",
            "_model_name": "LayoutModel",
            "_view_count": null,
            "_view_module": "@jupyter-widgets/base",
            "_view_module_version": "1.2.0",
            "_view_name": "LayoutView",
            "align_content": null,
            "align_items": null,
            "align_self": null,
            "border": null,
            "bottom": null,
            "display": null,
            "flex": null,
            "flex_flow": null,
            "grid_area": null,
            "grid_auto_columns": null,
            "grid_auto_flow": null,
            "grid_auto_rows": null,
            "grid_column": null,
            "grid_gap": null,
            "grid_row": null,
            "grid_template_areas": null,
            "grid_template_columns": null,
            "grid_template_rows": null,
            "height": null,
            "justify_content": null,
            "justify_items": null,
            "left": null,
            "margin": null,
            "max_height": null,
            "max_width": null,
            "min_height": null,
            "min_width": null,
            "object_fit": null,
            "object_position": null,
            "order": null,
            "overflow": null,
            "overflow_x": null,
            "overflow_y": null,
            "padding": null,
            "right": null,
            "top": null,
            "visibility": null,
            "width": null
          }
        },
        "2f07ecacf8274c6d9f098da41a8c312a": {
          "model_module": "@jupyter-widgets/base",
          "model_name": "LayoutModel",
          "model_module_version": "1.2.0",
          "state": {
            "_model_module": "@jupyter-widgets/base",
            "_model_module_version": "1.2.0",
            "_model_name": "LayoutModel",
            "_view_count": null,
            "_view_module": "@jupyter-widgets/base",
            "_view_module_version": "1.2.0",
            "_view_name": "LayoutView",
            "align_content": null,
            "align_items": null,
            "align_self": null,
            "border": null,
            "bottom": null,
            "display": null,
            "flex": null,
            "flex_flow": null,
            "grid_area": null,
            "grid_auto_columns": null,
            "grid_auto_flow": null,
            "grid_auto_rows": null,
            "grid_column": null,
            "grid_gap": null,
            "grid_row": null,
            "grid_template_areas": null,
            "grid_template_columns": null,
            "grid_template_rows": null,
            "height": null,
            "justify_content": null,
            "justify_items": null,
            "left": null,
            "margin": null,
            "max_height": null,
            "max_width": null,
            "min_height": null,
            "min_width": null,
            "object_fit": null,
            "object_position": null,
            "order": null,
            "overflow": null,
            "overflow_x": null,
            "overflow_y": null,
            "padding": null,
            "right": null,
            "top": null,
            "visibility": null,
            "width": null
          }
        },
        "f8d7baca7206474cba562676aa894b33": {
          "model_module": "@jupyter-widgets/controls",
          "model_name": "DescriptionStyleModel",
          "model_module_version": "1.5.0",
          "state": {
            "_model_module": "@jupyter-widgets/controls",
            "_model_module_version": "1.5.0",
            "_model_name": "DescriptionStyleModel",
            "_view_count": null,
            "_view_module": "@jupyter-widgets/base",
            "_view_module_version": "1.2.0",
            "_view_name": "StyleView",
            "description_width": ""
          }
        },
        "8447bddeb20e4fa380f2d4fa43990e03": {
          "model_module": "@jupyter-widgets/base",
          "model_name": "LayoutModel",
          "model_module_version": "1.2.0",
          "state": {
            "_model_module": "@jupyter-widgets/base",
            "_model_module_version": "1.2.0",
            "_model_name": "LayoutModel",
            "_view_count": null,
            "_view_module": "@jupyter-widgets/base",
            "_view_module_version": "1.2.0",
            "_view_name": "LayoutView",
            "align_content": null,
            "align_items": null,
            "align_self": null,
            "border": null,
            "bottom": null,
            "display": null,
            "flex": null,
            "flex_flow": null,
            "grid_area": null,
            "grid_auto_columns": null,
            "grid_auto_flow": null,
            "grid_auto_rows": null,
            "grid_column": null,
            "grid_gap": null,
            "grid_row": null,
            "grid_template_areas": null,
            "grid_template_columns": null,
            "grid_template_rows": null,
            "height": null,
            "justify_content": null,
            "justify_items": null,
            "left": null,
            "margin": null,
            "max_height": null,
            "max_width": null,
            "min_height": null,
            "min_width": null,
            "object_fit": null,
            "object_position": null,
            "order": null,
            "overflow": null,
            "overflow_x": null,
            "overflow_y": null,
            "padding": null,
            "right": null,
            "top": null,
            "visibility": null,
            "width": null
          }
        },
        "2744e8da188c479c98f97816ecdb977b": {
          "model_module": "@jupyter-widgets/controls",
          "model_name": "ProgressStyleModel",
          "model_module_version": "1.5.0",
          "state": {
            "_model_module": "@jupyter-widgets/controls",
            "_model_module_version": "1.5.0",
            "_model_name": "ProgressStyleModel",
            "_view_count": null,
            "_view_module": "@jupyter-widgets/base",
            "_view_module_version": "1.2.0",
            "_view_name": "StyleView",
            "bar_color": null,
            "description_width": ""
          }
        },
        "623a59fff44f4e1eafa7efa3388e22f4": {
          "model_module": "@jupyter-widgets/base",
          "model_name": "LayoutModel",
          "model_module_version": "1.2.0",
          "state": {
            "_model_module": "@jupyter-widgets/base",
            "_model_module_version": "1.2.0",
            "_model_name": "LayoutModel",
            "_view_count": null,
            "_view_module": "@jupyter-widgets/base",
            "_view_module_version": "1.2.0",
            "_view_name": "LayoutView",
            "align_content": null,
            "align_items": null,
            "align_self": null,
            "border": null,
            "bottom": null,
            "display": null,
            "flex": null,
            "flex_flow": null,
            "grid_area": null,
            "grid_auto_columns": null,
            "grid_auto_flow": null,
            "grid_auto_rows": null,
            "grid_column": null,
            "grid_gap": null,
            "grid_row": null,
            "grid_template_areas": null,
            "grid_template_columns": null,
            "grid_template_rows": null,
            "height": null,
            "justify_content": null,
            "justify_items": null,
            "left": null,
            "margin": null,
            "max_height": null,
            "max_width": null,
            "min_height": null,
            "min_width": null,
            "object_fit": null,
            "object_position": null,
            "order": null,
            "overflow": null,
            "overflow_x": null,
            "overflow_y": null,
            "padding": null,
            "right": null,
            "top": null,
            "visibility": null,
            "width": null
          }
        },
        "fcf16608af63478b9c8c7582d3aaf638": {
          "model_module": "@jupyter-widgets/controls",
          "model_name": "DescriptionStyleModel",
          "model_module_version": "1.5.0",
          "state": {
            "_model_module": "@jupyter-widgets/controls",
            "_model_module_version": "1.5.0",
            "_model_name": "DescriptionStyleModel",
            "_view_count": null,
            "_view_module": "@jupyter-widgets/base",
            "_view_module_version": "1.2.0",
            "_view_name": "StyleView",
            "description_width": ""
          }
        },
        "a163cc106d2d4bb68fc7b25c556f3141": {
          "model_module": "@jupyter-widgets/controls",
          "model_name": "HBoxModel",
          "model_module_version": "1.5.0",
          "state": {
            "_dom_classes": [],
            "_model_module": "@jupyter-widgets/controls",
            "_model_module_version": "1.5.0",
            "_model_name": "HBoxModel",
            "_view_count": null,
            "_view_module": "@jupyter-widgets/controls",
            "_view_module_version": "1.5.0",
            "_view_name": "HBoxView",
            "box_style": "",
            "children": [
              "IPY_MODEL_9c1e84da92e242698455379abd80e75e",
              "IPY_MODEL_3c0f4934e02948aabd644c3c47034e5a",
              "IPY_MODEL_2516853927a346ad8ba7a24ec27cde80"
            ],
            "layout": "IPY_MODEL_3a54d392243f4ddd8436983fbf36a911"
          }
        },
        "9c1e84da92e242698455379abd80e75e": {
          "model_module": "@jupyter-widgets/controls",
          "model_name": "HTMLModel",
          "model_module_version": "1.5.0",
          "state": {
            "_dom_classes": [],
            "_model_module": "@jupyter-widgets/controls",
            "_model_module_version": "1.5.0",
            "_model_name": "HTMLModel",
            "_view_count": null,
            "_view_module": "@jupyter-widgets/controls",
            "_view_module_version": "1.5.0",
            "_view_name": "HTMLView",
            "description": "",
            "description_tooltip": null,
            "layout": "IPY_MODEL_e6710cdecc134eaf98e23b9b31c6d9aa",
            "placeholder": "​",
            "style": "IPY_MODEL_d5c28a423c054bb8833cdca22bad3710",
            "value": "100%"
          }
        },
        "3c0f4934e02948aabd644c3c47034e5a": {
          "model_module": "@jupyter-widgets/controls",
          "model_name": "FloatProgressModel",
          "model_module_version": "1.5.0",
          "state": {
            "_dom_classes": [],
            "_model_module": "@jupyter-widgets/controls",
            "_model_module_version": "1.5.0",
            "_model_name": "FloatProgressModel",
            "_view_count": null,
            "_view_module": "@jupyter-widgets/controls",
            "_view_module_version": "1.5.0",
            "_view_name": "ProgressView",
            "bar_style": "success",
            "description": "",
            "description_tooltip": null,
            "layout": "IPY_MODEL_a2585a56ff884b40a62b560d615aa417",
            "max": 50,
            "min": 0,
            "orientation": "horizontal",
            "style": "IPY_MODEL_3e55eeb6011d4a549f90313a5f9575b0",
            "value": 50
          }
        },
        "2516853927a346ad8ba7a24ec27cde80": {
          "model_module": "@jupyter-widgets/controls",
          "model_name": "HTMLModel",
          "model_module_version": "1.5.0",
          "state": {
            "_dom_classes": [],
            "_model_module": "@jupyter-widgets/controls",
            "_model_module_version": "1.5.0",
            "_model_name": "HTMLModel",
            "_view_count": null,
            "_view_module": "@jupyter-widgets/controls",
            "_view_module_version": "1.5.0",
            "_view_name": "HTMLView",
            "description": "",
            "description_tooltip": null,
            "layout": "IPY_MODEL_94de8d97f7864f5abe0e8cdc9d2adc28",
            "placeholder": "​",
            "style": "IPY_MODEL_e54ac997d6194d3183a386199e4c81ed",
            "value": " 50/50 [00:01&lt;00:00, 50.43it/s]"
          }
        },
        "3a54d392243f4ddd8436983fbf36a911": {
          "model_module": "@jupyter-widgets/base",
          "model_name": "LayoutModel",
          "model_module_version": "1.2.0",
          "state": {
            "_model_module": "@jupyter-widgets/base",
            "_model_module_version": "1.2.0",
            "_model_name": "LayoutModel",
            "_view_count": null,
            "_view_module": "@jupyter-widgets/base",
            "_view_module_version": "1.2.0",
            "_view_name": "LayoutView",
            "align_content": null,
            "align_items": null,
            "align_self": null,
            "border": null,
            "bottom": null,
            "display": null,
            "flex": null,
            "flex_flow": null,
            "grid_area": null,
            "grid_auto_columns": null,
            "grid_auto_flow": null,
            "grid_auto_rows": null,
            "grid_column": null,
            "grid_gap": null,
            "grid_row": null,
            "grid_template_areas": null,
            "grid_template_columns": null,
            "grid_template_rows": null,
            "height": null,
            "justify_content": null,
            "justify_items": null,
            "left": null,
            "margin": null,
            "max_height": null,
            "max_width": null,
            "min_height": null,
            "min_width": null,
            "object_fit": null,
            "object_position": null,
            "order": null,
            "overflow": null,
            "overflow_x": null,
            "overflow_y": null,
            "padding": null,
            "right": null,
            "top": null,
            "visibility": null,
            "width": null
          }
        },
        "e6710cdecc134eaf98e23b9b31c6d9aa": {
          "model_module": "@jupyter-widgets/base",
          "model_name": "LayoutModel",
          "model_module_version": "1.2.0",
          "state": {
            "_model_module": "@jupyter-widgets/base",
            "_model_module_version": "1.2.0",
            "_model_name": "LayoutModel",
            "_view_count": null,
            "_view_module": "@jupyter-widgets/base",
            "_view_module_version": "1.2.0",
            "_view_name": "LayoutView",
            "align_content": null,
            "align_items": null,
            "align_self": null,
            "border": null,
            "bottom": null,
            "display": null,
            "flex": null,
            "flex_flow": null,
            "grid_area": null,
            "grid_auto_columns": null,
            "grid_auto_flow": null,
            "grid_auto_rows": null,
            "grid_column": null,
            "grid_gap": null,
            "grid_row": null,
            "grid_template_areas": null,
            "grid_template_columns": null,
            "grid_template_rows": null,
            "height": null,
            "justify_content": null,
            "justify_items": null,
            "left": null,
            "margin": null,
            "max_height": null,
            "max_width": null,
            "min_height": null,
            "min_width": null,
            "object_fit": null,
            "object_position": null,
            "order": null,
            "overflow": null,
            "overflow_x": null,
            "overflow_y": null,
            "padding": null,
            "right": null,
            "top": null,
            "visibility": null,
            "width": null
          }
        },
        "d5c28a423c054bb8833cdca22bad3710": {
          "model_module": "@jupyter-widgets/controls",
          "model_name": "DescriptionStyleModel",
          "model_module_version": "1.5.0",
          "state": {
            "_model_module": "@jupyter-widgets/controls",
            "_model_module_version": "1.5.0",
            "_model_name": "DescriptionStyleModel",
            "_view_count": null,
            "_view_module": "@jupyter-widgets/base",
            "_view_module_version": "1.2.0",
            "_view_name": "StyleView",
            "description_width": ""
          }
        },
        "a2585a56ff884b40a62b560d615aa417": {
          "model_module": "@jupyter-widgets/base",
          "model_name": "LayoutModel",
          "model_module_version": "1.2.0",
          "state": {
            "_model_module": "@jupyter-widgets/base",
            "_model_module_version": "1.2.0",
            "_model_name": "LayoutModel",
            "_view_count": null,
            "_view_module": "@jupyter-widgets/base",
            "_view_module_version": "1.2.0",
            "_view_name": "LayoutView",
            "align_content": null,
            "align_items": null,
            "align_self": null,
            "border": null,
            "bottom": null,
            "display": null,
            "flex": null,
            "flex_flow": null,
            "grid_area": null,
            "grid_auto_columns": null,
            "grid_auto_flow": null,
            "grid_auto_rows": null,
            "grid_column": null,
            "grid_gap": null,
            "grid_row": null,
            "grid_template_areas": null,
            "grid_template_columns": null,
            "grid_template_rows": null,
            "height": null,
            "justify_content": null,
            "justify_items": null,
            "left": null,
            "margin": null,
            "max_height": null,
            "max_width": null,
            "min_height": null,
            "min_width": null,
            "object_fit": null,
            "object_position": null,
            "order": null,
            "overflow": null,
            "overflow_x": null,
            "overflow_y": null,
            "padding": null,
            "right": null,
            "top": null,
            "visibility": null,
            "width": null
          }
        },
        "3e55eeb6011d4a549f90313a5f9575b0": {
          "model_module": "@jupyter-widgets/controls",
          "model_name": "ProgressStyleModel",
          "model_module_version": "1.5.0",
          "state": {
            "_model_module": "@jupyter-widgets/controls",
            "_model_module_version": "1.5.0",
            "_model_name": "ProgressStyleModel",
            "_view_count": null,
            "_view_module": "@jupyter-widgets/base",
            "_view_module_version": "1.2.0",
            "_view_name": "StyleView",
            "bar_color": null,
            "description_width": ""
          }
        },
        "94de8d97f7864f5abe0e8cdc9d2adc28": {
          "model_module": "@jupyter-widgets/base",
          "model_name": "LayoutModel",
          "model_module_version": "1.2.0",
          "state": {
            "_model_module": "@jupyter-widgets/base",
            "_model_module_version": "1.2.0",
            "_model_name": "LayoutModel",
            "_view_count": null,
            "_view_module": "@jupyter-widgets/base",
            "_view_module_version": "1.2.0",
            "_view_name": "LayoutView",
            "align_content": null,
            "align_items": null,
            "align_self": null,
            "border": null,
            "bottom": null,
            "display": null,
            "flex": null,
            "flex_flow": null,
            "grid_area": null,
            "grid_auto_columns": null,
            "grid_auto_flow": null,
            "grid_auto_rows": null,
            "grid_column": null,
            "grid_gap": null,
            "grid_row": null,
            "grid_template_areas": null,
            "grid_template_columns": null,
            "grid_template_rows": null,
            "height": null,
            "justify_content": null,
            "justify_items": null,
            "left": null,
            "margin": null,
            "max_height": null,
            "max_width": null,
            "min_height": null,
            "min_width": null,
            "object_fit": null,
            "object_position": null,
            "order": null,
            "overflow": null,
            "overflow_x": null,
            "overflow_y": null,
            "padding": null,
            "right": null,
            "top": null,
            "visibility": null,
            "width": null
          }
        },
        "e54ac997d6194d3183a386199e4c81ed": {
          "model_module": "@jupyter-widgets/controls",
          "model_name": "DescriptionStyleModel",
          "model_module_version": "1.5.0",
          "state": {
            "_model_module": "@jupyter-widgets/controls",
            "_model_module_version": "1.5.0",
            "_model_name": "DescriptionStyleModel",
            "_view_count": null,
            "_view_module": "@jupyter-widgets/base",
            "_view_module_version": "1.2.0",
            "_view_name": "StyleView",
            "description_width": ""
          }
        }
      }
    }
  },
  "cells": [
    {
      "cell_type": "markdown",
      "metadata": {
        "id": "view-in-github",
        "colab_type": "text"
      },
      "source": [
        "<a href=\"https://colab.research.google.com/github/SARA3SAEED/abu-LLM/blob/main/6_abu_session_02_01.ipynb\" target=\"_parent\"><img src=\"https://colab.research.google.com/assets/colab-badge.svg\" alt=\"Open In Colab\"/></a>"
      ]
    },
    {
      "cell_type": "code",
      "execution_count": null,
      "metadata": {
        "id": "W5Q8_DDZKqG0"
      },
      "outputs": [],
      "source": [
        "!pip install sentence-transformers==3.0.1 datasets"
      ]
    },
    {
      "cell_type": "markdown",
      "source": [
        "## Download Dataset"
      ],
      "metadata": {
        "id": "eAbhSLIWLkbH"
      }
    },
    {
      "cell_type": "code",
      "source": [
        "from datasets import load_dataset\n",
        "from tqdm.auto import tqdm\n",
        "import pandas as pd"
      ],
      "metadata": {
        "id": "UIPnOMdlNRff"
      },
      "execution_count": null,
      "outputs": []
    },
    {
      "cell_type": "code",
      "source": [
        "ds = load_dataset(\"Cohere/wikipedia-22-12\", \"ar\", streaming=True, trust_remote_code=True)"
      ],
      "metadata": {
        "colab": {
          "base_uri": "https://localhost:8080/",
          "height": 244,
          "referenced_widgets": [
            "93f0d3fda89f428299eeb44f51c5d2ad",
            "49cc535481464b1885aea84b5bb5a712",
            "439fe4d71fd64bcebf6951428239cb30",
            "78d78a9be3f447609b66659f0a81079d",
            "acd48e7d8f1849c2a0ca17f22ae6952f",
            "85070a89f6f147a0ac56977c11e64b93",
            "f1dbd127dd634eabb817abb1b9a8417d",
            "6172d3a8bcc04e8e8f5d1d85bf89a51c",
            "debc7d5393cc45fb8dfd21b664087627",
            "fe2780ae94294db1b7b282459bd5dfe6",
            "80e4f21e28ee4167a001d5f3a1be7ab3",
            "2762e9b0afe744adb7a06c100be9415b",
            "31d17bdf6e7349bb86f34cc22807d774",
            "9a1e52869b534d4bb27a60a519b5a4be",
            "1ed7fe3f8a3f4ae5afc9066961060783",
            "7bb10c9a40374dd0a5dae619a1394e9f",
            "9421ff1e6b14493c97e4e61d5ca2eab1",
            "5ac812a1922846de89725ef77c269077",
            "fbd099effe9f4fa9966cd29e5c1d03fe",
            "69d12fb2ae6b46bd8c498753af8ed298",
            "ff5eeb208fc44d4f99c1ff27baa05a62",
            "b0e367d4c4ca4d8cbb10ff3650365e39"
          ]
        },
        "id": "cM00seAlLmJT",
        "outputId": "2eced045-f842-4187-889c-f9e622fae23b"
      },
      "execution_count": null,
      "outputs": [
        {
          "output_type": "stream",
          "name": "stderr",
          "text": [
            "/usr/local/lib/python3.10/dist-packages/huggingface_hub/utils/_token.py:89: UserWarning: \n",
            "The secret `HF_TOKEN` does not exist in your Colab secrets.\n",
            "To authenticate with the Hugging Face Hub, create a token in your settings tab (https://huggingface.co/settings/tokens), set it as secret in your Google Colab and restart your session.\n",
            "You will be able to reuse this secret in all of your notebooks.\n",
            "Please note that authentication is recommended but still optional to access public models or datasets.\n",
            "  warnings.warn(\n"
          ]
        },
        {
          "output_type": "display_data",
          "data": {
            "text/plain": [
              "Downloading builder script:   0%|          | 0.00/3.39k [00:00<?, ?B/s]"
            ],
            "application/vnd.jupyter.widget-view+json": {
              "version_major": 2,
              "version_minor": 0,
              "model_id": "93f0d3fda89f428299eeb44f51c5d2ad"
            }
          },
          "metadata": {}
        },
        {
          "output_type": "display_data",
          "data": {
            "text/plain": [
              "Downloading readme:   0%|          | 0.00/3.87k [00:00<?, ?B/s]"
            ],
            "application/vnd.jupyter.widget-view+json": {
              "version_major": 2,
              "version_minor": 0,
              "model_id": "2762e9b0afe744adb7a06c100be9415b"
            }
          },
          "metadata": {}
        },
        {
          "output_type": "stream",
          "name": "stderr",
          "text": [
            "Repo card metadata block was not found. Setting CardData to empty.\n",
            "WARNING:huggingface_hub.repocard:Repo card metadata block was not found. Setting CardData to empty.\n"
          ]
        }
      ]
    },
    {
      "cell_type": "code",
      "source": [
        "max_titles = 500\n",
        "all_titles = set()\n",
        "collected_recs = []\n",
        "\n",
        "progress_bar = tqdm(total=max_titles)\n",
        "\n",
        "for rec in ds[\"train\"]:\n",
        "    if rec[\"title\"] not in all_titles:\n",
        "        all_titles.add(rec[\"title\"])\n",
        "        progress_bar.update(1)\n",
        "\n",
        "    collected_recs.append(rec)\n",
        "\n",
        "    if len(all_titles) > max_titles:\n",
        "        break"
      ],
      "metadata": {
        "colab": {
          "base_uri": "https://localhost:8080/",
          "height": 49,
          "referenced_widgets": [
            "314ce7a065df4c878ae10e821a083bd5",
            "799752ea8fc140fca425877ad1cfe85a",
            "5d1b4820f71d490a8836a27a5296619b",
            "30596ec413a54aafa3a6f541d3ac56a9",
            "17c516c3ff7149d9ac14f2b8758887cd",
            "e0ff3a273bec4b939430b97d0a91f4c1",
            "cf31d622adb84f5c99992dae905df235",
            "ff0c0b4ed18b4694a3601017f9512cdc",
            "f80d613095cc4d3e9826eb63f3436aed",
            "0eebc15d392c44bf86df9d534592327f",
            "9fe2225f58fc486fbcd04b0a6295645b"
          ]
        },
        "id": "hjgHUNB2MDIe",
        "outputId": "7e100e7e-7b68-428e-d730-399c8fe62d43"
      },
      "execution_count": null,
      "outputs": [
        {
          "output_type": "display_data",
          "data": {
            "text/plain": [
              "  0%|          | 0/500 [00:00<?, ?it/s]"
            ],
            "application/vnd.jupyter.widget-view+json": {
              "version_major": 2,
              "version_minor": 0,
              "model_id": "314ce7a065df4c878ae10e821a083bd5"
            }
          },
          "metadata": {}
        }
      ]
    },
    {
      "cell_type": "code",
      "source": [
        "collected_df = pd.DataFrame(collected_recs)\n",
        "collected_df.shape"
      ],
      "metadata": {
        "id": "68RN-I4ONVpN"
      },
      "execution_count": null,
      "outputs": []
    },
    {
      "cell_type": "code",
      "source": [
        "collected_df[\"text_len\"] = collected_df[\"text\"].apply( lambda text: len(text) )"
      ],
      "metadata": {
        "id": "obh1WIGvNhwl"
      },
      "execution_count": null,
      "outputs": []
    },
    {
      "cell_type": "code",
      "source": [
        "collected_df[\"text_len\"].describe()"
      ],
      "metadata": {
        "id": "-fI7f2K9OCqG"
      },
      "execution_count": null,
      "outputs": []
    },
    {
      "cell_type": "code",
      "source": [
        "cleaned_collected_df = collected_df[ collected_df[\"text_len\"] < 1500 ]\n",
        "cleaned_collected_df[\"text_len\"].describe()"
      ],
      "metadata": {
        "id": "xlsVeWywONTo"
      },
      "execution_count": null,
      "outputs": []
    },
    {
      "cell_type": "code",
      "source": [
        "cleaned_collected_df = cleaned_collected_df.sample(frac=1, random_state=101)"
      ],
      "metadata": {
        "id": "bQ-3fKaXOsEs"
      },
      "execution_count": null,
      "outputs": []
    },
    {
      "cell_type": "code",
      "source": [
        "cleaned_collected_df.head()"
      ],
      "metadata": {
        "id": "SVp_suBGO8JN"
      },
      "execution_count": null,
      "outputs": []
    },
    {
      "cell_type": "markdown",
      "source": [
        "### Ollama Embeddings"
      ],
      "metadata": {
        "id": "G7ThPrGUP3g3"
      }
    },
    {
      "cell_type": "code",
      "source": [
        "!pip install ollama==0.3.2\n",
        "!curl https://ollama.ai/install.sh | sh"
      ],
      "metadata": {
        "id": "N9Du24pwP5Wj"
      },
      "execution_count": null,
      "outputs": []
    },
    {
      "cell_type": "code",
      "source": [
        "ollama_model_id = \"paraphrase-multilingual\""
      ],
      "metadata": {
        "id": "cjt3h9pyQADd"
      },
      "execution_count": null,
      "outputs": []
    },
    {
      "cell_type": "code",
      "source": [
        "# run ollama server\n",
        "!nohup ollama serve &\n",
        "!sleep 8 && tail nohup.out"
      ],
      "metadata": {
        "id": "EA922MMoQDj2"
      },
      "execution_count": null,
      "outputs": []
    },
    {
      "cell_type": "code",
      "source": [
        "!ollama pull {ollama_model_id}"
      ],
      "metadata": {
        "id": "rgBuU3lAQNZM"
      },
      "execution_count": null,
      "outputs": []
    },
    {
      "cell_type": "code",
      "source": [
        "!nohup ollama run {ollama_model_id} &\n",
        "!sleep 8 && tail nohup.out"
      ],
      "metadata": {
        "id": "-ORpx-bJQSpH"
      },
      "execution_count": null,
      "outputs": []
    },
    {
      "cell_type": "markdown",
      "source": [
        "### Evaluate Ollama Embedding"
      ],
      "metadata": {
        "id": "eEKUZPvTQwrH"
      }
    },
    {
      "cell_type": "code",
      "source": [
        "from sentence_transformers.util import semantic_search, cos_sim\n",
        "import torch\n",
        "import ollama"
      ],
      "metadata": {
        "id": "IruyA5qQSh41"
      },
      "execution_count": null,
      "outputs": []
    },
    {
      "cell_type": "code",
      "source": [
        "corpus = cleaned_collected_df[\"text\"].values[:50]\n",
        "\n",
        "corpus_embeddings = []\n",
        "for text in tqdm(corpus):\n",
        "    corpus_embeddings.append(\n",
        "        ollama.embeddings(model=ollama_model_id, prompt=text)[\"embedding\"]\n",
        "    )"
      ],
      "metadata": {
        "colab": {
          "base_uri": "https://localhost:8080/",
          "height": 49,
          "referenced_widgets": [
            "cd2dbd811f14463a8aa3faa294b45442",
            "04b6a98c449b4b869650b6aaefe33cb4",
            "8ad8788bec52499196c5e537ad6c86e1",
            "92aab68b05594a3c8621bac6fdb7d11b",
            "9216e409727d4c099afab3cbd8fc0d54",
            "2f07ecacf8274c6d9f098da41a8c312a",
            "f8d7baca7206474cba562676aa894b33",
            "8447bddeb20e4fa380f2d4fa43990e03",
            "2744e8da188c479c98f97816ecdb977b",
            "623a59fff44f4e1eafa7efa3388e22f4",
            "fcf16608af63478b9c8c7582d3aaf638"
          ]
        },
        "id": "Eh854ZkoQzDY",
        "outputId": "976bd990-34ea-40dc-ddf6-116fea128cb2"
      },
      "execution_count": null,
      "outputs": [
        {
          "output_type": "display_data",
          "data": {
            "text/plain": [
              "  0%|          | 0/50 [00:00<?, ?it/s]"
            ],
            "application/vnd.jupyter.widget-view+json": {
              "version_major": 2,
              "version_minor": 0,
              "model_id": "cd2dbd811f14463a8aa3faa294b45442"
            }
          },
          "metadata": {}
        }
      ]
    },
    {
      "cell_type": "code",
      "source": [
        "question_text = \"من مترجم كتابات ابن حيان؟\"\n",
        "question_embedding =  ollama.embeddings(\n",
        "                        model='paraphrase-multilingual',\n",
        "                        prompt=question_text,\n",
        "                    )['embedding']"
      ],
      "metadata": {
        "id": "lH2FMeUORcge"
      },
      "execution_count": null,
      "outputs": []
    },
    {
      "cell_type": "code",
      "source": [
        "question_embedding = torch.FloatTensor([question_embedding])\n",
        "corpus_embeddings = torch.FloatTensor(corpus_embeddings)"
      ],
      "metadata": {
        "id": "UH3NX0kDSrdL"
      },
      "execution_count": null,
      "outputs": []
    },
    {
      "cell_type": "code",
      "source": [
        "similar_documents = semantic_search(\n",
        "    query_embeddings=question_embedding,\n",
        "    corpus_embeddings=corpus_embeddings,\n",
        "    top_k=10\n",
        ")"
      ],
      "metadata": {
        "id": "UlDqdFPIS-jk"
      },
      "execution_count": null,
      "outputs": []
    },
    {
      "cell_type": "code",
      "source": [
        "for document in similar_documents[0]:\n",
        "    _id = document[\"corpus_id\"]\n",
        "    text = corpus[_id]\n",
        "    score = document[\"score\"]\n",
        "\n",
        "    print(\"Score:\", score)\n",
        "    print(\"Text:\", text)\n",
        "    print(\"=\"*30)"
      ],
      "metadata": {
        "colab": {
          "base_uri": "https://localhost:8080/"
        },
        "id": "2NQqkhmPTSjv",
        "outputId": "573b73c0-019f-44fa-99d0-97151caa6614"
      },
      "execution_count": null,
      "outputs": [
        {
          "output_type": "stream",
          "name": "stdout",
          "text": [
            "Score: 0.5641813278198242\n",
            "Text: أعطى الملحن اللبناني فيلمون وهبي (1918ـــ 1985) ألحانه لـ 27 أغنية من أغاني فيروز، منها 18 أغنية من تأليف وتوزيع وإشراف الأخوين رحباني غنتها فيروز في الفترة من 1962-1976، وثماني أغنيات لحنها لها فيلمون بعد انفصالها عن الأخوين رحباني غنتها فيروز في الفترة من 1980-1985، وجميعها من كلمات جوزيف حرب عدا واحدة فقط من كلمات طلال حيدر وهي أغنية (يا رايح)، ولا تزال هذه الأعمال حاضرة في الذاكرة اللبنانية والعربية فقد كان فيلمون هو الاستثناء الوحيد الذي تعاون معه الأخوين رحباني كملحن من خارج الأسرة الرحبانية، وقد اعترف منصور الرحباني بالنجاح الكبير الذي حققته ألحان فيلمون على حنجرة فيروز فيقول :.\n",
            "==============================\n",
            "Score: 0.5345969796180725\n",
            "Text: وقد ذكرنا فيما تقدم أن الحجاج حج بالناس في هذه السنة الخارجة، وكان في الحج ابن عمر، وقد كتب عبد الملك إلى الحجاج أن يأتم بابن عمر في المناسك كما ثبت ذلك في الصحيحين.\n",
            "==============================\n",
            "Score: 0.529414176940918\n",
            "Text: استطاع الفنانون الإيرانيون أن يبدعوا في الفن التصويري لمضامين المخطوطات الفارسية والعربية، كما نجحوا في تجويد الخط وتحسينه وتطويره، فقد امتاز الخطاط الإيراني بالجودة والإتقان، وكان في أغلب أحيانه مبدعًا في لوحاته. ابتكر الخطاطون الإيرانيون الخط الفارسي في القرن السابع الهجري (الثالث عشر الميلادي). ثم ابتكروا خط النستعليق من الخط الفارسي والنسخ والتعليق، وكان هذا الابتكار بجهود الخطاط عماد الدين الشيرازي الحسني، إذ وضع له قاعدة اشتهرت باسمه فيما بعد فسمِّيت قاعدة عماد. كما حوَّروا الخط الكوفي فأصبحت المدَّات فيه أكثر من الجرَّات.\n",
            "==============================\n",
            "Score: 0.5127449035644531\n",
            "Text: ارتحل الرسول محمدٌ من «ذفران» فسلك على ثناياً يقال لها الأصافر، ثم انحط إلى بلد يقال لها الدبة وترك الحنان بيمين وهو كثيب كالجبل العظيم، ثم نزل قريباً من بدر، فركب هو وأبو بكر الصديق حتى وقفا على شيخ من العرب يقال له سفيان الضمري الكناني، فسأله عن قريش، وعن محمد وأصحابه، وما بلغه عنهم، فقال الشيخ: «لا أخبركما حتى تخبراني ممن أنتما؟»، فقال له الرسول محمد: ، قال: «أذاك بذاك؟»، قال: ، قال الشيخ: «فإنه بلغني أن محمداً وأصحابه خرجوا يوم كذا وكذا، فإن كان صدق الذي أخبرني، فهم اليوم بمكان كذا وكذا (للمكان الذي فيه الرسول محمد)، وبلغني أن قريشاً خرجوا يوم كذا وكذا، فإن كان الذي أخبرني صدقني فهم اليوم بمكان كذا وكذا (للمكان الذي فيه قريش)»، فلما فرغ من خبره قال: «ممن أنتما؟»، فقال له الرسول محمد: ، ثم انصرف عنه والشيخ يقول: «ما من ماء، أمن ماء العراق؟».\n",
            "==============================\n",
            "Score: 0.4909208416938782\n",
            "Text: نشأ أبو حنيفة بالكوفة وتربى بها، وعاش أكثر حياته فيها، متعلماً ومجادلاً ومعلماً، ولم تُبين المصادر حياة أبيه وحاله وما كان يتولاه من الأعمال، ولكن قد يُستنبط منها شيء من أحواله، فقد يستفاد منها أنه كان من أهل اليسار والغنى، وأنه كان من التجار، وأنه كان مسلماً حسن الإسلام. ولقد روي أن علياً بن أبي طالب دعا لثابت عندما رآه بالبركة فيه وفي ذريته، ويؤخذ من هذا أنه كان مسلماً وقت هذه الدعوة، وقد صرحت كتب التاريخ بأن ثابتاً ولد على الإسلام، وعلى ذلك يكون أبو حنيفة قد نشأ أول نشأته في بيت إسلامي خالص، وذلك ما يقرره العلماء جميعاً إلا من لا يؤبه لشذوذهم ولا يلتفت لكلامهم.\n",
            "==============================\n",
            "Score: 0.48339569568634033\n",
            "Text: بعد ظهور الخوارج وانشقاقهم عن جماعة الصحابة تفرعت منهم فرق كثيرة، وقد وصفهم أهل السنة بأنهم أهل الأهواء المضلة الذين استحدثوا بأهوائهم ما لا أصل له في الشريعة وتكلموا فيما نهى الله ورسوله عن البحث فيه فاختلفت أهواؤهم وافترقت آرآؤهم وتحولت شبهاتهم إلى معتقدات صاروا بسببها جماعات متفرقة، وكان أئمة أهل السنة من متقدمي عصر السلف يكتفون بإضاح القول فيما يحتاج إلى إيضاح ولا يتكلمون فيما نهى الله ورسوله عن الخوض فيه، ويتركون الخصام والجدال والمراء فيه، قال ابن خلدون في تاريخه المدون في القرن الثامن الهجري: . وجاء في كلامه أنه لما كان وجوب التنزيه لله تعالى في وصفه بالكمال المطلق، ودلت عليه النصوص كقوله تعالى: فقد بالغت القدرية (المعتزلة) في التنزيه مما أدى إلى استحداث بدعة القول بإنكار صفات ثابتة بالنص، وبالمقابل فقد ظهر في عصر السلف مبتدعة بالغوا في إثبات الصفات، اتبعوا المتشابهات من النصوص وفسروها بحسب الظاهر، فوقعوا في التجسيم المناقض لآيات التنزيه الصريح، وذكر أبو الفتح الشهرستاني (479 هـ/ 548 هـ) في كتابه: «الملل والنحل» أن المعتزلة لما بالغوا في التنزيه فأنكروا صفات ثابتة بالنص أطلقوا عليهم معطلة، وأن السلف لما كانوا من مثبتي الصفات كانوا يسمونهم الصفاتية، وأن بعض السلف بالغوا في إثبات الصفات فوقعوا في التجسيم، وذكر منها بدعة محمد بن كرام السجستاني، في القول بالتجسيم وتنسب إليه الكرامية، وقد نصرهم محمود بن سُبُكْتِكِيْن السلطان، (وكان من الكرامية). قال ابن خلدون: .\n",
            "==============================\n",
            "Score: 0.4633135497570038\n",
            "Text: شهدت منطقة نجد من القرن الثامن إلى القرن الثاني عشر الهجري انتشار المذهب الحنبلي فيها، وقد شهد القرن العاشر الهجري بروز عدد من العلماء الحنابلة الذين كان لبعضهم إسهامات علمية في الفقه الحنبلي، إلا أن مرحلة نهضة المذهب الحنبلي في العصر الحديث ارتبطت باسم محمد بن عبد الوهاب (المتوفى سنة 1206هـ)، وقد قام محمد بن سعود مؤسس الدولة السعودية الأولى بدعم الدعوة الوهابية ومناصرتها، حتى أصبح المذهب الحنبلي المذهب الرسميّ للدولة السعودية، وكان من وسائل انتشار المذهب الحنبلي كثرةُ المؤلفات والرسائل التي أعدّها علماء نجد لبيان ما عليه الدعوة الوهابية التي خرجت من نجد.\n",
            "==============================\n",
            "Score: 0.43590980768203735\n",
            "Text: النظرية البديلة تقول أن العرب اسم علم للشعب في البدو والحضر لا مضارب القبائل فحسب، بكل الأحوال فإن أقدم مملكة عربية حضرية غير مرتحلة هي مملكة لحيان في القرن الرابع قبل الميلاد وايضا مملكة كندة في القرن الثاني قبل الميلاد؛ مع الإشارة لكون حضارة اليمن القديم، الزراعية وغير المرتحلة أساسًا قد صنفت بشكل حضارة سامية مستقلة، أو أفرد لها تصنيف فرعي خاص هو عرب الجنوب. خلال الازدهار الفكري في العصر العباسي، والمتأخر زمنيًا عن نشأة المُصطلح، قالت المعاجم أن عربي تعني غير أهل البادية، وأنّ أهل البادية يدعون \"أعراب\".\n",
            "==============================\n",
            "Score: 0.41408294439315796\n",
            "Text: من بين الأشكال الفريدة في الخط العربي ما سمي اصطلاحًا الكتابات المعكوسة أو المرآتية، ويجمع مؤرخو العربية عامة والخط العربي خاصة على أن هذه الظاهرة الكتابية لم تعرف إلا في أواخر العصور الوسطى، وبالتحديد في أوائل العصر العثماني، والتي وجد منه نماذج في غاية الدقة والتفنن، وليس أدل من ولع العثمانيون بهذا الظاهرة الخطية من اطلاقهم عليها مصطلحًا خاصًا بها معبرًا عنها وهو \"آينه لي\". لكن الدليل الأثري يفيد أن هذه الظاهرة الخطية وجدت طريقها إلى الفن الإسلامي عامة والخط العربي خاصة منذ بدايات العصر الإسلامي، وبالتحديد خلال القرون الثلاثة الأولى من الهجرة، ويتمثل هذا الدليل على ثلاثة نقوش صخرية وجدت في شبه الجزيرة العربية (في المملكة العربية السعودية الآن) تعود إلى تلك الفترة، كتبت بطريقة معكوسة أي من اليسار إلى اليمين، ومن أمثلة هذه النقوش:\n",
            "==============================\n",
            "Score: 0.3889075517654419\n",
            "Text: فالذين عرفوا إبراهيم الحسن يصفونه كما ذكر صلاح عمر العلي أحد قادة حزب البعث السابقين: كان إبراهيم الحسن يصر على أن يتعلم صدام كل فنون الزراعة والرعي وهو في سن صغيرة جدًا، وحين كانت تحاول أم صدام أن تحميه من بطش زوجها كان ينهرها ويعنفها، فقد كان يرى أن الأسلوب الأفضل في تربيته هو الشدة والقسوة حتى يصبح رجلًا.\n",
            "==============================\n"
          ]
        }
      ]
    },
    {
      "cell_type": "markdown",
      "source": [
        "## Test Sbert Embeddings"
      ],
      "metadata": {
        "id": "NT54Vs5GVIRU"
      }
    },
    {
      "cell_type": "code",
      "source": [
        "from sentence_transformers import SentenceTransformer\n",
        "from sentence_transformers.util import semantic_search, cos_sim\n",
        "import torch\n",
        "from tqdm.auto import tqdm\n",
        "\n",
        "model = SentenceTransformer('sentence-transformers/paraphrase-multilingual-MiniLM-L12-v2')"
      ],
      "metadata": {
        "id": "kh716HxGV73b"
      },
      "execution_count": null,
      "outputs": []
    },
    {
      "cell_type": "code",
      "source": [
        "corpus = cleaned_collected_df[\"text\"].values[:50]\n",
        "\n",
        "corpus_embeddings = []\n",
        "for text in tqdm(corpus):\n",
        "    corpus_embeddings.append(\n",
        "        model.encode(text).tolist()\n",
        "    )"
      ],
      "metadata": {
        "colab": {
          "base_uri": "https://localhost:8080/",
          "height": 49,
          "referenced_widgets": [
            "a163cc106d2d4bb68fc7b25c556f3141",
            "9c1e84da92e242698455379abd80e75e",
            "3c0f4934e02948aabd644c3c47034e5a",
            "2516853927a346ad8ba7a24ec27cde80",
            "3a54d392243f4ddd8436983fbf36a911",
            "e6710cdecc134eaf98e23b9b31c6d9aa",
            "d5c28a423c054bb8833cdca22bad3710",
            "a2585a56ff884b40a62b560d615aa417",
            "3e55eeb6011d4a549f90313a5f9575b0",
            "94de8d97f7864f5abe0e8cdc9d2adc28",
            "e54ac997d6194d3183a386199e4c81ed"
          ]
        },
        "id": "XkjPuEK3VUAe",
        "outputId": "99961f2a-1d87-49a7-86ef-dbf705cac1f9"
      },
      "execution_count": null,
      "outputs": [
        {
          "output_type": "display_data",
          "data": {
            "text/plain": [
              "  0%|          | 0/50 [00:00<?, ?it/s]"
            ],
            "application/vnd.jupyter.widget-view+json": {
              "version_major": 2,
              "version_minor": 0,
              "model_id": "a163cc106d2d4bb68fc7b25c556f3141"
            }
          },
          "metadata": {}
        }
      ]
    },
    {
      "cell_type": "code",
      "source": [
        "question_text = \"من مترجم كتابات ابن حيان؟\"\n",
        "question_embedding =  model.encode(question_text).tolist()"
      ],
      "metadata": {
        "id": "Uz0NbjllWA7K"
      },
      "execution_count": null,
      "outputs": []
    },
    {
      "cell_type": "code",
      "source": [
        "question_embedding = torch.FloatTensor([question_embedding])\n",
        "corpus_embeddings = torch.FloatTensor(corpus_embeddings)"
      ],
      "metadata": {
        "id": "T-ICAqX_We1i"
      },
      "execution_count": null,
      "outputs": []
    },
    {
      "cell_type": "code",
      "source": [
        "similar_documents = semantic_search(\n",
        "    query_embeddings=question_embedding,\n",
        "    corpus_embeddings=corpus_embeddings,\n",
        "    top_k=10\n",
        ")"
      ],
      "metadata": {
        "id": "Q1NIYYj8WiGY"
      },
      "execution_count": null,
      "outputs": []
    },
    {
      "cell_type": "code",
      "source": [
        "for document in similar_documents[0]:\n",
        "    _id = document[\"corpus_id\"]\n",
        "    text = corpus[_id]\n",
        "    score = document[\"score\"]\n",
        "\n",
        "    print(\"Score:\", score)\n",
        "    print(\"Text:\", text)\n",
        "    print(\"=\"*30)"
      ],
      "metadata": {
        "colab": {
          "base_uri": "https://localhost:8080/"
        },
        "id": "ECs7_XLZWmNe",
        "outputId": "ac927538-28b3-43f8-9438-5602073d845e"
      },
      "execution_count": null,
      "outputs": [
        {
          "output_type": "stream",
          "name": "stdout",
          "text": [
            "Score: 0.5286891460418701\n",
            "Text: تعود شهرة جابر بن حيان إلى مؤلفاته العديدة، ومنها «كتاب الرسائل السبعين»، ترجمه إلى اللاتينية جيرار الكريموني سنة 1187م وتضاف إلى هذه الكتب تصانيف أخرى عديدة تتناول، إلى جانب الكيمياء، شروحاً لكتب أرسطو وأفلاطون؛ ورسائل في الفلسفة، والتنجيم، والرياضيات، الطب، والموسيقى. وجاء في «الأعلام» للزركلي أن جابراً له تصانيف كثيرة تتراوح ما بين مائتين واثنين وثلاثين (232) وخمسمائة (500) كتاب، لكن ضاع أكثرها. وقد ترجمت بعض كتب جابر إلى اللغة اللاتينية في أوائل القرن الثاني عشر، كما ترجم بعضها من اللاتينية إلى الإنجليزية عام 1678. وظل الأوربيون يعتمدون على كتبه لعدة قرون، وقد كان لها أثر كبير في تطوير الكيمياء الحديثة. وفي هذا يقول ماكس مايرهوف: يمكن إرجاع تطور الكيمياء في أوروبا إلى جابر ابن حيان بصورة مباشرة. وأكبر دليل على ذلك أن كثيراً من المصطلحات التي ابتكرها ما زالت مستعملة في مختلف اللغات الأوربية.\n",
            "==============================\n",
            "Score: 0.4976058006286621\n",
            "Text: أعطى الملحن اللبناني فيلمون وهبي (1918ـــ 1985) ألحانه لـ 27 أغنية من أغاني فيروز، منها 18 أغنية من تأليف وتوزيع وإشراف الأخوين رحباني غنتها فيروز في الفترة من 1962-1976، وثماني أغنيات لحنها لها فيلمون بعد انفصالها عن الأخوين رحباني غنتها فيروز في الفترة من 1980-1985، وجميعها من كلمات جوزيف حرب عدا واحدة فقط من كلمات طلال حيدر وهي أغنية (يا رايح)، ولا تزال هذه الأعمال حاضرة في الذاكرة اللبنانية والعربية فقد كان فيلمون هو الاستثناء الوحيد الذي تعاون معه الأخوين رحباني كملحن من خارج الأسرة الرحبانية، وقد اعترف منصور الرحباني بالنجاح الكبير الذي حققته ألحان فيلمون على حنجرة فيروز فيقول :.\n",
            "==============================\n",
            "Score: 0.4782399833202362\n",
            "Text: كان لابن تيمية أيضاً خلال تواجده في مصر اتصال بالسلطان الناصر محمد بن قلاوون، فكان يشير عليه في بعض الأمور. وقد سأله السلطان أيضاً بعد عودته من الإسكندرية قتل بعض القضاة الذي آذوا ابن تيمية وسبق أن خلعوه من السلطنة، إلا أن ابن تيمية رفض ذلك وقال: من آذاني فهو في حِلّ، ومن آذى الله ورسوله فالله ينتقم منه، وأنا لا انتصر لنفسي. فكان ابن مخلوف المالكي يقول: ما رأينا مثل ابن تيمية حرَّضنا عليه فلم نقدر عليه، وقدر علينا فصفح عنا وحاجج عنا.\n",
            "==============================\n",
            "Score: 0.4646770656108856\n",
            "Text: وقبل وفاته في 5 نوفمبر 1985 كان فيلمون قد انتهى من تلحين ست أغنيات لفيروز أربعة منها صدرت بعد رحيله في ألبوم كتبت فيروز على ظهره كلامات منها بخط يدها تحية إلى فيلمون قالت فيها: (كل اللي تركتن اشتاقولك وكل اللي جايين راح يحبوك)، صدر الألبوم عام 1989 باسم (بليل وشتي) وضم أربع أغنيات جميعها من كلمات جوزيف حرب وهي : (أسامينا) و (بليل وشتي) و (لما عالباب ياحبيبي) و (زهرة الجنوب) بالإضافة إلى أغنية (إسوارة العروس) التي كانت فيروز أطلقتها منفردة عبر الإذاعات عام 1984، وغنتها بطريقة (البلاي بلاك) في حفلاتها في جرش في الأردن عام 1983 وفي أستراليا 1984 وفي بصرى عام 1985.\n",
            "==============================\n",
            "Score: 0.45522940158843994\n",
            "Text: نشأ أبو حنيفة بالكوفة وتربى بها، وعاش أكثر حياته فيها، متعلماً ومجادلاً ومعلماً، ولم تُبين المصادر حياة أبيه وحاله وما كان يتولاه من الأعمال، ولكن قد يُستنبط منها شيء من أحواله، فقد يستفاد منها أنه كان من أهل اليسار والغنى، وأنه كان من التجار، وأنه كان مسلماً حسن الإسلام. ولقد روي أن علياً بن أبي طالب دعا لثابت عندما رآه بالبركة فيه وفي ذريته، ويؤخذ من هذا أنه كان مسلماً وقت هذه الدعوة، وقد صرحت كتب التاريخ بأن ثابتاً ولد على الإسلام، وعلى ذلك يكون أبو حنيفة قد نشأ أول نشأته في بيت إسلامي خالص، وذلك ما يقرره العلماء جميعاً إلا من لا يؤبه لشذوذهم ولا يلتفت لكلامهم.\n",
            "==============================\n",
            "Score: 0.4464026391506195\n",
            "Text: وقد ذكرنا فيما تقدم أن الحجاج حج بالناس في هذه السنة الخارجة، وكان في الحج ابن عمر، وقد كتب عبد الملك إلى الحجاج أن يأتم بابن عمر في المناسك كما ثبت ذلك في الصحيحين.\n",
            "==============================\n",
            "Score: 0.4369843900203705\n",
            "Text: استطاع الفنانون الإيرانيون أن يبدعوا في الفن التصويري لمضامين المخطوطات الفارسية والعربية، كما نجحوا في تجويد الخط وتحسينه وتطويره، فقد امتاز الخطاط الإيراني بالجودة والإتقان، وكان في أغلب أحيانه مبدعًا في لوحاته. ابتكر الخطاطون الإيرانيون الخط الفارسي في القرن السابع الهجري (الثالث عشر الميلادي). ثم ابتكروا خط النستعليق من الخط الفارسي والنسخ والتعليق، وكان هذا الابتكار بجهود الخطاط عماد الدين الشيرازي الحسني، إذ وضع له قاعدة اشتهرت باسمه فيما بعد فسمِّيت قاعدة عماد. كما حوَّروا الخط الكوفي فأصبحت المدَّات فيه أكثر من الجرَّات.\n",
            "==============================\n",
            "Score: 0.4270772933959961\n",
            "Text: فالذين عرفوا إبراهيم الحسن يصفونه كما ذكر صلاح عمر العلي أحد قادة حزب البعث السابقين: كان إبراهيم الحسن يصر على أن يتعلم صدام كل فنون الزراعة والرعي وهو في سن صغيرة جدًا، وحين كانت تحاول أم صدام أن تحميه من بطش زوجها كان ينهرها ويعنفها، فقد كان يرى أن الأسلوب الأفضل في تربيته هو الشدة والقسوة حتى يصبح رجلًا.\n",
            "==============================\n",
            "Score: 0.4199487864971161\n",
            "Text: [[ملف:Britannia-Statue.jpg|تصغير|يسار|تمثال [[بريتانيا]] في [[بليموث]]. بريتانيا هو تجسيد الوطنية من المملكة المتحدة.]]\n",
            "==============================\n",
            "Score: 0.4155189096927643\n",
            "Text: من بين الأشكال الفريدة في الخط العربي ما سمي اصطلاحًا الكتابات المعكوسة أو المرآتية، ويجمع مؤرخو العربية عامة والخط العربي خاصة على أن هذه الظاهرة الكتابية لم تعرف إلا في أواخر العصور الوسطى، وبالتحديد في أوائل العصر العثماني، والتي وجد منه نماذج في غاية الدقة والتفنن، وليس أدل من ولع العثمانيون بهذا الظاهرة الخطية من اطلاقهم عليها مصطلحًا خاصًا بها معبرًا عنها وهو \"آينه لي\". لكن الدليل الأثري يفيد أن هذه الظاهرة الخطية وجدت طريقها إلى الفن الإسلامي عامة والخط العربي خاصة منذ بدايات العصر الإسلامي، وبالتحديد خلال القرون الثلاثة الأولى من الهجرة، ويتمثل هذا الدليل على ثلاثة نقوش صخرية وجدت في شبه الجزيرة العربية (في المملكة العربية السعودية الآن) تعود إلى تلك الفترة، كتبت بطريقة معكوسة أي من اليسار إلى اليمين، ومن أمثلة هذه النقوش:\n",
            "==============================\n"
          ]
        }
      ]
    }
  ]
}