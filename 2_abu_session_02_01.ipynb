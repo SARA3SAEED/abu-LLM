{
  "nbformat": 4,
  "nbformat_minor": 0,
  "metadata": {
    "colab": {
      "provenance": [],
      "gpuType": "T4",
      "include_colab_link": true
    },
    "kernelspec": {
      "name": "python3",
      "display_name": "Python 3"
    },
    "language_info": {
      "name": "python"
    },
    "accelerator": "GPU",
    "widgets": {
      "application/vnd.jupyter.widget-state+json": {
        "0e207cd69460468ab94fb9cf4d625d35": {
          "model_module": "@jupyter-widgets/controls",
          "model_name": "HBoxModel",
          "model_module_version": "1.5.0",
          "state": {
            "_dom_classes": [],
            "_model_module": "@jupyter-widgets/controls",
            "_model_module_version": "1.5.0",
            "_model_name": "HBoxModel",
            "_view_count": null,
            "_view_module": "@jupyter-widgets/controls",
            "_view_module_version": "1.5.0",
            "_view_name": "HBoxView",
            "box_style": "",
            "children": [
              "IPY_MODEL_7665f905a38f4a0dbfb0722733433397",
              "IPY_MODEL_17300014cf6a43b1a0816e4e49f022a2",
              "IPY_MODEL_b6f91570556d440eb0258c2b49c23d0c"
            ],
            "layout": "IPY_MODEL_1679c4e0ceb249a6afafe6767dbc3d6e"
          }
        },
        "7665f905a38f4a0dbfb0722733433397": {
          "model_module": "@jupyter-widgets/controls",
          "model_name": "HTMLModel",
          "model_module_version": "1.5.0",
          "state": {
            "_dom_classes": [],
            "_model_module": "@jupyter-widgets/controls",
            "_model_module_version": "1.5.0",
            "_model_name": "HTMLModel",
            "_view_count": null,
            "_view_module": "@jupyter-widgets/controls",
            "_view_module_version": "1.5.0",
            "_view_name": "HTMLView",
            "description": "",
            "description_tooltip": null,
            "layout": "IPY_MODEL_259e8a05fb8b45859d1e51d00e867d77",
            "placeholder": "​",
            "style": "IPY_MODEL_abab6536d26b4774b9908dca9ddeba0c",
            "value": ""
          }
        },
        "17300014cf6a43b1a0816e4e49f022a2": {
          "model_module": "@jupyter-widgets/controls",
          "model_name": "FloatProgressModel",
          "model_module_version": "1.5.0",
          "state": {
            "_dom_classes": [],
            "_model_module": "@jupyter-widgets/controls",
            "_model_module_version": "1.5.0",
            "_model_name": "FloatProgressModel",
            "_view_count": null,
            "_view_module": "@jupyter-widgets/controls",
            "_view_module_version": "1.5.0",
            "_view_name": "ProgressView",
            "bar_style": "",
            "description": "",
            "description_tooltip": null,
            "layout": "IPY_MODEL_4d77177543cc4850a215bca0d81c8130",
            "max": 500,
            "min": 0,
            "orientation": "horizontal",
            "style": "IPY_MODEL_486ec6461fc3459a89a7830d6cc4bf09",
            "value": 500
          }
        },
        "b6f91570556d440eb0258c2b49c23d0c": {
          "model_module": "@jupyter-widgets/controls",
          "model_name": "HTMLModel",
          "model_module_version": "1.5.0",
          "state": {
            "_dom_classes": [],
            "_model_module": "@jupyter-widgets/controls",
            "_model_module_version": "1.5.0",
            "_model_name": "HTMLModel",
            "_view_count": null,
            "_view_module": "@jupyter-widgets/controls",
            "_view_module_version": "1.5.0",
            "_view_name": "HTMLView",
            "description": "",
            "description_tooltip": null,
            "layout": "IPY_MODEL_d299e1d89bb94d89aebc48dd828baf13",
            "placeholder": "​",
            "style": "IPY_MODEL_ed941b5a70a449fe8990542922cd9868",
            "value": " 501/? [00:25&lt;00:00, 66.09it/s]"
          }
        },
        "1679c4e0ceb249a6afafe6767dbc3d6e": {
          "model_module": "@jupyter-widgets/base",
          "model_name": "LayoutModel",
          "model_module_version": "1.2.0",
          "state": {
            "_model_module": "@jupyter-widgets/base",
            "_model_module_version": "1.2.0",
            "_model_name": "LayoutModel",
            "_view_count": null,
            "_view_module": "@jupyter-widgets/base",
            "_view_module_version": "1.2.0",
            "_view_name": "LayoutView",
            "align_content": null,
            "align_items": null,
            "align_self": null,
            "border": null,
            "bottom": null,
            "display": null,
            "flex": null,
            "flex_flow": null,
            "grid_area": null,
            "grid_auto_columns": null,
            "grid_auto_flow": null,
            "grid_auto_rows": null,
            "grid_column": null,
            "grid_gap": null,
            "grid_row": null,
            "grid_template_areas": null,
            "grid_template_columns": null,
            "grid_template_rows": null,
            "height": null,
            "justify_content": null,
            "justify_items": null,
            "left": null,
            "margin": null,
            "max_height": null,
            "max_width": null,
            "min_height": null,
            "min_width": null,
            "object_fit": null,
            "object_position": null,
            "order": null,
            "overflow": null,
            "overflow_x": null,
            "overflow_y": null,
            "padding": null,
            "right": null,
            "top": null,
            "visibility": null,
            "width": null
          }
        },
        "259e8a05fb8b45859d1e51d00e867d77": {
          "model_module": "@jupyter-widgets/base",
          "model_name": "LayoutModel",
          "model_module_version": "1.2.0",
          "state": {
            "_model_module": "@jupyter-widgets/base",
            "_model_module_version": "1.2.0",
            "_model_name": "LayoutModel",
            "_view_count": null,
            "_view_module": "@jupyter-widgets/base",
            "_view_module_version": "1.2.0",
            "_view_name": "LayoutView",
            "align_content": null,
            "align_items": null,
            "align_self": null,
            "border": null,
            "bottom": null,
            "display": null,
            "flex": null,
            "flex_flow": null,
            "grid_area": null,
            "grid_auto_columns": null,
            "grid_auto_flow": null,
            "grid_auto_rows": null,
            "grid_column": null,
            "grid_gap": null,
            "grid_row": null,
            "grid_template_areas": null,
            "grid_template_columns": null,
            "grid_template_rows": null,
            "height": null,
            "justify_content": null,
            "justify_items": null,
            "left": null,
            "margin": null,
            "max_height": null,
            "max_width": null,
            "min_height": null,
            "min_width": null,
            "object_fit": null,
            "object_position": null,
            "order": null,
            "overflow": null,
            "overflow_x": null,
            "overflow_y": null,
            "padding": null,
            "right": null,
            "top": null,
            "visibility": null,
            "width": null
          }
        },
        "abab6536d26b4774b9908dca9ddeba0c": {
          "model_module": "@jupyter-widgets/controls",
          "model_name": "DescriptionStyleModel",
          "model_module_version": "1.5.0",
          "state": {
            "_model_module": "@jupyter-widgets/controls",
            "_model_module_version": "1.5.0",
            "_model_name": "DescriptionStyleModel",
            "_view_count": null,
            "_view_module": "@jupyter-widgets/base",
            "_view_module_version": "1.2.0",
            "_view_name": "StyleView",
            "description_width": ""
          }
        },
        "4d77177543cc4850a215bca0d81c8130": {
          "model_module": "@jupyter-widgets/base",
          "model_name": "LayoutModel",
          "model_module_version": "1.2.0",
          "state": {
            "_model_module": "@jupyter-widgets/base",
            "_model_module_version": "1.2.0",
            "_model_name": "LayoutModel",
            "_view_count": null,
            "_view_module": "@jupyter-widgets/base",
            "_view_module_version": "1.2.0",
            "_view_name": "LayoutView",
            "align_content": null,
            "align_items": null,
            "align_self": null,
            "border": null,
            "bottom": null,
            "display": null,
            "flex": null,
            "flex_flow": null,
            "grid_area": null,
            "grid_auto_columns": null,
            "grid_auto_flow": null,
            "grid_auto_rows": null,
            "grid_column": null,
            "grid_gap": null,
            "grid_row": null,
            "grid_template_areas": null,
            "grid_template_columns": null,
            "grid_template_rows": null,
            "height": null,
            "justify_content": null,
            "justify_items": null,
            "left": null,
            "margin": null,
            "max_height": null,
            "max_width": null,
            "min_height": null,
            "min_width": null,
            "object_fit": null,
            "object_position": null,
            "order": null,
            "overflow": null,
            "overflow_x": null,
            "overflow_y": null,
            "padding": null,
            "right": null,
            "top": null,
            "visibility": null,
            "width": null
          }
        },
        "486ec6461fc3459a89a7830d6cc4bf09": {
          "model_module": "@jupyter-widgets/controls",
          "model_name": "ProgressStyleModel",
          "model_module_version": "1.5.0",
          "state": {
            "_model_module": "@jupyter-widgets/controls",
            "_model_module_version": "1.5.0",
            "_model_name": "ProgressStyleModel",
            "_view_count": null,
            "_view_module": "@jupyter-widgets/base",
            "_view_module_version": "1.2.0",
            "_view_name": "StyleView",
            "bar_color": null,
            "description_width": ""
          }
        },
        "d299e1d89bb94d89aebc48dd828baf13": {
          "model_module": "@jupyter-widgets/base",
          "model_name": "LayoutModel",
          "model_module_version": "1.2.0",
          "state": {
            "_model_module": "@jupyter-widgets/base",
            "_model_module_version": "1.2.0",
            "_model_name": "LayoutModel",
            "_view_count": null,
            "_view_module": "@jupyter-widgets/base",
            "_view_module_version": "1.2.0",
            "_view_name": "LayoutView",
            "align_content": null,
            "align_items": null,
            "align_self": null,
            "border": null,
            "bottom": null,
            "display": null,
            "flex": null,
            "flex_flow": null,
            "grid_area": null,
            "grid_auto_columns": null,
            "grid_auto_flow": null,
            "grid_auto_rows": null,
            "grid_column": null,
            "grid_gap": null,
            "grid_row": null,
            "grid_template_areas": null,
            "grid_template_columns": null,
            "grid_template_rows": null,
            "height": null,
            "justify_content": null,
            "justify_items": null,
            "left": null,
            "margin": null,
            "max_height": null,
            "max_width": null,
            "min_height": null,
            "min_width": null,
            "object_fit": null,
            "object_position": null,
            "order": null,
            "overflow": null,
            "overflow_x": null,
            "overflow_y": null,
            "padding": null,
            "right": null,
            "top": null,
            "visibility": null,
            "width": null
          }
        },
        "ed941b5a70a449fe8990542922cd9868": {
          "model_module": "@jupyter-widgets/controls",
          "model_name": "DescriptionStyleModel",
          "model_module_version": "1.5.0",
          "state": {
            "_model_module": "@jupyter-widgets/controls",
            "_model_module_version": "1.5.0",
            "_model_name": "DescriptionStyleModel",
            "_view_count": null,
            "_view_module": "@jupyter-widgets/base",
            "_view_module_version": "1.2.0",
            "_view_name": "StyleView",
            "description_width": ""
          }
        },
        "cd2dbd811f14463a8aa3faa294b45442": {
          "model_module": "@jupyter-widgets/controls",
          "model_name": "HBoxModel",
          "model_module_version": "1.5.0",
          "state": {
            "_dom_classes": [],
            "_model_module": "@jupyter-widgets/controls",
            "_model_module_version": "1.5.0",
            "_model_name": "HBoxModel",
            "_view_count": null,
            "_view_module": "@jupyter-widgets/controls",
            "_view_module_version": "1.5.0",
            "_view_name": "HBoxView",
            "box_style": "",
            "children": [
              "IPY_MODEL_04b6a98c449b4b869650b6aaefe33cb4",
              "IPY_MODEL_8ad8788bec52499196c5e537ad6c86e1",
              "IPY_MODEL_92aab68b05594a3c8621bac6fdb7d11b"
            ],
            "layout": "IPY_MODEL_9216e409727d4c099afab3cbd8fc0d54"
          }
        },
        "04b6a98c449b4b869650b6aaefe33cb4": {
          "model_module": "@jupyter-widgets/controls",
          "model_name": "HTMLModel",
          "model_module_version": "1.5.0",
          "state": {
            "_dom_classes": [],
            "_model_module": "@jupyter-widgets/controls",
            "_model_module_version": "1.5.0",
            "_model_name": "HTMLModel",
            "_view_count": null,
            "_view_module": "@jupyter-widgets/controls",
            "_view_module_version": "1.5.0",
            "_view_name": "HTMLView",
            "description": "",
            "description_tooltip": null,
            "layout": "IPY_MODEL_2f07ecacf8274c6d9f098da41a8c312a",
            "placeholder": "​",
            "style": "IPY_MODEL_f8d7baca7206474cba562676aa894b33",
            "value": "100%"
          }
        },
        "8ad8788bec52499196c5e537ad6c86e1": {
          "model_module": "@jupyter-widgets/controls",
          "model_name": "FloatProgressModel",
          "model_module_version": "1.5.0",
          "state": {
            "_dom_classes": [],
            "_model_module": "@jupyter-widgets/controls",
            "_model_module_version": "1.5.0",
            "_model_name": "FloatProgressModel",
            "_view_count": null,
            "_view_module": "@jupyter-widgets/controls",
            "_view_module_version": "1.5.0",
            "_view_name": "ProgressView",
            "bar_style": "success",
            "description": "",
            "description_tooltip": null,
            "layout": "IPY_MODEL_8447bddeb20e4fa380f2d4fa43990e03",
            "max": 50,
            "min": 0,
            "orientation": "horizontal",
            "style": "IPY_MODEL_2744e8da188c479c98f97816ecdb977b",
            "value": 50
          }
        },
        "92aab68b05594a3c8621bac6fdb7d11b": {
          "model_module": "@jupyter-widgets/controls",
          "model_name": "HTMLModel",
          "model_module_version": "1.5.0",
          "state": {
            "_dom_classes": [],
            "_model_module": "@jupyter-widgets/controls",
            "_model_module_version": "1.5.0",
            "_model_name": "HTMLModel",
            "_view_count": null,
            "_view_module": "@jupyter-widgets/controls",
            "_view_module_version": "1.5.0",
            "_view_name": "HTMLView",
            "description": "",
            "description_tooltip": null,
            "layout": "IPY_MODEL_623a59fff44f4e1eafa7efa3388e22f4",
            "placeholder": "​",
            "style": "IPY_MODEL_fcf16608af63478b9c8c7582d3aaf638",
            "value": " 50/50 [00:24&lt;00:00,  1.92it/s]"
          }
        },
        "9216e409727d4c099afab3cbd8fc0d54": {
          "model_module": "@jupyter-widgets/base",
          "model_name": "LayoutModel",
          "model_module_version": "1.2.0",
          "state": {
            "_model_module": "@jupyter-widgets/base",
            "_model_module_version": "1.2.0",
            "_model_name": "LayoutModel",
            "_view_count": null,
            "_view_module": "@jupyter-widgets/base",
            "_view_module_version": "1.2.0",
            "_view_name": "LayoutView",
            "align_content": null,
            "align_items": null,
            "align_self": null,
            "border": null,
            "bottom": null,
            "display": null,
            "flex": null,
            "flex_flow": null,
            "grid_area": null,
            "grid_auto_columns": null,
            "grid_auto_flow": null,
            "grid_auto_rows": null,
            "grid_column": null,
            "grid_gap": null,
            "grid_row": null,
            "grid_template_areas": null,
            "grid_template_columns": null,
            "grid_template_rows": null,
            "height": null,
            "justify_content": null,
            "justify_items": null,
            "left": null,
            "margin": null,
            "max_height": null,
            "max_width": null,
            "min_height": null,
            "min_width": null,
            "object_fit": null,
            "object_position": null,
            "order": null,
            "overflow": null,
            "overflow_x": null,
            "overflow_y": null,
            "padding": null,
            "right": null,
            "top": null,
            "visibility": null,
            "width": null
          }
        },
        "2f07ecacf8274c6d9f098da41a8c312a": {
          "model_module": "@jupyter-widgets/base",
          "model_name": "LayoutModel",
          "model_module_version": "1.2.0",
          "state": {
            "_model_module": "@jupyter-widgets/base",
            "_model_module_version": "1.2.0",
            "_model_name": "LayoutModel",
            "_view_count": null,
            "_view_module": "@jupyter-widgets/base",
            "_view_module_version": "1.2.0",
            "_view_name": "LayoutView",
            "align_content": null,
            "align_items": null,
            "align_self": null,
            "border": null,
            "bottom": null,
            "display": null,
            "flex": null,
            "flex_flow": null,
            "grid_area": null,
            "grid_auto_columns": null,
            "grid_auto_flow": null,
            "grid_auto_rows": null,
            "grid_column": null,
            "grid_gap": null,
            "grid_row": null,
            "grid_template_areas": null,
            "grid_template_columns": null,
            "grid_template_rows": null,
            "height": null,
            "justify_content": null,
            "justify_items": null,
            "left": null,
            "margin": null,
            "max_height": null,
            "max_width": null,
            "min_height": null,
            "min_width": null,
            "object_fit": null,
            "object_position": null,
            "order": null,
            "overflow": null,
            "overflow_x": null,
            "overflow_y": null,
            "padding": null,
            "right": null,
            "top": null,
            "visibility": null,
            "width": null
          }
        },
        "f8d7baca7206474cba562676aa894b33": {
          "model_module": "@jupyter-widgets/controls",
          "model_name": "DescriptionStyleModel",
          "model_module_version": "1.5.0",
          "state": {
            "_model_module": "@jupyter-widgets/controls",
            "_model_module_version": "1.5.0",
            "_model_name": "DescriptionStyleModel",
            "_view_count": null,
            "_view_module": "@jupyter-widgets/base",
            "_view_module_version": "1.2.0",
            "_view_name": "StyleView",
            "description_width": ""
          }
        },
        "8447bddeb20e4fa380f2d4fa43990e03": {
          "model_module": "@jupyter-widgets/base",
          "model_name": "LayoutModel",
          "model_module_version": "1.2.0",
          "state": {
            "_model_module": "@jupyter-widgets/base",
            "_model_module_version": "1.2.0",
            "_model_name": "LayoutModel",
            "_view_count": null,
            "_view_module": "@jupyter-widgets/base",
            "_view_module_version": "1.2.0",
            "_view_name": "LayoutView",
            "align_content": null,
            "align_items": null,
            "align_self": null,
            "border": null,
            "bottom": null,
            "display": null,
            "flex": null,
            "flex_flow": null,
            "grid_area": null,
            "grid_auto_columns": null,
            "grid_auto_flow": null,
            "grid_auto_rows": null,
            "grid_column": null,
            "grid_gap": null,
            "grid_row": null,
            "grid_template_areas": null,
            "grid_template_columns": null,
            "grid_template_rows": null,
            "height": null,
            "justify_content": null,
            "justify_items": null,
            "left": null,
            "margin": null,
            "max_height": null,
            "max_width": null,
            "min_height": null,
            "min_width": null,
            "object_fit": null,
            "object_position": null,
            "order": null,
            "overflow": null,
            "overflow_x": null,
            "overflow_y": null,
            "padding": null,
            "right": null,
            "top": null,
            "visibility": null,
            "width": null
          }
        },
        "2744e8da188c479c98f97816ecdb977b": {
          "model_module": "@jupyter-widgets/controls",
          "model_name": "ProgressStyleModel",
          "model_module_version": "1.5.0",
          "state": {
            "_model_module": "@jupyter-widgets/controls",
            "_model_module_version": "1.5.0",
            "_model_name": "ProgressStyleModel",
            "_view_count": null,
            "_view_module": "@jupyter-widgets/base",
            "_view_module_version": "1.2.0",
            "_view_name": "StyleView",
            "bar_color": null,
            "description_width": ""
          }
        },
        "623a59fff44f4e1eafa7efa3388e22f4": {
          "model_module": "@jupyter-widgets/base",
          "model_name": "LayoutModel",
          "model_module_version": "1.2.0",
          "state": {
            "_model_module": "@jupyter-widgets/base",
            "_model_module_version": "1.2.0",
            "_model_name": "LayoutModel",
            "_view_count": null,
            "_view_module": "@jupyter-widgets/base",
            "_view_module_version": "1.2.0",
            "_view_name": "LayoutView",
            "align_content": null,
            "align_items": null,
            "align_self": null,
            "border": null,
            "bottom": null,
            "display": null,
            "flex": null,
            "flex_flow": null,
            "grid_area": null,
            "grid_auto_columns": null,
            "grid_auto_flow": null,
            "grid_auto_rows": null,
            "grid_column": null,
            "grid_gap": null,
            "grid_row": null,
            "grid_template_areas": null,
            "grid_template_columns": null,
            "grid_template_rows": null,
            "height": null,
            "justify_content": null,
            "justify_items": null,
            "left": null,
            "margin": null,
            "max_height": null,
            "max_width": null,
            "min_height": null,
            "min_width": null,
            "object_fit": null,
            "object_position": null,
            "order": null,
            "overflow": null,
            "overflow_x": null,
            "overflow_y": null,
            "padding": null,
            "right": null,
            "top": null,
            "visibility": null,
            "width": null
          }
        },
        "fcf16608af63478b9c8c7582d3aaf638": {
          "model_module": "@jupyter-widgets/controls",
          "model_name": "DescriptionStyleModel",
          "model_module_version": "1.5.0",
          "state": {
            "_model_module": "@jupyter-widgets/controls",
            "_model_module_version": "1.5.0",
            "_model_name": "DescriptionStyleModel",
            "_view_count": null,
            "_view_module": "@jupyter-widgets/base",
            "_view_module_version": "1.2.0",
            "_view_name": "StyleView",
            "description_width": ""
          }
        },
        "a163cc106d2d4bb68fc7b25c556f3141": {
          "model_module": "@jupyter-widgets/controls",
          "model_name": "HBoxModel",
          "model_module_version": "1.5.0",
          "state": {
            "_dom_classes": [],
            "_model_module": "@jupyter-widgets/controls",
            "_model_module_version": "1.5.0",
            "_model_name": "HBoxModel",
            "_view_count": null,
            "_view_module": "@jupyter-widgets/controls",
            "_view_module_version": "1.5.0",
            "_view_name": "HBoxView",
            "box_style": "",
            "children": [
              "IPY_MODEL_9c1e84da92e242698455379abd80e75e",
              "IPY_MODEL_3c0f4934e02948aabd644c3c47034e5a",
              "IPY_MODEL_2516853927a346ad8ba7a24ec27cde80"
            ],
            "layout": "IPY_MODEL_3a54d392243f4ddd8436983fbf36a911"
          }
        },
        "9c1e84da92e242698455379abd80e75e": {
          "model_module": "@jupyter-widgets/controls",
          "model_name": "HTMLModel",
          "model_module_version": "1.5.0",
          "state": {
            "_dom_classes": [],
            "_model_module": "@jupyter-widgets/controls",
            "_model_module_version": "1.5.0",
            "_model_name": "HTMLModel",
            "_view_count": null,
            "_view_module": "@jupyter-widgets/controls",
            "_view_module_version": "1.5.0",
            "_view_name": "HTMLView",
            "description": "",
            "description_tooltip": null,
            "layout": "IPY_MODEL_e6710cdecc134eaf98e23b9b31c6d9aa",
            "placeholder": "​",
            "style": "IPY_MODEL_d5c28a423c054bb8833cdca22bad3710",
            "value": "100%"
          }
        },
        "3c0f4934e02948aabd644c3c47034e5a": {
          "model_module": "@jupyter-widgets/controls",
          "model_name": "FloatProgressModel",
          "model_module_version": "1.5.0",
          "state": {
            "_dom_classes": [],
            "_model_module": "@jupyter-widgets/controls",
            "_model_module_version": "1.5.0",
            "_model_name": "FloatProgressModel",
            "_view_count": null,
            "_view_module": "@jupyter-widgets/controls",
            "_view_module_version": "1.5.0",
            "_view_name": "ProgressView",
            "bar_style": "success",
            "description": "",
            "description_tooltip": null,
            "layout": "IPY_MODEL_a2585a56ff884b40a62b560d615aa417",
            "max": 50,
            "min": 0,
            "orientation": "horizontal",
            "style": "IPY_MODEL_3e55eeb6011d4a549f90313a5f9575b0",
            "value": 50
          }
        },
        "2516853927a346ad8ba7a24ec27cde80": {
          "model_module": "@jupyter-widgets/controls",
          "model_name": "HTMLModel",
          "model_module_version": "1.5.0",
          "state": {
            "_dom_classes": [],
            "_model_module": "@jupyter-widgets/controls",
            "_model_module_version": "1.5.0",
            "_model_name": "HTMLModel",
            "_view_count": null,
            "_view_module": "@jupyter-widgets/controls",
            "_view_module_version": "1.5.0",
            "_view_name": "HTMLView",
            "description": "",
            "description_tooltip": null,
            "layout": "IPY_MODEL_94de8d97f7864f5abe0e8cdc9d2adc28",
            "placeholder": "​",
            "style": "IPY_MODEL_e54ac997d6194d3183a386199e4c81ed",
            "value": " 50/50 [00:01&lt;00:00, 50.43it/s]"
          }
        },
        "3a54d392243f4ddd8436983fbf36a911": {
          "model_module": "@jupyter-widgets/base",
          "model_name": "LayoutModel",
          "model_module_version": "1.2.0",
          "state": {
            "_model_module": "@jupyter-widgets/base",
            "_model_module_version": "1.2.0",
            "_model_name": "LayoutModel",
            "_view_count": null,
            "_view_module": "@jupyter-widgets/base",
            "_view_module_version": "1.2.0",
            "_view_name": "LayoutView",
            "align_content": null,
            "align_items": null,
            "align_self": null,
            "border": null,
            "bottom": null,
            "display": null,
            "flex": null,
            "flex_flow": null,
            "grid_area": null,
            "grid_auto_columns": null,
            "grid_auto_flow": null,
            "grid_auto_rows": null,
            "grid_column": null,
            "grid_gap": null,
            "grid_row": null,
            "grid_template_areas": null,
            "grid_template_columns": null,
            "grid_template_rows": null,
            "height": null,
            "justify_content": null,
            "justify_items": null,
            "left": null,
            "margin": null,
            "max_height": null,
            "max_width": null,
            "min_height": null,
            "min_width": null,
            "object_fit": null,
            "object_position": null,
            "order": null,
            "overflow": null,
            "overflow_x": null,
            "overflow_y": null,
            "padding": null,
            "right": null,
            "top": null,
            "visibility": null,
            "width": null
          }
        },
        "e6710cdecc134eaf98e23b9b31c6d9aa": {
          "model_module": "@jupyter-widgets/base",
          "model_name": "LayoutModel",
          "model_module_version": "1.2.0",
          "state": {
            "_model_module": "@jupyter-widgets/base",
            "_model_module_version": "1.2.0",
            "_model_name": "LayoutModel",
            "_view_count": null,
            "_view_module": "@jupyter-widgets/base",
            "_view_module_version": "1.2.0",
            "_view_name": "LayoutView",
            "align_content": null,
            "align_items": null,
            "align_self": null,
            "border": null,
            "bottom": null,
            "display": null,
            "flex": null,
            "flex_flow": null,
            "grid_area": null,
            "grid_auto_columns": null,
            "grid_auto_flow": null,
            "grid_auto_rows": null,
            "grid_column": null,
            "grid_gap": null,
            "grid_row": null,
            "grid_template_areas": null,
            "grid_template_columns": null,
            "grid_template_rows": null,
            "height": null,
            "justify_content": null,
            "justify_items": null,
            "left": null,
            "margin": null,
            "max_height": null,
            "max_width": null,
            "min_height": null,
            "min_width": null,
            "object_fit": null,
            "object_position": null,
            "order": null,
            "overflow": null,
            "overflow_x": null,
            "overflow_y": null,
            "padding": null,
            "right": null,
            "top": null,
            "visibility": null,
            "width": null
          }
        },
        "d5c28a423c054bb8833cdca22bad3710": {
          "model_module": "@jupyter-widgets/controls",
          "model_name": "DescriptionStyleModel",
          "model_module_version": "1.5.0",
          "state": {
            "_model_module": "@jupyter-widgets/controls",
            "_model_module_version": "1.5.0",
            "_model_name": "DescriptionStyleModel",
            "_view_count": null,
            "_view_module": "@jupyter-widgets/base",
            "_view_module_version": "1.2.0",
            "_view_name": "StyleView",
            "description_width": ""
          }
        },
        "a2585a56ff884b40a62b560d615aa417": {
          "model_module": "@jupyter-widgets/base",
          "model_name": "LayoutModel",
          "model_module_version": "1.2.0",
          "state": {
            "_model_module": "@jupyter-widgets/base",
            "_model_module_version": "1.2.0",
            "_model_name": "LayoutModel",
            "_view_count": null,
            "_view_module": "@jupyter-widgets/base",
            "_view_module_version": "1.2.0",
            "_view_name": "LayoutView",
            "align_content": null,
            "align_items": null,
            "align_self": null,
            "border": null,
            "bottom": null,
            "display": null,
            "flex": null,
            "flex_flow": null,
            "grid_area": null,
            "grid_auto_columns": null,
            "grid_auto_flow": null,
            "grid_auto_rows": null,
            "grid_column": null,
            "grid_gap": null,
            "grid_row": null,
            "grid_template_areas": null,
            "grid_template_columns": null,
            "grid_template_rows": null,
            "height": null,
            "justify_content": null,
            "justify_items": null,
            "left": null,
            "margin": null,
            "max_height": null,
            "max_width": null,
            "min_height": null,
            "min_width": null,
            "object_fit": null,
            "object_position": null,
            "order": null,
            "overflow": null,
            "overflow_x": null,
            "overflow_y": null,
            "padding": null,
            "right": null,
            "top": null,
            "visibility": null,
            "width": null
          }
        },
        "3e55eeb6011d4a549f90313a5f9575b0": {
          "model_module": "@jupyter-widgets/controls",
          "model_name": "ProgressStyleModel",
          "model_module_version": "1.5.0",
          "state": {
            "_model_module": "@jupyter-widgets/controls",
            "_model_module_version": "1.5.0",
            "_model_name": "ProgressStyleModel",
            "_view_count": null,
            "_view_module": "@jupyter-widgets/base",
            "_view_module_version": "1.2.0",
            "_view_name": "StyleView",
            "bar_color": null,
            "description_width": ""
          }
        },
        "94de8d97f7864f5abe0e8cdc9d2adc28": {
          "model_module": "@jupyter-widgets/base",
          "model_name": "LayoutModel",
          "model_module_version": "1.2.0",
          "state": {
            "_model_module": "@jupyter-widgets/base",
            "_model_module_version": "1.2.0",
            "_model_name": "LayoutModel",
            "_view_count": null,
            "_view_module": "@jupyter-widgets/base",
            "_view_module_version": "1.2.0",
            "_view_name": "LayoutView",
            "align_content": null,
            "align_items": null,
            "align_self": null,
            "border": null,
            "bottom": null,
            "display": null,
            "flex": null,
            "flex_flow": null,
            "grid_area": null,
            "grid_auto_columns": null,
            "grid_auto_flow": null,
            "grid_auto_rows": null,
            "grid_column": null,
            "grid_gap": null,
            "grid_row": null,
            "grid_template_areas": null,
            "grid_template_columns": null,
            "grid_template_rows": null,
            "height": null,
            "justify_content": null,
            "justify_items": null,
            "left": null,
            "margin": null,
            "max_height": null,
            "max_width": null,
            "min_height": null,
            "min_width": null,
            "object_fit": null,
            "object_position": null,
            "order": null,
            "overflow": null,
            "overflow_x": null,
            "overflow_y": null,
            "padding": null,
            "right": null,
            "top": null,
            "visibility": null,
            "width": null
          }
        },
        "e54ac997d6194d3183a386199e4c81ed": {
          "model_module": "@jupyter-widgets/controls",
          "model_name": "DescriptionStyleModel",
          "model_module_version": "1.5.0",
          "state": {
            "_model_module": "@jupyter-widgets/controls",
            "_model_module_version": "1.5.0",
            "_model_name": "DescriptionStyleModel",
            "_view_count": null,
            "_view_module": "@jupyter-widgets/base",
            "_view_module_version": "1.2.0",
            "_view_name": "StyleView",
            "description_width": ""
          }
        }
      }
    }
  },
  "cells": [
    {
      "cell_type": "markdown",
      "metadata": {
        "id": "view-in-github",
        "colab_type": "text"
      },
      "source": [
        "<a href=\"https://colab.research.google.com/github/SARA3SAEED/abu-LLM/blob/main/2_abu_session_02_01.ipynb\" target=\"_parent\"><img src=\"https://colab.research.google.com/assets/colab-badge.svg\" alt=\"Open In Colab\"/></a>"
      ]
    },
    {
      "cell_type": "code",
      "execution_count": null,
      "metadata": {
        "id": "W5Q8_DDZKqG0"
      },
      "outputs": [],
      "source": [
        "!pip install sentence-transformers==3.0.1 datasets"
      ]
    },
    {
      "cell_type": "markdown",
      "source": [
        "## Download Dataset"
      ],
      "metadata": {
        "id": "eAbhSLIWLkbH"
      }
    },
    {
      "cell_type": "code",
      "source": [
        "from datasets import load_dataset\n",
        "from tqdm.auto import tqdm\n",
        "import pandas as pd"
      ],
      "metadata": {
        "id": "UIPnOMdlNRff"
      },
      "execution_count": null,
      "outputs": []
    },
    {
      "cell_type": "code",
      "source": [
        "ds = load_dataset(\"Cohere/wikipedia-22-12\", \"ar\", streaming=True, trust_remote_code=True)"
      ],
      "metadata": {
        "colab": {
          "base_uri": "https://localhost:8080/"
        },
        "id": "cM00seAlLmJT",
        "outputId": "a7c0f634-c4bf-4c0e-84bf-184c832c761d"
      },
      "execution_count": null,
      "outputs": [
        {
          "output_type": "stream",
          "name": "stderr",
          "text": [
            "Repo card metadata block was not found. Setting CardData to empty.\n",
            "WARNING:huggingface_hub.repocard:Repo card metadata block was not found. Setting CardData to empty.\n"
          ]
        }
      ]
    },
    {
      "cell_type": "code",
      "source": [
        "max_titles = 500\n",
        "all_titles = set()\n",
        "collected_recs = []\n",
        "\n",
        "progress_bar = tqdm(total=max_titles)\n",
        "\n",
        "for rec in ds[\"train\"]:\n",
        "    if rec[\"title\"] not in all_titles:\n",
        "        all_titles.add(rec[\"title\"])\n",
        "        progress_bar.update(1)\n",
        "\n",
        "    collected_recs.append(rec)\n",
        "\n",
        "    if len(all_titles) > max_titles:\n",
        "        break"
      ],
      "metadata": {
        "colab": {
          "base_uri": "https://localhost:8080/",
          "height": 49,
          "referenced_widgets": [
            "0e207cd69460468ab94fb9cf4d625d35",
            "7665f905a38f4a0dbfb0722733433397",
            "17300014cf6a43b1a0816e4e49f022a2",
            "b6f91570556d440eb0258c2b49c23d0c",
            "1679c4e0ceb249a6afafe6767dbc3d6e",
            "259e8a05fb8b45859d1e51d00e867d77",
            "abab6536d26b4774b9908dca9ddeba0c",
            "4d77177543cc4850a215bca0d81c8130",
            "486ec6461fc3459a89a7830d6cc4bf09",
            "d299e1d89bb94d89aebc48dd828baf13",
            "ed941b5a70a449fe8990542922cd9868"
          ]
        },
        "id": "hjgHUNB2MDIe",
        "outputId": "0e2212d8-04ca-4527-b623-d1a843dab98e"
      },
      "execution_count": null,
      "outputs": [
        {
          "output_type": "display_data",
          "data": {
            "text/plain": [
              "  0%|          | 0/500 [00:00<?, ?it/s]"
            ],
            "application/vnd.jupyter.widget-view+json": {
              "version_major": 2,
              "version_minor": 0,
              "model_id": "0e207cd69460468ab94fb9cf4d625d35"
            }
          },
          "metadata": {}
        }
      ]
    },
    {
      "cell_type": "code",
      "source": [
        "collected_df = pd.DataFrame(collected_recs)\n",
        "collected_df.shape"
      ],
      "metadata": {
        "colab": {
          "base_uri": "https://localhost:8080/"
        },
        "id": "68RN-I4ONVpN",
        "outputId": "662e2668-7ca3-4638-d36d-e23c2ab7e514"
      },
      "execution_count": null,
      "outputs": [
        {
          "output_type": "execute_result",
          "data": {
            "text/plain": [
              "(28692, 8)"
            ]
          },
          "metadata": {},
          "execution_count": 10
        }
      ]
    },
    {
      "cell_type": "code",
      "source": [
        "collected_df[\"text_len\"] = collected_df[\"text\"].apply( lambda text: len(text) )"
      ],
      "metadata": {
        "id": "obh1WIGvNhwl"
      },
      "execution_count": null,
      "outputs": []
    },
    {
      "cell_type": "code",
      "source": [
        "collected_df[\"text_len\"].describe()"
      ],
      "metadata": {
        "colab": {
          "base_uri": "https://localhost:8080/",
          "height": 334
        },
        "id": "-fI7f2K9OCqG",
        "outputId": "64548198-b5f4-4b19-f0ff-b1d8e8c54b0e"
      },
      "execution_count": null,
      "outputs": [
        {
          "output_type": "execute_result",
          "data": {
            "text/plain": [
              "count    28692.000000\n",
              "mean       532.142897\n",
              "std        376.670192\n",
              "min        101.000000\n",
              "25%        281.000000\n",
              "50%        441.000000\n",
              "75%        669.000000\n",
              "max       5477.000000\n",
              "Name: text_len, dtype: float64"
            ],
            "text/html": [
              "<div>\n",
              "<style scoped>\n",
              "    .dataframe tbody tr th:only-of-type {\n",
              "        vertical-align: middle;\n",
              "    }\n",
              "\n",
              "    .dataframe tbody tr th {\n",
              "        vertical-align: top;\n",
              "    }\n",
              "\n",
              "    .dataframe thead th {\n",
              "        text-align: right;\n",
              "    }\n",
              "</style>\n",
              "<table border=\"1\" class=\"dataframe\">\n",
              "  <thead>\n",
              "    <tr style=\"text-align: right;\">\n",
              "      <th></th>\n",
              "      <th>text_len</th>\n",
              "    </tr>\n",
              "  </thead>\n",
              "  <tbody>\n",
              "    <tr>\n",
              "      <th>count</th>\n",
              "      <td>28692.000000</td>\n",
              "    </tr>\n",
              "    <tr>\n",
              "      <th>mean</th>\n",
              "      <td>532.142897</td>\n",
              "    </tr>\n",
              "    <tr>\n",
              "      <th>std</th>\n",
              "      <td>376.670192</td>\n",
              "    </tr>\n",
              "    <tr>\n",
              "      <th>min</th>\n",
              "      <td>101.000000</td>\n",
              "    </tr>\n",
              "    <tr>\n",
              "      <th>25%</th>\n",
              "      <td>281.000000</td>\n",
              "    </tr>\n",
              "    <tr>\n",
              "      <th>50%</th>\n",
              "      <td>441.000000</td>\n",
              "    </tr>\n",
              "    <tr>\n",
              "      <th>75%</th>\n",
              "      <td>669.000000</td>\n",
              "    </tr>\n",
              "    <tr>\n",
              "      <th>max</th>\n",
              "      <td>5477.000000</td>\n",
              "    </tr>\n",
              "  </tbody>\n",
              "</table>\n",
              "</div><br><label><b>dtype:</b> float64</label>"
            ]
          },
          "metadata": {},
          "execution_count": 13
        }
      ]
    },
    {
      "cell_type": "code",
      "source": [
        "cleaned_collected_df = collected_df[ collected_df[\"text_len\"] < 1500 ]\n",
        "cleaned_collected_df[\"text_len\"].describe()"
      ],
      "metadata": {
        "colab": {
          "base_uri": "https://localhost:8080/",
          "height": 334
        },
        "id": "xlsVeWywONTo",
        "outputId": "653fdefd-3400-41ab-e055-94c01226bd91"
      },
      "execution_count": null,
      "outputs": [
        {
          "output_type": "execute_result",
          "data": {
            "text/plain": [
              "count    27946.000000\n",
              "mean       493.219244\n",
              "std        284.976974\n",
              "min        101.000000\n",
              "25%        278.000000\n",
              "50%        431.000000\n",
              "75%        645.000000\n",
              "max       1499.000000\n",
              "Name: text_len, dtype: float64"
            ],
            "text/html": [
              "<div>\n",
              "<style scoped>\n",
              "    .dataframe tbody tr th:only-of-type {\n",
              "        vertical-align: middle;\n",
              "    }\n",
              "\n",
              "    .dataframe tbody tr th {\n",
              "        vertical-align: top;\n",
              "    }\n",
              "\n",
              "    .dataframe thead th {\n",
              "        text-align: right;\n",
              "    }\n",
              "</style>\n",
              "<table border=\"1\" class=\"dataframe\">\n",
              "  <thead>\n",
              "    <tr style=\"text-align: right;\">\n",
              "      <th></th>\n",
              "      <th>text_len</th>\n",
              "    </tr>\n",
              "  </thead>\n",
              "  <tbody>\n",
              "    <tr>\n",
              "      <th>count</th>\n",
              "      <td>27946.000000</td>\n",
              "    </tr>\n",
              "    <tr>\n",
              "      <th>mean</th>\n",
              "      <td>493.219244</td>\n",
              "    </tr>\n",
              "    <tr>\n",
              "      <th>std</th>\n",
              "      <td>284.976974</td>\n",
              "    </tr>\n",
              "    <tr>\n",
              "      <th>min</th>\n",
              "      <td>101.000000</td>\n",
              "    </tr>\n",
              "    <tr>\n",
              "      <th>25%</th>\n",
              "      <td>278.000000</td>\n",
              "    </tr>\n",
              "    <tr>\n",
              "      <th>50%</th>\n",
              "      <td>431.000000</td>\n",
              "    </tr>\n",
              "    <tr>\n",
              "      <th>75%</th>\n",
              "      <td>645.000000</td>\n",
              "    </tr>\n",
              "    <tr>\n",
              "      <th>max</th>\n",
              "      <td>1499.000000</td>\n",
              "    </tr>\n",
              "  </tbody>\n",
              "</table>\n",
              "</div><br><label><b>dtype:</b> float64</label>"
            ]
          },
          "metadata": {},
          "execution_count": 15
        }
      ]
    },
    {
      "cell_type": "code",
      "source": [
        "cleaned_collected_df = cleaned_collected_df.sample(frac=1, random_state=101)"
      ],
      "metadata": {
        "id": "bQ-3fKaXOsEs"
      },
      "execution_count": null,
      "outputs": []
    },
    {
      "cell_type": "code",
      "source": [
        "cleaned_collected_df.head()"
      ],
      "metadata": {
        "colab": {
          "base_uri": "https://localhost:8080/",
          "height": 657
        },
        "id": "SVp_suBGO8JN",
        "outputId": "81b3eaba-cf45-4ba5-c296-dc483cacc247"
      },
      "execution_count": null,
      "outputs": [
        {
          "output_type": "execute_result",
          "data": {
            "text/plain": [
              "          id                      title  \\\n",
              "2156    2156                 إيلون ماسك   \n",
              "12507  12507  فهد بن عبد العزيز آل سعود   \n",
              "22403  22403               مايكل جاكسون   \n",
              "21415  21415                      القمر   \n",
              "4046    4046                  صدام حسين   \n",
              "\n",
              "                                                    text  \\\n",
              "2156   في 22 ديسمبر 2015، نجحت سبيس إكس في إعادة المر...   \n",
              "12507  في محطته الثانية في منطقة مكة المكرمة في محافظ...   \n",
              "22403  في عام 2016، قدرت فوربس إجمالي الأرباح السنوية...   \n",
              "21415  تم قياس قوة مجال القمر المغناطيسي بواسطة دراسة...   \n",
              "4046   فالذين عرفوا إبراهيم الحسن يصفونه كما ذكر صلاح...   \n",
              "\n",
              "                                               url  wiki_id        views  \\\n",
              "2156   https://ar.wikipedia.org/wiki?curid=1280929  1280929  2492.724641   \n",
              "12507     https://ar.wikipedia.org/wiki?curid=6588     6588  1884.711635   \n",
              "22403    https://ar.wikipedia.org/wiki?curid=27129    27129  1639.789786   \n",
              "21415     https://ar.wikipedia.org/wiki?curid=1619     1619  1659.302521   \n",
              "4046    https://ar.wikipedia.org/wiki?curid=584101   584101  2315.063137   \n",
              "\n",
              "       paragraph_id  langs  text_len  \n",
              "2156             22    136       343  \n",
              "12507            41     72       446  \n",
              "22403           114    252       457  \n",
              "21415            20    268       725  \n",
              "4046              8    124       309  "
            ],
            "text/html": [
              "\n",
              "  <div id=\"df-6b35f140-7bd9-4b2c-a0b3-b99c1df2509f\" class=\"colab-df-container\">\n",
              "    <div>\n",
              "<style scoped>\n",
              "    .dataframe tbody tr th:only-of-type {\n",
              "        vertical-align: middle;\n",
              "    }\n",
              "\n",
              "    .dataframe tbody tr th {\n",
              "        vertical-align: top;\n",
              "    }\n",
              "\n",
              "    .dataframe thead th {\n",
              "        text-align: right;\n",
              "    }\n",
              "</style>\n",
              "<table border=\"1\" class=\"dataframe\">\n",
              "  <thead>\n",
              "    <tr style=\"text-align: right;\">\n",
              "      <th></th>\n",
              "      <th>id</th>\n",
              "      <th>title</th>\n",
              "      <th>text</th>\n",
              "      <th>url</th>\n",
              "      <th>wiki_id</th>\n",
              "      <th>views</th>\n",
              "      <th>paragraph_id</th>\n",
              "      <th>langs</th>\n",
              "      <th>text_len</th>\n",
              "    </tr>\n",
              "  </thead>\n",
              "  <tbody>\n",
              "    <tr>\n",
              "      <th>2156</th>\n",
              "      <td>2156</td>\n",
              "      <td>إيلون ماسك</td>\n",
              "      <td>في 22 ديسمبر 2015، نجحت سبيس إكس في إعادة المر...</td>\n",
              "      <td>https://ar.wikipedia.org/wiki?curid=1280929</td>\n",
              "      <td>1280929</td>\n",
              "      <td>2492.724641</td>\n",
              "      <td>22</td>\n",
              "      <td>136</td>\n",
              "      <td>343</td>\n",
              "    </tr>\n",
              "    <tr>\n",
              "      <th>12507</th>\n",
              "      <td>12507</td>\n",
              "      <td>فهد بن عبد العزيز آل سعود</td>\n",
              "      <td>في محطته الثانية في منطقة مكة المكرمة في محافظ...</td>\n",
              "      <td>https://ar.wikipedia.org/wiki?curid=6588</td>\n",
              "      <td>6588</td>\n",
              "      <td>1884.711635</td>\n",
              "      <td>41</td>\n",
              "      <td>72</td>\n",
              "      <td>446</td>\n",
              "    </tr>\n",
              "    <tr>\n",
              "      <th>22403</th>\n",
              "      <td>22403</td>\n",
              "      <td>مايكل جاكسون</td>\n",
              "      <td>في عام 2016، قدرت فوربس إجمالي الأرباح السنوية...</td>\n",
              "      <td>https://ar.wikipedia.org/wiki?curid=27129</td>\n",
              "      <td>27129</td>\n",
              "      <td>1639.789786</td>\n",
              "      <td>114</td>\n",
              "      <td>252</td>\n",
              "      <td>457</td>\n",
              "    </tr>\n",
              "    <tr>\n",
              "      <th>21415</th>\n",
              "      <td>21415</td>\n",
              "      <td>القمر</td>\n",
              "      <td>تم قياس قوة مجال القمر المغناطيسي بواسطة دراسة...</td>\n",
              "      <td>https://ar.wikipedia.org/wiki?curid=1619</td>\n",
              "      <td>1619</td>\n",
              "      <td>1659.302521</td>\n",
              "      <td>20</td>\n",
              "      <td>268</td>\n",
              "      <td>725</td>\n",
              "    </tr>\n",
              "    <tr>\n",
              "      <th>4046</th>\n",
              "      <td>4046</td>\n",
              "      <td>صدام حسين</td>\n",
              "      <td>فالذين عرفوا إبراهيم الحسن يصفونه كما ذكر صلاح...</td>\n",
              "      <td>https://ar.wikipedia.org/wiki?curid=584101</td>\n",
              "      <td>584101</td>\n",
              "      <td>2315.063137</td>\n",
              "      <td>8</td>\n",
              "      <td>124</td>\n",
              "      <td>309</td>\n",
              "    </tr>\n",
              "  </tbody>\n",
              "</table>\n",
              "</div>\n",
              "    <div class=\"colab-df-buttons\">\n",
              "\n",
              "  <div class=\"colab-df-container\">\n",
              "    <button class=\"colab-df-convert\" onclick=\"convertToInteractive('df-6b35f140-7bd9-4b2c-a0b3-b99c1df2509f')\"\n",
              "            title=\"Convert this dataframe to an interactive table.\"\n",
              "            style=\"display:none;\">\n",
              "\n",
              "  <svg xmlns=\"http://www.w3.org/2000/svg\" height=\"24px\" viewBox=\"0 -960 960 960\">\n",
              "    <path d=\"M120-120v-720h720v720H120Zm60-500h600v-160H180v160Zm220 220h160v-160H400v160Zm0 220h160v-160H400v160ZM180-400h160v-160H180v160Zm440 0h160v-160H620v160ZM180-180h160v-160H180v160Zm440 0h160v-160H620v160Z\"/>\n",
              "  </svg>\n",
              "    </button>\n",
              "\n",
              "  <style>\n",
              "    .colab-df-container {\n",
              "      display:flex;\n",
              "      gap: 12px;\n",
              "    }\n",
              "\n",
              "    .colab-df-convert {\n",
              "      background-color: #E8F0FE;\n",
              "      border: none;\n",
              "      border-radius: 50%;\n",
              "      cursor: pointer;\n",
              "      display: none;\n",
              "      fill: #1967D2;\n",
              "      height: 32px;\n",
              "      padding: 0 0 0 0;\n",
              "      width: 32px;\n",
              "    }\n",
              "\n",
              "    .colab-df-convert:hover {\n",
              "      background-color: #E2EBFA;\n",
              "      box-shadow: 0px 1px 2px rgba(60, 64, 67, 0.3), 0px 1px 3px 1px rgba(60, 64, 67, 0.15);\n",
              "      fill: #174EA6;\n",
              "    }\n",
              "\n",
              "    .colab-df-buttons div {\n",
              "      margin-bottom: 4px;\n",
              "    }\n",
              "\n",
              "    [theme=dark] .colab-df-convert {\n",
              "      background-color: #3B4455;\n",
              "      fill: #D2E3FC;\n",
              "    }\n",
              "\n",
              "    [theme=dark] .colab-df-convert:hover {\n",
              "      background-color: #434B5C;\n",
              "      box-shadow: 0px 1px 3px 1px rgba(0, 0, 0, 0.15);\n",
              "      filter: drop-shadow(0px 1px 2px rgba(0, 0, 0, 0.3));\n",
              "      fill: #FFFFFF;\n",
              "    }\n",
              "  </style>\n",
              "\n",
              "    <script>\n",
              "      const buttonEl =\n",
              "        document.querySelector('#df-6b35f140-7bd9-4b2c-a0b3-b99c1df2509f button.colab-df-convert');\n",
              "      buttonEl.style.display =\n",
              "        google.colab.kernel.accessAllowed ? 'block' : 'none';\n",
              "\n",
              "      async function convertToInteractive(key) {\n",
              "        const element = document.querySelector('#df-6b35f140-7bd9-4b2c-a0b3-b99c1df2509f');\n",
              "        const dataTable =\n",
              "          await google.colab.kernel.invokeFunction('convertToInteractive',\n",
              "                                                    [key], {});\n",
              "        if (!dataTable) return;\n",
              "\n",
              "        const docLinkHtml = 'Like what you see? Visit the ' +\n",
              "          '<a target=\"_blank\" href=https://colab.research.google.com/notebooks/data_table.ipynb>data table notebook</a>'\n",
              "          + ' to learn more about interactive tables.';\n",
              "        element.innerHTML = '';\n",
              "        dataTable['output_type'] = 'display_data';\n",
              "        await google.colab.output.renderOutput(dataTable, element);\n",
              "        const docLink = document.createElement('div');\n",
              "        docLink.innerHTML = docLinkHtml;\n",
              "        element.appendChild(docLink);\n",
              "      }\n",
              "    </script>\n",
              "  </div>\n",
              "\n",
              "\n",
              "<div id=\"df-6621c5f9-52c4-4484-92dd-6294c42bc834\">\n",
              "  <button class=\"colab-df-quickchart\" onclick=\"quickchart('df-6621c5f9-52c4-4484-92dd-6294c42bc834')\"\n",
              "            title=\"Suggest charts\"\n",
              "            style=\"display:none;\">\n",
              "\n",
              "<svg xmlns=\"http://www.w3.org/2000/svg\" height=\"24px\"viewBox=\"0 0 24 24\"\n",
              "     width=\"24px\">\n",
              "    <g>\n",
              "        <path d=\"M19 3H5c-1.1 0-2 .9-2 2v14c0 1.1.9 2 2 2h14c1.1 0 2-.9 2-2V5c0-1.1-.9-2-2-2zM9 17H7v-7h2v7zm4 0h-2V7h2v10zm4 0h-2v-4h2v4z\"/>\n",
              "    </g>\n",
              "</svg>\n",
              "  </button>\n",
              "\n",
              "<style>\n",
              "  .colab-df-quickchart {\n",
              "      --bg-color: #E8F0FE;\n",
              "      --fill-color: #1967D2;\n",
              "      --hover-bg-color: #E2EBFA;\n",
              "      --hover-fill-color: #174EA6;\n",
              "      --disabled-fill-color: #AAA;\n",
              "      --disabled-bg-color: #DDD;\n",
              "  }\n",
              "\n",
              "  [theme=dark] .colab-df-quickchart {\n",
              "      --bg-color: #3B4455;\n",
              "      --fill-color: #D2E3FC;\n",
              "      --hover-bg-color: #434B5C;\n",
              "      --hover-fill-color: #FFFFFF;\n",
              "      --disabled-bg-color: #3B4455;\n",
              "      --disabled-fill-color: #666;\n",
              "  }\n",
              "\n",
              "  .colab-df-quickchart {\n",
              "    background-color: var(--bg-color);\n",
              "    border: none;\n",
              "    border-radius: 50%;\n",
              "    cursor: pointer;\n",
              "    display: none;\n",
              "    fill: var(--fill-color);\n",
              "    height: 32px;\n",
              "    padding: 0;\n",
              "    width: 32px;\n",
              "  }\n",
              "\n",
              "  .colab-df-quickchart:hover {\n",
              "    background-color: var(--hover-bg-color);\n",
              "    box-shadow: 0 1px 2px rgba(60, 64, 67, 0.3), 0 1px 3px 1px rgba(60, 64, 67, 0.15);\n",
              "    fill: var(--button-hover-fill-color);\n",
              "  }\n",
              "\n",
              "  .colab-df-quickchart-complete:disabled,\n",
              "  .colab-df-quickchart-complete:disabled:hover {\n",
              "    background-color: var(--disabled-bg-color);\n",
              "    fill: var(--disabled-fill-color);\n",
              "    box-shadow: none;\n",
              "  }\n",
              "\n",
              "  .colab-df-spinner {\n",
              "    border: 2px solid var(--fill-color);\n",
              "    border-color: transparent;\n",
              "    border-bottom-color: var(--fill-color);\n",
              "    animation:\n",
              "      spin 1s steps(1) infinite;\n",
              "  }\n",
              "\n",
              "  @keyframes spin {\n",
              "    0% {\n",
              "      border-color: transparent;\n",
              "      border-bottom-color: var(--fill-color);\n",
              "      border-left-color: var(--fill-color);\n",
              "    }\n",
              "    20% {\n",
              "      border-color: transparent;\n",
              "      border-left-color: var(--fill-color);\n",
              "      border-top-color: var(--fill-color);\n",
              "    }\n",
              "    30% {\n",
              "      border-color: transparent;\n",
              "      border-left-color: var(--fill-color);\n",
              "      border-top-color: var(--fill-color);\n",
              "      border-right-color: var(--fill-color);\n",
              "    }\n",
              "    40% {\n",
              "      border-color: transparent;\n",
              "      border-right-color: var(--fill-color);\n",
              "      border-top-color: var(--fill-color);\n",
              "    }\n",
              "    60% {\n",
              "      border-color: transparent;\n",
              "      border-right-color: var(--fill-color);\n",
              "    }\n",
              "    80% {\n",
              "      border-color: transparent;\n",
              "      border-right-color: var(--fill-color);\n",
              "      border-bottom-color: var(--fill-color);\n",
              "    }\n",
              "    90% {\n",
              "      border-color: transparent;\n",
              "      border-bottom-color: var(--fill-color);\n",
              "    }\n",
              "  }\n",
              "</style>\n",
              "\n",
              "  <script>\n",
              "    async function quickchart(key) {\n",
              "      const quickchartButtonEl =\n",
              "        document.querySelector('#' + key + ' button');\n",
              "      quickchartButtonEl.disabled = true;  // To prevent multiple clicks.\n",
              "      quickchartButtonEl.classList.add('colab-df-spinner');\n",
              "      try {\n",
              "        const charts = await google.colab.kernel.invokeFunction(\n",
              "            'suggestCharts', [key], {});\n",
              "      } catch (error) {\n",
              "        console.error('Error during call to suggestCharts:', error);\n",
              "      }\n",
              "      quickchartButtonEl.classList.remove('colab-df-spinner');\n",
              "      quickchartButtonEl.classList.add('colab-df-quickchart-complete');\n",
              "    }\n",
              "    (() => {\n",
              "      let quickchartButtonEl =\n",
              "        document.querySelector('#df-6621c5f9-52c4-4484-92dd-6294c42bc834 button');\n",
              "      quickchartButtonEl.style.display =\n",
              "        google.colab.kernel.accessAllowed ? 'block' : 'none';\n",
              "    })();\n",
              "  </script>\n",
              "</div>\n",
              "\n",
              "    </div>\n",
              "  </div>\n"
            ],
            "application/vnd.google.colaboratory.intrinsic+json": {
              "type": "dataframe",
              "variable_name": "cleaned_collected_df",
              "summary": "{\n  \"name\": \"cleaned_collected_df\",\n  \"rows\": 27946,\n  \"fields\": [\n    {\n      \"column\": \"id\",\n      \"properties\": {\n        \"dtype\": \"number\",\n        \"std\": 8294,\n        \"min\": 0,\n        \"max\": 28691,\n        \"num_unique_values\": 27946,\n        \"samples\": [\n          20945,\n          18702,\n          13657\n        ],\n        \"semantic_type\": \"\",\n        \"description\": \"\"\n      }\n    },\n    {\n      \"column\": \"title\",\n      \"properties\": {\n        \"dtype\": \"category\",\n        \"num_unique_values\": 501,\n        \"samples\": [\n          \"\\u062e\\u0627\\u0644\\u062f \\u0628\\u0646 \\u0639\\u0628\\u062f \\u0627\\u0644\\u0639\\u0632\\u064a\\u0632 \\u0622\\u0644 \\u0633\\u0639\\u0648\\u062f\",\n          \"\\u063a\\u0632\\u0648\\u0629 \\u0627\\u0644\\u062e\\u0646\\u062f\\u0642\",\n          \"\\u0623\\u0628\\u0648 \\u0647\\u0631\\u064a\\u0631\\u0629\"\n        ],\n        \"semantic_type\": \"\",\n        \"description\": \"\"\n      }\n    },\n    {\n      \"column\": \"text\",\n      \"properties\": {\n        \"dtype\": \"string\",\n        \"num_unique_values\": 27907,\n        \"samples\": [\n          \"\\u0648\\u0635\\u0644 \\u0645\\u0639\\u062f\\u0644 \\u0645\\u062d\\u0648 \\u0627\\u0644\\u0623\\u0645\\u064a\\u0629 \\u0625\\u0644\\u0649 93.4\\u066a \\u0645\\u0646 \\u0627\\u0644\\u0628\\u0631\\u0627\\u0632\\u064a\\u0644\\u064a\\u064a\\u0646\\u060c \\u062d\\u0633\\u0628 \\u0627\\u0644\\u0623\\u0631\\u0642\\u0627\\u0645 \\u0627\\u0644\\u0635\\u0627\\u062f\\u0631\\u0629 \\u0639\\u0646 \\u0627\\u0644\\u0645\\u0639\\u0647\\u062f \\u0627\\u0644\\u0628\\u0631\\u0627\\u0632\\u064a\\u0644\\u064a \\u0644\\u0644\\u062c\\u063a\\u0631\\u0627\\u0641\\u064a\\u0627 \\u0648\\u0627\\u0644\\u0625\\u062d\\u0635\\u0627\\u0621 (\\u0622\\u064a \\u0628\\u064a \\u062c\\u064a \\u0625\\u064a) \\u0641\\u064a \\u0639\\u0627\\u0645 2019\\u060c \\u0645\\u0627 \\u064a\\u0639\\u0646\\u064a \\u0623\\u0646 11.3 \\u0645\\u0644\\u064a\\u0648\\u0646 \\u0645\\u0646 \\u0627\\u0644\\u0633\\u0643\\u0627\\u0646 (6.6\\u066a) \\u0645\\u0627 \\u064a\\u0632\\u0627\\u0644\\u0648\\u0646 \\u0623\\u0645\\u064a\\u064a\\u0646\\u060c \\u0645\\u0639 \\u0648\\u0635\\u0648\\u0644 \\u0645\\u0639\\u062f\\u0644 \\u0645\\u062d\\u0648 \\u0627\\u0644\\u0623\\u0645\\u064a\\u0629 \\u0625\\u0644\\u0649 \\u0646\\u062d\\u0648 97\\u066a \\u0641\\u064a \\u0628\\u0639\\u0636 \\u0627\\u0644\\u0648\\u0644\\u0627\\u064a\\u0627\\u062a \\u0645\\u062b\\u0644 \\u0631\\u064a\\u0648 \\u062f\\u064a \\u062c\\u0627\\u0646\\u064a\\u0631\\u0648 \\u0648\\u0633\\u0627\\u0646\\u062a\\u0627 \\u0643\\u0627\\u062a\\u0627\\u0631\\u064a\\u0646\\u0627\\u060c \\u0639\\u0644\\u0645\\u064b\\u0627 \\u0623\\u0646 \\u0646\\u0633\\u0628\\u0629 \\u0627\\u0644\\u0623\\u0645\\u064a\\u0629 \\u0627\\u0644\\u0648\\u0638\\u064a\\u0641\\u064a\\u0629 \\u062a\\u0639\\u0627\\u062f\\u0644 21.6\\u066a \\u0645\\u0646 \\u0627\\u0644\\u0633\\u0643\\u0627\\u0646. \\u062a\\u0632\\u062f\\u0627\\u062f \\u0627\\u0644\\u0623\\u0645\\u064a\\u0629 \\u0641\\u064a \\u0627\\u0644\\u0645\\u0646\\u0637\\u0642\\u0629 \\u0627\\u0644\\u0634\\u0645\\u0627\\u0644\\u064a\\u0629 \\u0627\\u0644\\u0634\\u0631\\u0642\\u064a\\u0629\\u060c \\u0625\\u0630 \\u062a\\u0635\\u0644 \\u0646\\u0633\\u0628\\u0629 \\u0627\\u0644\\u0623\\u0645\\u064a\\u064a\\u0646 \\u0625\\u0644\\u0649 13.87\\u066a \\u0645\\u0646 \\u0627\\u0644\\u0633\\u0643\\u0627\\u0646 \\u0647\\u0646\\u0627\\u0643\\u060c \\u0628\\u064a\\u0646\\u0645\\u0627 \\u062a\\u0646\\u062e\\u0641\\u0636 \\u0641\\u064a \\u0627\\u0644\\u0645\\u0646\\u0637\\u0642\\u0629 \\u0627\\u0644\\u062c\\u0646\\u0648\\u0628\\u064a\\u0629 \\u0625\\u0644\\u0649 3.3\\u066a.\",\n          \"\\u0646\\u0634\\u0623 \\u0627\\u0628\\u0646 \\u062e\\u0644\\u062f\\u0648\\u0646 \\u0639\\u0644\\u0649 \\u062a\\u0631\\u0627\\u062b \\u0623\\u0633\\u0631\\u062a\\u0647 \\u0639\\u0631\\u064a\\u0642\\u0629 \\u0627\\u0644\\u0639\\u0644\\u0645\\u061b \\u0641\\u062f\\u0623\\u0628 \\u0639\\u0644\\u0649 \\u0627\\u0644\\u062f\\u0631\\u0627\\u0633\\u0629 \\u0641\\u064a \\u062d\\u0650\\u062c\\u0631 \\u0623\\u0628\\u064a\\u0647 \\u0627\\u0644\\u0630\\u064a \\u0643\\u0627\\u0646 \\u0645\\u0639\\u0644\\u0645\\u0647 \\u0627\\u0644\\u0623\\u0648\\u0644\\u060c \\u0641\\u0642\\u0631\\u0623 \\u0627\\u0644\\u0642\\u0631\\u0622\\u0646 \\u0648\\u062d\\u0641\\u0638\\u0647 \\u0648\\u062f\\u0631\\u0633 \\u0627\\u0644\\u0642\\u0631\\u0627\\u0621\\u062a \\u0627\\u0644\\u0633\\u0628\\u0639 \\u0648\\u0627\\u0644\\u062d\\u062f\\u064a\\u062b \\u0648\\u0627\\u0644\\u062a\\u0641\\u0633\\u064a\\u0631 \\u0648\\u0627\\u0644\\u0641\\u0642\\u0647 \\u0625\\u0636\\u0627\\u0641\\u0629\\u064b \\u0644\\u0644\\u0646\\u062d\\u0648 \\u0648\\u0627\\u0644\\u0644\\u0651\\u063a\\u0629 \\u0645\\u0633\\u062a\\u062b\\u0645\\u0631\\u0627\\u064b \\u0623\\u0633\\u0627\\u062a\\u0630\\u0629 \\u062a\\u0648\\u0646\\u0633 \\u0627\\u0644\\u062a\\u064a \\u0643\\u0627\\u0646\\u062a \\u0645\\u0646 \\u0623\\u0628\\u0631\\u0632 \\u0645\\u0631\\u0627\\u0643\\u0632 \\u0627\\u0644\\u0639\\u0644\\u0648\\u0645 \\u0648\\u0627\\u0644\\u0622\\u062f\\u0627\\u0628 \\u0641\\u064a \\u0628\\u0644\\u0627\\u062f \\u0627\\u0644\\u0645\\u063a\\u0631\\u0628. \\u0630\\u0643\\u0631 \\u0627\\u0628\\u0646 \\u062e\\u0644\\u062f\\u0648\\u0646 \\u0623\\u0633\\u0645\\u0627\\u0621 \\u0634\\u064a\\u0648\\u062e\\u0647 \\u0641\\u064a \\u0643\\u0644\\u0650\\u0651 \\u0639\\u0644\\u0645\\u064d \\u0648\\u0627\\u0647\\u062a\\u0645 \\u0628\\u062a\\u0631\\u062c\\u0645\\u0629 \\u0623\\u0639\\u0645\\u0627\\u0644\\u0647\\u0645 \\u0648\\u062a\\u062d\\u062f\\u062b \\u0639\\u0646 \\u0628\\u0639\\u0636 \\u0627\\u0644\\u0643\\u064f\\u062a\\u0628 \\u0627\\u0644\\u062a\\u064a \\u062f\\u0631\\u0633\\u0647\\u0627\\u060c \\u0648\\u064a\\u0628\\u062f\\u0648 \\u0645\\u0645\\u0651\\u0627 \\u062f\\u0631\\u0633\\u0647 \\u0623\\u0646\\u0651\\u0647 \\u062a\\u062e\\u0635\\u0635 \\u0628\\u0627\\u0644\\u0641\\u0642\\u0647 \\u0627\\u0644\\u0645\\u0627\\u0644\\u0643\\u064a \\u0648\\u0639\\u0644\\u0645 \\u0627\\u0644\\u0644\\u0651\\u063a\\u0629 \\u0648\\u0627\\u0644\\u0634\\u0639\\u0631 \\u0642\\u0628\\u0644 \\u0623\\u0646 \\u064a\\u062f\\u062e\\u0644 \\u0641\\u064a \\u0627\\u0644\\u0641\\u0644\\u0633\\u0641\\u0629 \\u0648\\u0627\\u0644\\u0645\\u0646\\u0637\\u0642 \\u062d\\u062a\\u0651\\u0649 \\u0628\\u0644\\u0648\\u063a\\u0647. \\u0648\\u0628\\u0639\\u062f\\u0647\\u0627 \\u0627\\u0646\\u062a\\u0634\\u0631 \\u0627\\u0644\\u0641\\u0646\\u0627\\u0621 \\u0627\\u0644\\u0643\\u0628\\u064a\\u0631 \\u0623\\u0648 \\u0627\\u0644\\u0637\\u0627\\u0639\\u0648\\u0646 \\u0627\\u0644\\u062c\\u0627\\u0631\\u0641 \\u0643\\u0645\\u0627 \\u064a\\u0633\\u0645\\u064a\\u0647 \\u0627\\u0628\\u0646 \\u062e\\u0644\\u062f\\u0648\\u0646\\u060c \\u0648\\u0639\\u0645\\u0651 \\u0627\\u0644\\u0648\\u0628\\u0627\\u0621 \\u062f\\u064a\\u0627\\u0631 \\u0627\\u0644\\u0625\\u0633\\u0644\\u0627\\u0645 \\u0645\\u0646 \\u0633\\u0645\\u0631\\u0642\\u0646\\u062f \\u062d\\u062a\\u0651\\u0649 \\u0627\\u0644\\u0645\\u063a\\u0631\\u0628 \\u0627\\u0644\\u0623\\u0642\\u0635\\u0649\\u060c \\u0643\\u0645\\u0627 \\u0627\\u0646\\u062a\\u0634\\u0631 \\u0641\\u064a \\u0625\\u064a\\u0637\\u0627\\u0644\\u064a\\u0627 \\u0648\\u0627\\u0644\\u0628\\u0644\\u0627\\u062f \\u0627\\u0644\\u0623\\u0648\\u0631\\u0648\\u0628\\u064a\\u0629 \\u0627\\u0644\\u0623\\u064f\\u062e\\u0631\\u0649\\u060c \\u0648\\u0642\\u062f \\u0643\\u0627\\u0628\\u062f \\u0627\\u0628\\u0646 \\u062e\\u0644\\u062f\\u0648\\u0646 \\u0627\\u0644\\u062d\\u064f\\u0632\\u0646\\u064e \\u0628\\u0633\\u0628\\u0628 \\u0627\\u0644\\u0648\\u0628\\u0627\\u0621 \\u0625\\u0630 \\u0641\\u0642\\u062f \\u0645\\u0639\\u0638\\u0645 \\u0645\\u0639\\u0644\\u0645\\u064a\\u0647 \\u0648\\u0634\\u064a\\u0648\\u062e\\u0647 \\u0625\\u0636\\u0627\\u0641\\u0629\\u064b \\u0644\\u0648\\u0627\\u0644\\u062f\\u064a\\u0647.\",\n          \"\\u062f\\u064a\\u0631\\u0628\\u064a \\u0645\\u064a\\u062a \\u0639\\u0642\\u0628\\u0629 \\u064a\\u0637\\u0644\\u0642 \\u0647\\u0630\\u0627 \\u0627\\u0644\\u0627\\u0633\\u0645 \\u0639\\u0644\\u0649 \\u0645\\u0628\\u0627\\u0631\\u0627\\u0629 \\u0643\\u0631\\u0629 \\u0627\\u0644\\u0642\\u062f\\u0645 \\u0627\\u0644\\u062a\\u064a \\u062a\\u062c\\u0645\\u0639 \\u0628\\u064a\\u0646 \\u0641\\u0631\\u064a\\u0642\\u064a \\u0645\\u0646\\u0637\\u0642\\u0629 \\u0645\\u064a\\u062a \\u0639\\u0642\\u0628\\u0629 \\u0628\\u0627\\u0644\\u062c\\u064a\\u0632\\u0629\\u060c \\u0643\\u0627\\u0646\\u062a \\u0627\\u0644\\u0645\\u0628\\u0627\\u0631\\u0627\\u0629 \\u0645\\u0646 \\u0623\\u0647\\u0645 \\u0645\\u0628\\u0627\\u0631\\u064a\\u0627\\u062a \\u0627\\u0644\\u062f\\u0648\\u0631\\u064a \\u0627\\u0644\\u0645\\u0635\\u0631\\u064a \\u0627\\u0644\\u0645\\u0645\\u062a\\u0627\\u0632 \\u062e\\u0644\\u0627\\u0644 \\u0641\\u062a\\u0631\\u0629 \\u0627\\u0644\\u0633\\u062a\\u064a\\u0646\\u064a\\u0627\\u062a \\u0648\\u0627\\u0644\\u0633\\u0628\\u0639\\u064a\\u0646\\u0627\\u062a \\u0645\\u0646 \\u0627\\u0644\\u0642\\u0631\\u0646 \\u0627\\u0644\\u0639\\u0634\\u0631\\u064a\\u0646\\u060c \\u0625\\u0644\\u0627 \\u0623\\u0646\\u0647\\u0627 \\u0641\\u0642\\u062f\\u062a \\u0642\\u064a\\u0645\\u062a\\u0647\\u0627 \\u062a\\u062f\\u0631\\u064a\\u062c\\u064a\\u0627\\u064b \\u0628\\u0639\\u062f \\u0627\\u0628\\u062a\\u0639\\u0627\\u062f \\u0641\\u0631\\u064a\\u0642 \\u0646\\u0627\\u062f\\u064a \\u0627\\u0644\\u062a\\u0631\\u0633\\u0627\\u0646\\u0629 \\u0639\\u0646 \\u0645\\u0633\\u062a\\u0648\\u0627\\u0647 \\u0627\\u0644\\u062c\\u064a\\u062f \\u0648\\u0647\\u0628\\u0648\\u0637\\u0647 \\u0623\\u0643\\u062b\\u0631 \\u0645\\u0646 \\u0645\\u0631\\u0629 \\u0625\\u0644\\u0649 \\u0627\\u0644\\u0642\\u0633\\u0645 \\u0627\\u0644\\u062b\\u0627\\u0646\\u064a.\"\n        ],\n        \"semantic_type\": \"\",\n        \"description\": \"\"\n      }\n    },\n    {\n      \"column\": \"url\",\n      \"properties\": {\n        \"dtype\": \"category\",\n        \"num_unique_values\": 501,\n        \"samples\": [\n          \"https://ar.wikipedia.org/wiki?curid=17630\",\n          \"https://ar.wikipedia.org/wiki?curid=53683\",\n          \"https://ar.wikipedia.org/wiki?curid=12656\"\n        ],\n        \"semantic_type\": \"\",\n        \"description\": \"\"\n      }\n    },\n    {\n      \"column\": \"wiki_id\",\n      \"properties\": {\n        \"dtype\": \"number\",\n        \"std\": 880349,\n        \"min\": 1250,\n        \"max\": 8666733,\n        \"num_unique_values\": 501,\n        \"samples\": [\n          17630,\n          53683,\n          12656\n        ],\n        \"semantic_type\": \"\",\n        \"description\": \"\"\n      }\n    },\n    {\n      \"column\": \"views\",\n      \"properties\": {\n        \"dtype\": \"number\",\n        \"std\": 348.2718745734492,\n        \"min\": 1527.5620646418902,\n        \"max\": 3555.5016146584376,\n        \"num_unique_values\": 501,\n        \"samples\": [\n          1659.4919453768448,\n          1676.9602193728535,\n          1680.775040294115\n        ],\n        \"semantic_type\": \"\",\n        \"description\": \"\"\n      }\n    },\n    {\n      \"column\": \"paragraph_id\",\n      \"properties\": {\n        \"dtype\": \"number\",\n        \"std\": 44,\n        \"min\": 0,\n        \"max\": 281,\n        \"num_unique_values\": 282,\n        \"samples\": [\n          31,\n          135,\n          149\n        ],\n        \"semantic_type\": \"\",\n        \"description\": \"\"\n      }\n    },\n    {\n      \"column\": \"langs\",\n      \"properties\": {\n        \"dtype\": \"number\",\n        \"std\": 88,\n        \"min\": 0,\n        \"max\": 312,\n        \"num_unique_values\": 222,\n        \"samples\": [\n          51,\n          17,\n          152\n        ],\n        \"semantic_type\": \"\",\n        \"description\": \"\"\n      }\n    },\n    {\n      \"column\": \"text_len\",\n      \"properties\": {\n        \"dtype\": \"number\",\n        \"std\": 284,\n        \"min\": 101,\n        \"max\": 1499,\n        \"num_unique_values\": 1377,\n        \"samples\": [\n          128,\n          831,\n          790\n        ],\n        \"semantic_type\": \"\",\n        \"description\": \"\"\n      }\n    }\n  ]\n}"
            }
          },
          "metadata": {},
          "execution_count": 17
        }
      ]
    },
    {
      "cell_type": "markdown",
      "source": [
        "### Ollama Embeddings"
      ],
      "metadata": {
        "id": "G7ThPrGUP3g3"
      }
    },
    {
      "cell_type": "code",
      "source": [
        "!pip install ollama==0.3.2\n",
        "!curl https://ollama.ai/install.sh | sh"
      ],
      "metadata": {
        "id": "N9Du24pwP5Wj"
      },
      "execution_count": null,
      "outputs": []
    },
    {
      "cell_type": "code",
      "source": [
        "ollama_model_id = \"paraphrase-multilingual\""
      ],
      "metadata": {
        "id": "cjt3h9pyQADd"
      },
      "execution_count": null,
      "outputs": []
    },
    {
      "cell_type": "code",
      "source": [
        "# run ollama server\n",
        "!nohup ollama serve &\n",
        "!sleep 8 && tail nohup.out"
      ],
      "metadata": {
        "id": "EA922MMoQDj2"
      },
      "execution_count": null,
      "outputs": []
    },
    {
      "cell_type": "code",
      "source": [
        "!ollama pull {ollama_model_id}"
      ],
      "metadata": {
        "id": "rgBuU3lAQNZM"
      },
      "execution_count": null,
      "outputs": []
    },
    {
      "cell_type": "code",
      "source": [
        "!nohup ollama run {ollama_model_id} &\n",
        "!sleep 8 && tail nohup.out"
      ],
      "metadata": {
        "id": "-ORpx-bJQSpH"
      },
      "execution_count": null,
      "outputs": []
    },
    {
      "cell_type": "markdown",
      "source": [
        "### Evaluate Ollama Embedding"
      ],
      "metadata": {
        "id": "eEKUZPvTQwrH"
      }
    },
    {
      "cell_type": "code",
      "source": [
        "from sentence_transformers.util import semantic_search, cos_sim\n",
        "import torch\n",
        "import ollama"
      ],
      "metadata": {
        "id": "IruyA5qQSh41"
      },
      "execution_count": null,
      "outputs": []
    },
    {
      "cell_type": "code",
      "source": [
        "corpus = cleaned_collected_df[\"text\"].values[:50]\n",
        "\n",
        "corpus_embeddings = []\n",
        "for text in tqdm(corpus):\n",
        "    corpus_embeddings.append(\n",
        "        ollama.embeddings(model=ollama_model_id, prompt=text)[\"embedding\"]\n",
        "    )"
      ],
      "metadata": {
        "colab": {
          "base_uri": "https://localhost:8080/",
          "height": 49,
          "referenced_widgets": [
            "cd2dbd811f14463a8aa3faa294b45442",
            "04b6a98c449b4b869650b6aaefe33cb4",
            "8ad8788bec52499196c5e537ad6c86e1",
            "92aab68b05594a3c8621bac6fdb7d11b",
            "9216e409727d4c099afab3cbd8fc0d54",
            "2f07ecacf8274c6d9f098da41a8c312a",
            "f8d7baca7206474cba562676aa894b33",
            "8447bddeb20e4fa380f2d4fa43990e03",
            "2744e8da188c479c98f97816ecdb977b",
            "623a59fff44f4e1eafa7efa3388e22f4",
            "fcf16608af63478b9c8c7582d3aaf638"
          ]
        },
        "id": "Eh854ZkoQzDY",
        "outputId": "976bd990-34ea-40dc-ddf6-116fea128cb2"
      },
      "execution_count": null,
      "outputs": [
        {
          "output_type": "display_data",
          "data": {
            "text/plain": [
              "  0%|          | 0/50 [00:00<?, ?it/s]"
            ],
            "application/vnd.jupyter.widget-view+json": {
              "version_major": 2,
              "version_minor": 0,
              "model_id": "cd2dbd811f14463a8aa3faa294b45442"
            }
          },
          "metadata": {}
        }
      ]
    },
    {
      "cell_type": "code",
      "source": [
        "question_text = \"من مترجم كتابات ابن حيان؟\"\n",
        "question_embedding =  ollama.embeddings(\n",
        "                        model='paraphrase-multilingual',\n",
        "                        prompt=question_text,\n",
        "                    )['embedding']"
      ],
      "metadata": {
        "id": "lH2FMeUORcge"
      },
      "execution_count": null,
      "outputs": []
    },
    {
      "cell_type": "code",
      "source": [
        "question_embedding = torch.FloatTensor([question_embedding])\n",
        "corpus_embeddings = torch.FloatTensor(corpus_embeddings)"
      ],
      "metadata": {
        "id": "UH3NX0kDSrdL"
      },
      "execution_count": null,
      "outputs": []
    },
    {
      "cell_type": "code",
      "source": [
        "similar_documents = semantic_search(\n",
        "    query_embeddings=question_embedding,\n",
        "    corpus_embeddings=corpus_embeddings,\n",
        "    top_k=10\n",
        ")"
      ],
      "metadata": {
        "id": "UlDqdFPIS-jk"
      },
      "execution_count": null,
      "outputs": []
    },
    {
      "cell_type": "code",
      "source": [
        "for document in similar_documents[0]:\n",
        "    _id = document[\"corpus_id\"]\n",
        "    text = corpus[_id]\n",
        "    score = document[\"score\"]\n",
        "\n",
        "    print(\"Score:\", score)\n",
        "    print(\"Text:\", text)\n",
        "    print(\"=\"*30)"
      ],
      "metadata": {
        "colab": {
          "base_uri": "https://localhost:8080/"
        },
        "id": "2NQqkhmPTSjv",
        "outputId": "573b73c0-019f-44fa-99d0-97151caa6614"
      },
      "execution_count": null,
      "outputs": [
        {
          "output_type": "stream",
          "name": "stdout",
          "text": [
            "Score: 0.5641813278198242\n",
            "Text: أعطى الملحن اللبناني فيلمون وهبي (1918ـــ 1985) ألحانه لـ 27 أغنية من أغاني فيروز، منها 18 أغنية من تأليف وتوزيع وإشراف الأخوين رحباني غنتها فيروز في الفترة من 1962-1976، وثماني أغنيات لحنها لها فيلمون بعد انفصالها عن الأخوين رحباني غنتها فيروز في الفترة من 1980-1985، وجميعها من كلمات جوزيف حرب عدا واحدة فقط من كلمات طلال حيدر وهي أغنية (يا رايح)، ولا تزال هذه الأعمال حاضرة في الذاكرة اللبنانية والعربية فقد كان فيلمون هو الاستثناء الوحيد الذي تعاون معه الأخوين رحباني كملحن من خارج الأسرة الرحبانية، وقد اعترف منصور الرحباني بالنجاح الكبير الذي حققته ألحان فيلمون على حنجرة فيروز فيقول :.\n",
            "==============================\n",
            "Score: 0.5345969796180725\n",
            "Text: وقد ذكرنا فيما تقدم أن الحجاج حج بالناس في هذه السنة الخارجة، وكان في الحج ابن عمر، وقد كتب عبد الملك إلى الحجاج أن يأتم بابن عمر في المناسك كما ثبت ذلك في الصحيحين.\n",
            "==============================\n",
            "Score: 0.529414176940918\n",
            "Text: استطاع الفنانون الإيرانيون أن يبدعوا في الفن التصويري لمضامين المخطوطات الفارسية والعربية، كما نجحوا في تجويد الخط وتحسينه وتطويره، فقد امتاز الخطاط الإيراني بالجودة والإتقان، وكان في أغلب أحيانه مبدعًا في لوحاته. ابتكر الخطاطون الإيرانيون الخط الفارسي في القرن السابع الهجري (الثالث عشر الميلادي). ثم ابتكروا خط النستعليق من الخط الفارسي والنسخ والتعليق، وكان هذا الابتكار بجهود الخطاط عماد الدين الشيرازي الحسني، إذ وضع له قاعدة اشتهرت باسمه فيما بعد فسمِّيت قاعدة عماد. كما حوَّروا الخط الكوفي فأصبحت المدَّات فيه أكثر من الجرَّات.\n",
            "==============================\n",
            "Score: 0.5127449035644531\n",
            "Text: ارتحل الرسول محمدٌ من «ذفران» فسلك على ثناياً يقال لها الأصافر، ثم انحط إلى بلد يقال لها الدبة وترك الحنان بيمين وهو كثيب كالجبل العظيم، ثم نزل قريباً من بدر، فركب هو وأبو بكر الصديق حتى وقفا على شيخ من العرب يقال له سفيان الضمري الكناني، فسأله عن قريش، وعن محمد وأصحابه، وما بلغه عنهم، فقال الشيخ: «لا أخبركما حتى تخبراني ممن أنتما؟»، فقال له الرسول محمد: ، قال: «أذاك بذاك؟»، قال: ، قال الشيخ: «فإنه بلغني أن محمداً وأصحابه خرجوا يوم كذا وكذا، فإن كان صدق الذي أخبرني، فهم اليوم بمكان كذا وكذا (للمكان الذي فيه الرسول محمد)، وبلغني أن قريشاً خرجوا يوم كذا وكذا، فإن كان الذي أخبرني صدقني فهم اليوم بمكان كذا وكذا (للمكان الذي فيه قريش)»، فلما فرغ من خبره قال: «ممن أنتما؟»، فقال له الرسول محمد: ، ثم انصرف عنه والشيخ يقول: «ما من ماء، أمن ماء العراق؟».\n",
            "==============================\n",
            "Score: 0.4909208416938782\n",
            "Text: نشأ أبو حنيفة بالكوفة وتربى بها، وعاش أكثر حياته فيها، متعلماً ومجادلاً ومعلماً، ولم تُبين المصادر حياة أبيه وحاله وما كان يتولاه من الأعمال، ولكن قد يُستنبط منها شيء من أحواله، فقد يستفاد منها أنه كان من أهل اليسار والغنى، وأنه كان من التجار، وأنه كان مسلماً حسن الإسلام. ولقد روي أن علياً بن أبي طالب دعا لثابت عندما رآه بالبركة فيه وفي ذريته، ويؤخذ من هذا أنه كان مسلماً وقت هذه الدعوة، وقد صرحت كتب التاريخ بأن ثابتاً ولد على الإسلام، وعلى ذلك يكون أبو حنيفة قد نشأ أول نشأته في بيت إسلامي خالص، وذلك ما يقرره العلماء جميعاً إلا من لا يؤبه لشذوذهم ولا يلتفت لكلامهم.\n",
            "==============================\n",
            "Score: 0.48339569568634033\n",
            "Text: بعد ظهور الخوارج وانشقاقهم عن جماعة الصحابة تفرعت منهم فرق كثيرة، وقد وصفهم أهل السنة بأنهم أهل الأهواء المضلة الذين استحدثوا بأهوائهم ما لا أصل له في الشريعة وتكلموا فيما نهى الله ورسوله عن البحث فيه فاختلفت أهواؤهم وافترقت آرآؤهم وتحولت شبهاتهم إلى معتقدات صاروا بسببها جماعات متفرقة، وكان أئمة أهل السنة من متقدمي عصر السلف يكتفون بإضاح القول فيما يحتاج إلى إيضاح ولا يتكلمون فيما نهى الله ورسوله عن الخوض فيه، ويتركون الخصام والجدال والمراء فيه، قال ابن خلدون في تاريخه المدون في القرن الثامن الهجري: . وجاء في كلامه أنه لما كان وجوب التنزيه لله تعالى في وصفه بالكمال المطلق، ودلت عليه النصوص كقوله تعالى: فقد بالغت القدرية (المعتزلة) في التنزيه مما أدى إلى استحداث بدعة القول بإنكار صفات ثابتة بالنص، وبالمقابل فقد ظهر في عصر السلف مبتدعة بالغوا في إثبات الصفات، اتبعوا المتشابهات من النصوص وفسروها بحسب الظاهر، فوقعوا في التجسيم المناقض لآيات التنزيه الصريح، وذكر أبو الفتح الشهرستاني (479 هـ/ 548 هـ) في كتابه: «الملل والنحل» أن المعتزلة لما بالغوا في التنزيه فأنكروا صفات ثابتة بالنص أطلقوا عليهم معطلة، وأن السلف لما كانوا من مثبتي الصفات كانوا يسمونهم الصفاتية، وأن بعض السلف بالغوا في إثبات الصفات فوقعوا في التجسيم، وذكر منها بدعة محمد بن كرام السجستاني، في القول بالتجسيم وتنسب إليه الكرامية، وقد نصرهم محمود بن سُبُكْتِكِيْن السلطان، (وكان من الكرامية). قال ابن خلدون: .\n",
            "==============================\n",
            "Score: 0.4633135497570038\n",
            "Text: شهدت منطقة نجد من القرن الثامن إلى القرن الثاني عشر الهجري انتشار المذهب الحنبلي فيها، وقد شهد القرن العاشر الهجري بروز عدد من العلماء الحنابلة الذين كان لبعضهم إسهامات علمية في الفقه الحنبلي، إلا أن مرحلة نهضة المذهب الحنبلي في العصر الحديث ارتبطت باسم محمد بن عبد الوهاب (المتوفى سنة 1206هـ)، وقد قام محمد بن سعود مؤسس الدولة السعودية الأولى بدعم الدعوة الوهابية ومناصرتها، حتى أصبح المذهب الحنبلي المذهب الرسميّ للدولة السعودية، وكان من وسائل انتشار المذهب الحنبلي كثرةُ المؤلفات والرسائل التي أعدّها علماء نجد لبيان ما عليه الدعوة الوهابية التي خرجت من نجد.\n",
            "==============================\n",
            "Score: 0.43590980768203735\n",
            "Text: النظرية البديلة تقول أن العرب اسم علم للشعب في البدو والحضر لا مضارب القبائل فحسب، بكل الأحوال فإن أقدم مملكة عربية حضرية غير مرتحلة هي مملكة لحيان في القرن الرابع قبل الميلاد وايضا مملكة كندة في القرن الثاني قبل الميلاد؛ مع الإشارة لكون حضارة اليمن القديم، الزراعية وغير المرتحلة أساسًا قد صنفت بشكل حضارة سامية مستقلة، أو أفرد لها تصنيف فرعي خاص هو عرب الجنوب. خلال الازدهار الفكري في العصر العباسي، والمتأخر زمنيًا عن نشأة المُصطلح، قالت المعاجم أن عربي تعني غير أهل البادية، وأنّ أهل البادية يدعون \"أعراب\".\n",
            "==============================\n",
            "Score: 0.41408294439315796\n",
            "Text: من بين الأشكال الفريدة في الخط العربي ما سمي اصطلاحًا الكتابات المعكوسة أو المرآتية، ويجمع مؤرخو العربية عامة والخط العربي خاصة على أن هذه الظاهرة الكتابية لم تعرف إلا في أواخر العصور الوسطى، وبالتحديد في أوائل العصر العثماني، والتي وجد منه نماذج في غاية الدقة والتفنن، وليس أدل من ولع العثمانيون بهذا الظاهرة الخطية من اطلاقهم عليها مصطلحًا خاصًا بها معبرًا عنها وهو \"آينه لي\". لكن الدليل الأثري يفيد أن هذه الظاهرة الخطية وجدت طريقها إلى الفن الإسلامي عامة والخط العربي خاصة منذ بدايات العصر الإسلامي، وبالتحديد خلال القرون الثلاثة الأولى من الهجرة، ويتمثل هذا الدليل على ثلاثة نقوش صخرية وجدت في شبه الجزيرة العربية (في المملكة العربية السعودية الآن) تعود إلى تلك الفترة، كتبت بطريقة معكوسة أي من اليسار إلى اليمين، ومن أمثلة هذه النقوش:\n",
            "==============================\n",
            "Score: 0.3889075517654419\n",
            "Text: فالذين عرفوا إبراهيم الحسن يصفونه كما ذكر صلاح عمر العلي أحد قادة حزب البعث السابقين: كان إبراهيم الحسن يصر على أن يتعلم صدام كل فنون الزراعة والرعي وهو في سن صغيرة جدًا، وحين كانت تحاول أم صدام أن تحميه من بطش زوجها كان ينهرها ويعنفها، فقد كان يرى أن الأسلوب الأفضل في تربيته هو الشدة والقسوة حتى يصبح رجلًا.\n",
            "==============================\n"
          ]
        }
      ]
    },
    {
      "cell_type": "markdown",
      "source": [
        "## Test Sbert Embeddings"
      ],
      "metadata": {
        "id": "NT54Vs5GVIRU"
      }
    },
    {
      "cell_type": "code",
      "source": [
        "from sentence_transformers import SentenceTransformer\n",
        "from sentence_transformers.util import semantic_search, cos_sim\n",
        "import torch\n",
        "from tqdm.auto import tqdm\n",
        "\n",
        "model = SentenceTransformer('sentence-transformers/paraphrase-multilingual-MiniLM-L12-v2')"
      ],
      "metadata": {
        "id": "kh716HxGV73b"
      },
      "execution_count": null,
      "outputs": []
    },
    {
      "cell_type": "code",
      "source": [
        "corpus = cleaned_collected_df[\"text\"].values[:50]\n",
        "\n",
        "corpus_embeddings = []\n",
        "for text in tqdm(corpus):\n",
        "    corpus_embeddings.append(\n",
        "        model.encode(text).tolist()\n",
        "    )"
      ],
      "metadata": {
        "colab": {
          "base_uri": "https://localhost:8080/",
          "height": 49,
          "referenced_widgets": [
            "a163cc106d2d4bb68fc7b25c556f3141",
            "9c1e84da92e242698455379abd80e75e",
            "3c0f4934e02948aabd644c3c47034e5a",
            "2516853927a346ad8ba7a24ec27cde80",
            "3a54d392243f4ddd8436983fbf36a911",
            "e6710cdecc134eaf98e23b9b31c6d9aa",
            "d5c28a423c054bb8833cdca22bad3710",
            "a2585a56ff884b40a62b560d615aa417",
            "3e55eeb6011d4a549f90313a5f9575b0",
            "94de8d97f7864f5abe0e8cdc9d2adc28",
            "e54ac997d6194d3183a386199e4c81ed"
          ]
        },
        "id": "XkjPuEK3VUAe",
        "outputId": "99961f2a-1d87-49a7-86ef-dbf705cac1f9"
      },
      "execution_count": null,
      "outputs": [
        {
          "output_type": "display_data",
          "data": {
            "text/plain": [
              "  0%|          | 0/50 [00:00<?, ?it/s]"
            ],
            "application/vnd.jupyter.widget-view+json": {
              "version_major": 2,
              "version_minor": 0,
              "model_id": "a163cc106d2d4bb68fc7b25c556f3141"
            }
          },
          "metadata": {}
        }
      ]
    },
    {
      "cell_type": "code",
      "source": [
        "question_text = \"من مترجم كتابات ابن حيان؟\"\n",
        "question_embedding =  model.encode(question_text).tolist()"
      ],
      "metadata": {
        "id": "Uz0NbjllWA7K"
      },
      "execution_count": null,
      "outputs": []
    },
    {
      "cell_type": "code",
      "source": [
        "question_embedding = torch.FloatTensor([question_embedding])\n",
        "corpus_embeddings = torch.FloatTensor(corpus_embeddings)"
      ],
      "metadata": {
        "id": "T-ICAqX_We1i"
      },
      "execution_count": null,
      "outputs": []
    },
    {
      "cell_type": "code",
      "source": [
        "similar_documents = semantic_search(\n",
        "    query_embeddings=question_embedding,\n",
        "    corpus_embeddings=corpus_embeddings,\n",
        "    top_k=10\n",
        ")"
      ],
      "metadata": {
        "id": "Q1NIYYj8WiGY"
      },
      "execution_count": null,
      "outputs": []
    },
    {
      "cell_type": "code",
      "source": [
        "for document in similar_documents[0]:\n",
        "    _id = document[\"corpus_id\"]\n",
        "    text = corpus[_id]\n",
        "    score = document[\"score\"]\n",
        "\n",
        "    print(\"Score:\", score)\n",
        "    print(\"Text:\", text)\n",
        "    print(\"=\"*30)"
      ],
      "metadata": {
        "colab": {
          "base_uri": "https://localhost:8080/"
        },
        "id": "ECs7_XLZWmNe",
        "outputId": "ac927538-28b3-43f8-9438-5602073d845e"
      },
      "execution_count": null,
      "outputs": [
        {
          "output_type": "stream",
          "name": "stdout",
          "text": [
            "Score: 0.5286891460418701\n",
            "Text: تعود شهرة جابر بن حيان إلى مؤلفاته العديدة، ومنها «كتاب الرسائل السبعين»، ترجمه إلى اللاتينية جيرار الكريموني سنة 1187م وتضاف إلى هذه الكتب تصانيف أخرى عديدة تتناول، إلى جانب الكيمياء، شروحاً لكتب أرسطو وأفلاطون؛ ورسائل في الفلسفة، والتنجيم، والرياضيات، الطب، والموسيقى. وجاء في «الأعلام» للزركلي أن جابراً له تصانيف كثيرة تتراوح ما بين مائتين واثنين وثلاثين (232) وخمسمائة (500) كتاب، لكن ضاع أكثرها. وقد ترجمت بعض كتب جابر إلى اللغة اللاتينية في أوائل القرن الثاني عشر، كما ترجم بعضها من اللاتينية إلى الإنجليزية عام 1678. وظل الأوربيون يعتمدون على كتبه لعدة قرون، وقد كان لها أثر كبير في تطوير الكيمياء الحديثة. وفي هذا يقول ماكس مايرهوف: يمكن إرجاع تطور الكيمياء في أوروبا إلى جابر ابن حيان بصورة مباشرة. وأكبر دليل على ذلك أن كثيراً من المصطلحات التي ابتكرها ما زالت مستعملة في مختلف اللغات الأوربية.\n",
            "==============================\n",
            "Score: 0.4976058006286621\n",
            "Text: أعطى الملحن اللبناني فيلمون وهبي (1918ـــ 1985) ألحانه لـ 27 أغنية من أغاني فيروز، منها 18 أغنية من تأليف وتوزيع وإشراف الأخوين رحباني غنتها فيروز في الفترة من 1962-1976، وثماني أغنيات لحنها لها فيلمون بعد انفصالها عن الأخوين رحباني غنتها فيروز في الفترة من 1980-1985، وجميعها من كلمات جوزيف حرب عدا واحدة فقط من كلمات طلال حيدر وهي أغنية (يا رايح)، ولا تزال هذه الأعمال حاضرة في الذاكرة اللبنانية والعربية فقد كان فيلمون هو الاستثناء الوحيد الذي تعاون معه الأخوين رحباني كملحن من خارج الأسرة الرحبانية، وقد اعترف منصور الرحباني بالنجاح الكبير الذي حققته ألحان فيلمون على حنجرة فيروز فيقول :.\n",
            "==============================\n",
            "Score: 0.4782399833202362\n",
            "Text: كان لابن تيمية أيضاً خلال تواجده في مصر اتصال بالسلطان الناصر محمد بن قلاوون، فكان يشير عليه في بعض الأمور. وقد سأله السلطان أيضاً بعد عودته من الإسكندرية قتل بعض القضاة الذي آذوا ابن تيمية وسبق أن خلعوه من السلطنة، إلا أن ابن تيمية رفض ذلك وقال: من آذاني فهو في حِلّ، ومن آذى الله ورسوله فالله ينتقم منه، وأنا لا انتصر لنفسي. فكان ابن مخلوف المالكي يقول: ما رأينا مثل ابن تيمية حرَّضنا عليه فلم نقدر عليه، وقدر علينا فصفح عنا وحاجج عنا.\n",
            "==============================\n",
            "Score: 0.4646770656108856\n",
            "Text: وقبل وفاته في 5 نوفمبر 1985 كان فيلمون قد انتهى من تلحين ست أغنيات لفيروز أربعة منها صدرت بعد رحيله في ألبوم كتبت فيروز على ظهره كلامات منها بخط يدها تحية إلى فيلمون قالت فيها: (كل اللي تركتن اشتاقولك وكل اللي جايين راح يحبوك)، صدر الألبوم عام 1989 باسم (بليل وشتي) وضم أربع أغنيات جميعها من كلمات جوزيف حرب وهي : (أسامينا) و (بليل وشتي) و (لما عالباب ياحبيبي) و (زهرة الجنوب) بالإضافة إلى أغنية (إسوارة العروس) التي كانت فيروز أطلقتها منفردة عبر الإذاعات عام 1984، وغنتها بطريقة (البلاي بلاك) في حفلاتها في جرش في الأردن عام 1983 وفي أستراليا 1984 وفي بصرى عام 1985.\n",
            "==============================\n",
            "Score: 0.45522940158843994\n",
            "Text: نشأ أبو حنيفة بالكوفة وتربى بها، وعاش أكثر حياته فيها، متعلماً ومجادلاً ومعلماً، ولم تُبين المصادر حياة أبيه وحاله وما كان يتولاه من الأعمال، ولكن قد يُستنبط منها شيء من أحواله، فقد يستفاد منها أنه كان من أهل اليسار والغنى، وأنه كان من التجار، وأنه كان مسلماً حسن الإسلام. ولقد روي أن علياً بن أبي طالب دعا لثابت عندما رآه بالبركة فيه وفي ذريته، ويؤخذ من هذا أنه كان مسلماً وقت هذه الدعوة، وقد صرحت كتب التاريخ بأن ثابتاً ولد على الإسلام، وعلى ذلك يكون أبو حنيفة قد نشأ أول نشأته في بيت إسلامي خالص، وذلك ما يقرره العلماء جميعاً إلا من لا يؤبه لشذوذهم ولا يلتفت لكلامهم.\n",
            "==============================\n",
            "Score: 0.4464026391506195\n",
            "Text: وقد ذكرنا فيما تقدم أن الحجاج حج بالناس في هذه السنة الخارجة، وكان في الحج ابن عمر، وقد كتب عبد الملك إلى الحجاج أن يأتم بابن عمر في المناسك كما ثبت ذلك في الصحيحين.\n",
            "==============================\n",
            "Score: 0.4369843900203705\n",
            "Text: استطاع الفنانون الإيرانيون أن يبدعوا في الفن التصويري لمضامين المخطوطات الفارسية والعربية، كما نجحوا في تجويد الخط وتحسينه وتطويره، فقد امتاز الخطاط الإيراني بالجودة والإتقان، وكان في أغلب أحيانه مبدعًا في لوحاته. ابتكر الخطاطون الإيرانيون الخط الفارسي في القرن السابع الهجري (الثالث عشر الميلادي). ثم ابتكروا خط النستعليق من الخط الفارسي والنسخ والتعليق، وكان هذا الابتكار بجهود الخطاط عماد الدين الشيرازي الحسني، إذ وضع له قاعدة اشتهرت باسمه فيما بعد فسمِّيت قاعدة عماد. كما حوَّروا الخط الكوفي فأصبحت المدَّات فيه أكثر من الجرَّات.\n",
            "==============================\n",
            "Score: 0.4270772933959961\n",
            "Text: فالذين عرفوا إبراهيم الحسن يصفونه كما ذكر صلاح عمر العلي أحد قادة حزب البعث السابقين: كان إبراهيم الحسن يصر على أن يتعلم صدام كل فنون الزراعة والرعي وهو في سن صغيرة جدًا، وحين كانت تحاول أم صدام أن تحميه من بطش زوجها كان ينهرها ويعنفها، فقد كان يرى أن الأسلوب الأفضل في تربيته هو الشدة والقسوة حتى يصبح رجلًا.\n",
            "==============================\n",
            "Score: 0.4199487864971161\n",
            "Text: [[ملف:Britannia-Statue.jpg|تصغير|يسار|تمثال [[بريتانيا]] في [[بليموث]]. بريتانيا هو تجسيد الوطنية من المملكة المتحدة.]]\n",
            "==============================\n",
            "Score: 0.4155189096927643\n",
            "Text: من بين الأشكال الفريدة في الخط العربي ما سمي اصطلاحًا الكتابات المعكوسة أو المرآتية، ويجمع مؤرخو العربية عامة والخط العربي خاصة على أن هذه الظاهرة الكتابية لم تعرف إلا في أواخر العصور الوسطى، وبالتحديد في أوائل العصر العثماني، والتي وجد منه نماذج في غاية الدقة والتفنن، وليس أدل من ولع العثمانيون بهذا الظاهرة الخطية من اطلاقهم عليها مصطلحًا خاصًا بها معبرًا عنها وهو \"آينه لي\". لكن الدليل الأثري يفيد أن هذه الظاهرة الخطية وجدت طريقها إلى الفن الإسلامي عامة والخط العربي خاصة منذ بدايات العصر الإسلامي، وبالتحديد خلال القرون الثلاثة الأولى من الهجرة، ويتمثل هذا الدليل على ثلاثة نقوش صخرية وجدت في شبه الجزيرة العربية (في المملكة العربية السعودية الآن) تعود إلى تلك الفترة، كتبت بطريقة معكوسة أي من اليسار إلى اليمين، ومن أمثلة هذه النقوش:\n",
            "==============================\n"
          ]
        }
      ]
    }
  ]
}