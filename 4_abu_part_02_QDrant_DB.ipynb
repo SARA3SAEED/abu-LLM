{
  "nbformat": 4,
  "nbformat_minor": 0,
  "metadata": {
    "colab": {
      "provenance": [],
      "gpuType": "T4",
      "include_colab_link": true
    },
    "kernelspec": {
      "name": "python3",
      "display_name": "Python 3"
    },
    "language_info": {
      "name": "python"
    },
    "accelerator": "GPU",
    "widgets": {
      "application/vnd.jupyter.widget-state+json": {
        "57ad5a579c4548908b39291af0548ee3": {
          "model_module": "@jupyter-widgets/controls",
          "model_name": "HBoxModel",
          "model_module_version": "1.5.0",
          "state": {
            "_dom_classes": [],
            "_model_module": "@jupyter-widgets/controls",
            "_model_module_version": "1.5.0",
            "_model_name": "HBoxModel",
            "_view_count": null,
            "_view_module": "@jupyter-widgets/controls",
            "_view_module_version": "1.5.0",
            "_view_name": "HBoxView",
            "box_style": "",
            "children": [
              "IPY_MODEL_b2b1dfee9e0a41228df495af08b27749",
              "IPY_MODEL_3029441d107b4c4192f6d942163755be",
              "IPY_MODEL_9512733e1bc34af7bd1b2ebaafb9d56c"
            ],
            "layout": "IPY_MODEL_2de4e7f2570745499d36378ee9aa7e9e"
          }
        },
        "b2b1dfee9e0a41228df495af08b27749": {
          "model_module": "@jupyter-widgets/controls",
          "model_name": "HTMLModel",
          "model_module_version": "1.5.0",
          "state": {
            "_dom_classes": [],
            "_model_module": "@jupyter-widgets/controls",
            "_model_module_version": "1.5.0",
            "_model_name": "HTMLModel",
            "_view_count": null,
            "_view_module": "@jupyter-widgets/controls",
            "_view_module_version": "1.5.0",
            "_view_name": "HTMLView",
            "description": "",
            "description_tooltip": null,
            "layout": "IPY_MODEL_6324412ac7384f21a8fffee7c77736cf",
            "placeholder": "​",
            "style": "IPY_MODEL_8baa275f0d7b47689b5243aa841347df",
            "value": ""
          }
        },
        "3029441d107b4c4192f6d942163755be": {
          "model_module": "@jupyter-widgets/controls",
          "model_name": "FloatProgressModel",
          "model_module_version": "1.5.0",
          "state": {
            "_dom_classes": [],
            "_model_module": "@jupyter-widgets/controls",
            "_model_module_version": "1.5.0",
            "_model_name": "FloatProgressModel",
            "_view_count": null,
            "_view_module": "@jupyter-widgets/controls",
            "_view_module_version": "1.5.0",
            "_view_name": "ProgressView",
            "bar_style": "info",
            "description": "",
            "description_tooltip": null,
            "layout": "IPY_MODEL_af4308dca46b4447b2b750fc6ceaa23c",
            "max": 1,
            "min": 0,
            "orientation": "horizontal",
            "style": "IPY_MODEL_8c4b7d33a7004a9fb20d6f65b0649b28",
            "value": 1
          }
        },
        "9512733e1bc34af7bd1b2ebaafb9d56c": {
          "model_module": "@jupyter-widgets/controls",
          "model_name": "HTMLModel",
          "model_module_version": "1.5.0",
          "state": {
            "_dom_classes": [],
            "_model_module": "@jupyter-widgets/controls",
            "_model_module_version": "1.5.0",
            "_model_name": "HTMLModel",
            "_view_count": null,
            "_view_module": "@jupyter-widgets/controls",
            "_view_module_version": "1.5.0",
            "_view_name": "HTMLView",
            "description": "",
            "description_tooltip": null,
            "layout": "IPY_MODEL_54fefc8e7635454996ac79a400d4fead",
            "placeholder": "​",
            "style": "IPY_MODEL_478d858fdca44486a353f7de725373aa",
            "value": " 100/? [00:18&lt;00:00, 40.01it/s]"
          }
        },
        "2de4e7f2570745499d36378ee9aa7e9e": {
          "model_module": "@jupyter-widgets/base",
          "model_name": "LayoutModel",
          "model_module_version": "1.2.0",
          "state": {
            "_model_module": "@jupyter-widgets/base",
            "_model_module_version": "1.2.0",
            "_model_name": "LayoutModel",
            "_view_count": null,
            "_view_module": "@jupyter-widgets/base",
            "_view_module_version": "1.2.0",
            "_view_name": "LayoutView",
            "align_content": null,
            "align_items": null,
            "align_self": null,
            "border": null,
            "bottom": null,
            "display": null,
            "flex": null,
            "flex_flow": null,
            "grid_area": null,
            "grid_auto_columns": null,
            "grid_auto_flow": null,
            "grid_auto_rows": null,
            "grid_column": null,
            "grid_gap": null,
            "grid_row": null,
            "grid_template_areas": null,
            "grid_template_columns": null,
            "grid_template_rows": null,
            "height": null,
            "justify_content": null,
            "justify_items": null,
            "left": null,
            "margin": null,
            "max_height": null,
            "max_width": null,
            "min_height": null,
            "min_width": null,
            "object_fit": null,
            "object_position": null,
            "order": null,
            "overflow": null,
            "overflow_x": null,
            "overflow_y": null,
            "padding": null,
            "right": null,
            "top": null,
            "visibility": null,
            "width": null
          }
        },
        "6324412ac7384f21a8fffee7c77736cf": {
          "model_module": "@jupyter-widgets/base",
          "model_name": "LayoutModel",
          "model_module_version": "1.2.0",
          "state": {
            "_model_module": "@jupyter-widgets/base",
            "_model_module_version": "1.2.0",
            "_model_name": "LayoutModel",
            "_view_count": null,
            "_view_module": "@jupyter-widgets/base",
            "_view_module_version": "1.2.0",
            "_view_name": "LayoutView",
            "align_content": null,
            "align_items": null,
            "align_self": null,
            "border": null,
            "bottom": null,
            "display": null,
            "flex": null,
            "flex_flow": null,
            "grid_area": null,
            "grid_auto_columns": null,
            "grid_auto_flow": null,
            "grid_auto_rows": null,
            "grid_column": null,
            "grid_gap": null,
            "grid_row": null,
            "grid_template_areas": null,
            "grid_template_columns": null,
            "grid_template_rows": null,
            "height": null,
            "justify_content": null,
            "justify_items": null,
            "left": null,
            "margin": null,
            "max_height": null,
            "max_width": null,
            "min_height": null,
            "min_width": null,
            "object_fit": null,
            "object_position": null,
            "order": null,
            "overflow": null,
            "overflow_x": null,
            "overflow_y": null,
            "padding": null,
            "right": null,
            "top": null,
            "visibility": null,
            "width": null
          }
        },
        "8baa275f0d7b47689b5243aa841347df": {
          "model_module": "@jupyter-widgets/controls",
          "model_name": "DescriptionStyleModel",
          "model_module_version": "1.5.0",
          "state": {
            "_model_module": "@jupyter-widgets/controls",
            "_model_module_version": "1.5.0",
            "_model_name": "DescriptionStyleModel",
            "_view_count": null,
            "_view_module": "@jupyter-widgets/base",
            "_view_module_version": "1.2.0",
            "_view_name": "StyleView",
            "description_width": ""
          }
        },
        "af4308dca46b4447b2b750fc6ceaa23c": {
          "model_module": "@jupyter-widgets/base",
          "model_name": "LayoutModel",
          "model_module_version": "1.2.0",
          "state": {
            "_model_module": "@jupyter-widgets/base",
            "_model_module_version": "1.2.0",
            "_model_name": "LayoutModel",
            "_view_count": null,
            "_view_module": "@jupyter-widgets/base",
            "_view_module_version": "1.2.0",
            "_view_name": "LayoutView",
            "align_content": null,
            "align_items": null,
            "align_self": null,
            "border": null,
            "bottom": null,
            "display": null,
            "flex": null,
            "flex_flow": null,
            "grid_area": null,
            "grid_auto_columns": null,
            "grid_auto_flow": null,
            "grid_auto_rows": null,
            "grid_column": null,
            "grid_gap": null,
            "grid_row": null,
            "grid_template_areas": null,
            "grid_template_columns": null,
            "grid_template_rows": null,
            "height": null,
            "justify_content": null,
            "justify_items": null,
            "left": null,
            "margin": null,
            "max_height": null,
            "max_width": null,
            "min_height": null,
            "min_width": null,
            "object_fit": null,
            "object_position": null,
            "order": null,
            "overflow": null,
            "overflow_x": null,
            "overflow_y": null,
            "padding": null,
            "right": null,
            "top": null,
            "visibility": null,
            "width": "20px"
          }
        },
        "8c4b7d33a7004a9fb20d6f65b0649b28": {
          "model_module": "@jupyter-widgets/controls",
          "model_name": "ProgressStyleModel",
          "model_module_version": "1.5.0",
          "state": {
            "_model_module": "@jupyter-widgets/controls",
            "_model_module_version": "1.5.0",
            "_model_name": "ProgressStyleModel",
            "_view_count": null,
            "_view_module": "@jupyter-widgets/base",
            "_view_module_version": "1.2.0",
            "_view_name": "StyleView",
            "bar_color": null,
            "description_width": ""
          }
        },
        "54fefc8e7635454996ac79a400d4fead": {
          "model_module": "@jupyter-widgets/base",
          "model_name": "LayoutModel",
          "model_module_version": "1.2.0",
          "state": {
            "_model_module": "@jupyter-widgets/base",
            "_model_module_version": "1.2.0",
            "_model_name": "LayoutModel",
            "_view_count": null,
            "_view_module": "@jupyter-widgets/base",
            "_view_module_version": "1.2.0",
            "_view_name": "LayoutView",
            "align_content": null,
            "align_items": null,
            "align_self": null,
            "border": null,
            "bottom": null,
            "display": null,
            "flex": null,
            "flex_flow": null,
            "grid_area": null,
            "grid_auto_columns": null,
            "grid_auto_flow": null,
            "grid_auto_rows": null,
            "grid_column": null,
            "grid_gap": null,
            "grid_row": null,
            "grid_template_areas": null,
            "grid_template_columns": null,
            "grid_template_rows": null,
            "height": null,
            "justify_content": null,
            "justify_items": null,
            "left": null,
            "margin": null,
            "max_height": null,
            "max_width": null,
            "min_height": null,
            "min_width": null,
            "object_fit": null,
            "object_position": null,
            "order": null,
            "overflow": null,
            "overflow_x": null,
            "overflow_y": null,
            "padding": null,
            "right": null,
            "top": null,
            "visibility": null,
            "width": null
          }
        },
        "478d858fdca44486a353f7de725373aa": {
          "model_module": "@jupyter-widgets/controls",
          "model_name": "DescriptionStyleModel",
          "model_module_version": "1.5.0",
          "state": {
            "_model_module": "@jupyter-widgets/controls",
            "_model_module_version": "1.5.0",
            "_model_name": "DescriptionStyleModel",
            "_view_count": null,
            "_view_module": "@jupyter-widgets/base",
            "_view_module_version": "1.2.0",
            "_view_name": "StyleView",
            "description_width": ""
          }
        },
        "89fe14c08e544ea3a5db69dd50c34bea": {
          "model_module": "@jupyter-widgets/controls",
          "model_name": "HBoxModel",
          "model_module_version": "1.5.0",
          "state": {
            "_dom_classes": [],
            "_model_module": "@jupyter-widgets/controls",
            "_model_module_version": "1.5.0",
            "_model_name": "HBoxModel",
            "_view_count": null,
            "_view_module": "@jupyter-widgets/controls",
            "_view_module_version": "1.5.0",
            "_view_name": "HBoxView",
            "box_style": "",
            "children": [
              "IPY_MODEL_7ca8ed4cb3ec4382a0d5095a52b5a1aa",
              "IPY_MODEL_27d18b14ecd24a2dbdb07effbc8aaa77",
              "IPY_MODEL_347a79b7132b4f7c9bad8fc02c3afb10"
            ],
            "layout": "IPY_MODEL_04f4462e73fb4d5ab05593caeacf72d3"
          }
        },
        "7ca8ed4cb3ec4382a0d5095a52b5a1aa": {
          "model_module": "@jupyter-widgets/controls",
          "model_name": "HTMLModel",
          "model_module_version": "1.5.0",
          "state": {
            "_dom_classes": [],
            "_model_module": "@jupyter-widgets/controls",
            "_model_module_version": "1.5.0",
            "_model_name": "HTMLModel",
            "_view_count": null,
            "_view_module": "@jupyter-widgets/controls",
            "_view_module_version": "1.5.0",
            "_view_name": "HTMLView",
            "description": "",
            "description_tooltip": null,
            "layout": "IPY_MODEL_f6bf09f7786e491987da3242c3716d54",
            "placeholder": "​",
            "style": "IPY_MODEL_a1d60a16c700467d818d3cfc55555458",
            "value": "100%"
          }
        },
        "27d18b14ecd24a2dbdb07effbc8aaa77": {
          "model_module": "@jupyter-widgets/controls",
          "model_name": "FloatProgressModel",
          "model_module_version": "1.5.0",
          "state": {
            "_dom_classes": [],
            "_model_module": "@jupyter-widgets/controls",
            "_model_module_version": "1.5.0",
            "_model_name": "FloatProgressModel",
            "_view_count": null,
            "_view_module": "@jupyter-widgets/controls",
            "_view_module_version": "1.5.0",
            "_view_name": "ProgressView",
            "bar_style": "success",
            "description": "",
            "description_tooltip": null,
            "layout": "IPY_MODEL_5d8caba652d74beaacbf891a9efd090b",
            "max": 165,
            "min": 0,
            "orientation": "horizontal",
            "style": "IPY_MODEL_ebdf4a5648df4705851c0a8365bd5c15",
            "value": 165
          }
        },
        "347a79b7132b4f7c9bad8fc02c3afb10": {
          "model_module": "@jupyter-widgets/controls",
          "model_name": "HTMLModel",
          "model_module_version": "1.5.0",
          "state": {
            "_dom_classes": [],
            "_model_module": "@jupyter-widgets/controls",
            "_model_module_version": "1.5.0",
            "_model_name": "HTMLModel",
            "_view_count": null,
            "_view_module": "@jupyter-widgets/controls",
            "_view_module_version": "1.5.0",
            "_view_name": "HTMLView",
            "description": "",
            "description_tooltip": null,
            "layout": "IPY_MODEL_47b6459b33364d90a2fd2bff4c808c86",
            "placeholder": "​",
            "style": "IPY_MODEL_f809dcd023864e309d4d4804601c50e6",
            "value": " 165/165 [01:26&lt;00:00,  1.74it/s]"
          }
        },
        "04f4462e73fb4d5ab05593caeacf72d3": {
          "model_module": "@jupyter-widgets/base",
          "model_name": "LayoutModel",
          "model_module_version": "1.2.0",
          "state": {
            "_model_module": "@jupyter-widgets/base",
            "_model_module_version": "1.2.0",
            "_model_name": "LayoutModel",
            "_view_count": null,
            "_view_module": "@jupyter-widgets/base",
            "_view_module_version": "1.2.0",
            "_view_name": "LayoutView",
            "align_content": null,
            "align_items": null,
            "align_self": null,
            "border": null,
            "bottom": null,
            "display": null,
            "flex": null,
            "flex_flow": null,
            "grid_area": null,
            "grid_auto_columns": null,
            "grid_auto_flow": null,
            "grid_auto_rows": null,
            "grid_column": null,
            "grid_gap": null,
            "grid_row": null,
            "grid_template_areas": null,
            "grid_template_columns": null,
            "grid_template_rows": null,
            "height": null,
            "justify_content": null,
            "justify_items": null,
            "left": null,
            "margin": null,
            "max_height": null,
            "max_width": null,
            "min_height": null,
            "min_width": null,
            "object_fit": null,
            "object_position": null,
            "order": null,
            "overflow": null,
            "overflow_x": null,
            "overflow_y": null,
            "padding": null,
            "right": null,
            "top": null,
            "visibility": null,
            "width": null
          }
        },
        "f6bf09f7786e491987da3242c3716d54": {
          "model_module": "@jupyter-widgets/base",
          "model_name": "LayoutModel",
          "model_module_version": "1.2.0",
          "state": {
            "_model_module": "@jupyter-widgets/base",
            "_model_module_version": "1.2.0",
            "_model_name": "LayoutModel",
            "_view_count": null,
            "_view_module": "@jupyter-widgets/base",
            "_view_module_version": "1.2.0",
            "_view_name": "LayoutView",
            "align_content": null,
            "align_items": null,
            "align_self": null,
            "border": null,
            "bottom": null,
            "display": null,
            "flex": null,
            "flex_flow": null,
            "grid_area": null,
            "grid_auto_columns": null,
            "grid_auto_flow": null,
            "grid_auto_rows": null,
            "grid_column": null,
            "grid_gap": null,
            "grid_row": null,
            "grid_template_areas": null,
            "grid_template_columns": null,
            "grid_template_rows": null,
            "height": null,
            "justify_content": null,
            "justify_items": null,
            "left": null,
            "margin": null,
            "max_height": null,
            "max_width": null,
            "min_height": null,
            "min_width": null,
            "object_fit": null,
            "object_position": null,
            "order": null,
            "overflow": null,
            "overflow_x": null,
            "overflow_y": null,
            "padding": null,
            "right": null,
            "top": null,
            "visibility": null,
            "width": null
          }
        },
        "a1d60a16c700467d818d3cfc55555458": {
          "model_module": "@jupyter-widgets/controls",
          "model_name": "DescriptionStyleModel",
          "model_module_version": "1.5.0",
          "state": {
            "_model_module": "@jupyter-widgets/controls",
            "_model_module_version": "1.5.0",
            "_model_name": "DescriptionStyleModel",
            "_view_count": null,
            "_view_module": "@jupyter-widgets/base",
            "_view_module_version": "1.2.0",
            "_view_name": "StyleView",
            "description_width": ""
          }
        },
        "5d8caba652d74beaacbf891a9efd090b": {
          "model_module": "@jupyter-widgets/base",
          "model_name": "LayoutModel",
          "model_module_version": "1.2.0",
          "state": {
            "_model_module": "@jupyter-widgets/base",
            "_model_module_version": "1.2.0",
            "_model_name": "LayoutModel",
            "_view_count": null,
            "_view_module": "@jupyter-widgets/base",
            "_view_module_version": "1.2.0",
            "_view_name": "LayoutView",
            "align_content": null,
            "align_items": null,
            "align_self": null,
            "border": null,
            "bottom": null,
            "display": null,
            "flex": null,
            "flex_flow": null,
            "grid_area": null,
            "grid_auto_columns": null,
            "grid_auto_flow": null,
            "grid_auto_rows": null,
            "grid_column": null,
            "grid_gap": null,
            "grid_row": null,
            "grid_template_areas": null,
            "grid_template_columns": null,
            "grid_template_rows": null,
            "height": null,
            "justify_content": null,
            "justify_items": null,
            "left": null,
            "margin": null,
            "max_height": null,
            "max_width": null,
            "min_height": null,
            "min_width": null,
            "object_fit": null,
            "object_position": null,
            "order": null,
            "overflow": null,
            "overflow_x": null,
            "overflow_y": null,
            "padding": null,
            "right": null,
            "top": null,
            "visibility": null,
            "width": null
          }
        },
        "ebdf4a5648df4705851c0a8365bd5c15": {
          "model_module": "@jupyter-widgets/controls",
          "model_name": "ProgressStyleModel",
          "model_module_version": "1.5.0",
          "state": {
            "_model_module": "@jupyter-widgets/controls",
            "_model_module_version": "1.5.0",
            "_model_name": "ProgressStyleModel",
            "_view_count": null,
            "_view_module": "@jupyter-widgets/base",
            "_view_module_version": "1.2.0",
            "_view_name": "StyleView",
            "bar_color": null,
            "description_width": ""
          }
        },
        "47b6459b33364d90a2fd2bff4c808c86": {
          "model_module": "@jupyter-widgets/base",
          "model_name": "LayoutModel",
          "model_module_version": "1.2.0",
          "state": {
            "_model_module": "@jupyter-widgets/base",
            "_model_module_version": "1.2.0",
            "_model_name": "LayoutModel",
            "_view_count": null,
            "_view_module": "@jupyter-widgets/base",
            "_view_module_version": "1.2.0",
            "_view_name": "LayoutView",
            "align_content": null,
            "align_items": null,
            "align_self": null,
            "border": null,
            "bottom": null,
            "display": null,
            "flex": null,
            "flex_flow": null,
            "grid_area": null,
            "grid_auto_columns": null,
            "grid_auto_flow": null,
            "grid_auto_rows": null,
            "grid_column": null,
            "grid_gap": null,
            "grid_row": null,
            "grid_template_areas": null,
            "grid_template_columns": null,
            "grid_template_rows": null,
            "height": null,
            "justify_content": null,
            "justify_items": null,
            "left": null,
            "margin": null,
            "max_height": null,
            "max_width": null,
            "min_height": null,
            "min_width": null,
            "object_fit": null,
            "object_position": null,
            "order": null,
            "overflow": null,
            "overflow_x": null,
            "overflow_y": null,
            "padding": null,
            "right": null,
            "top": null,
            "visibility": null,
            "width": null
          }
        },
        "f809dcd023864e309d4d4804601c50e6": {
          "model_module": "@jupyter-widgets/controls",
          "model_name": "DescriptionStyleModel",
          "model_module_version": "1.5.0",
          "state": {
            "_model_module": "@jupyter-widgets/controls",
            "_model_module_version": "1.5.0",
            "_model_name": "DescriptionStyleModel",
            "_view_count": null,
            "_view_module": "@jupyter-widgets/base",
            "_view_module_version": "1.2.0",
            "_view_name": "StyleView",
            "description_width": ""
          }
        },
        "ac0ba29b96114908a55149844184592a": {
          "model_module": "@jupyter-widgets/controls",
          "model_name": "HBoxModel",
          "model_module_version": "1.5.0",
          "state": {
            "_dom_classes": [],
            "_model_module": "@jupyter-widgets/controls",
            "_model_module_version": "1.5.0",
            "_model_name": "HBoxModel",
            "_view_count": null,
            "_view_module": "@jupyter-widgets/controls",
            "_view_module_version": "1.5.0",
            "_view_name": "HBoxView",
            "box_style": "",
            "children": [
              "IPY_MODEL_7dcaa5d9a74041e88da58d0220399a45",
              "IPY_MODEL_31a97651813b45d3bfe0fbbba78e3333",
              "IPY_MODEL_39fd14cd0df64ab58f55e6534ff9217c"
            ],
            "layout": "IPY_MODEL_e61fb0efb111455ca38b29e02986a407"
          }
        },
        "7dcaa5d9a74041e88da58d0220399a45": {
          "model_module": "@jupyter-widgets/controls",
          "model_name": "HTMLModel",
          "model_module_version": "1.5.0",
          "state": {
            "_dom_classes": [],
            "_model_module": "@jupyter-widgets/controls",
            "_model_module_version": "1.5.0",
            "_model_name": "HTMLModel",
            "_view_count": null,
            "_view_module": "@jupyter-widgets/controls",
            "_view_module_version": "1.5.0",
            "_view_name": "HTMLView",
            "description": "",
            "description_tooltip": null,
            "layout": "IPY_MODEL_dacd8f0dcfde43e4ab31170868f9fad7",
            "placeholder": "​",
            "style": "IPY_MODEL_c3b3b23d7e644667adc2fa702c7d2678",
            "value": "100%"
          }
        },
        "31a97651813b45d3bfe0fbbba78e3333": {
          "model_module": "@jupyter-widgets/controls",
          "model_name": "FloatProgressModel",
          "model_module_version": "1.5.0",
          "state": {
            "_dom_classes": [],
            "_model_module": "@jupyter-widgets/controls",
            "_model_module_version": "1.5.0",
            "_model_name": "FloatProgressModel",
            "_view_count": null,
            "_view_module": "@jupyter-widgets/controls",
            "_view_module_version": "1.5.0",
            "_view_name": "ProgressView",
            "bar_style": "success",
            "description": "",
            "description_tooltip": null,
            "layout": "IPY_MODEL_1066f2de7b8e437b874a7705413cf7db",
            "max": 165,
            "min": 0,
            "orientation": "horizontal",
            "style": "IPY_MODEL_419eb846e2914f9b9b8be0303b989a6c",
            "value": 165
          }
        },
        "39fd14cd0df64ab58f55e6534ff9217c": {
          "model_module": "@jupyter-widgets/controls",
          "model_name": "HTMLModel",
          "model_module_version": "1.5.0",
          "state": {
            "_dom_classes": [],
            "_model_module": "@jupyter-widgets/controls",
            "_model_module_version": "1.5.0",
            "_model_name": "HTMLModel",
            "_view_count": null,
            "_view_module": "@jupyter-widgets/controls",
            "_view_module_version": "1.5.0",
            "_view_name": "HTMLView",
            "description": "",
            "description_tooltip": null,
            "layout": "IPY_MODEL_3b97714dda3e47cb8f964e8d5c0ee840",
            "placeholder": "​",
            "style": "IPY_MODEL_1a55585899504b46bcfe57f7e4e950e0",
            "value": " 165/165 [01:33&lt;00:00,  2.05it/s]"
          }
        },
        "e61fb0efb111455ca38b29e02986a407": {
          "model_module": "@jupyter-widgets/base",
          "model_name": "LayoutModel",
          "model_module_version": "1.2.0",
          "state": {
            "_model_module": "@jupyter-widgets/base",
            "_model_module_version": "1.2.0",
            "_model_name": "LayoutModel",
            "_view_count": null,
            "_view_module": "@jupyter-widgets/base",
            "_view_module_version": "1.2.0",
            "_view_name": "LayoutView",
            "align_content": null,
            "align_items": null,
            "align_self": null,
            "border": null,
            "bottom": null,
            "display": null,
            "flex": null,
            "flex_flow": null,
            "grid_area": null,
            "grid_auto_columns": null,
            "grid_auto_flow": null,
            "grid_auto_rows": null,
            "grid_column": null,
            "grid_gap": null,
            "grid_row": null,
            "grid_template_areas": null,
            "grid_template_columns": null,
            "grid_template_rows": null,
            "height": null,
            "justify_content": null,
            "justify_items": null,
            "left": null,
            "margin": null,
            "max_height": null,
            "max_width": null,
            "min_height": null,
            "min_width": null,
            "object_fit": null,
            "object_position": null,
            "order": null,
            "overflow": null,
            "overflow_x": null,
            "overflow_y": null,
            "padding": null,
            "right": null,
            "top": null,
            "visibility": null,
            "width": null
          }
        },
        "dacd8f0dcfde43e4ab31170868f9fad7": {
          "model_module": "@jupyter-widgets/base",
          "model_name": "LayoutModel",
          "model_module_version": "1.2.0",
          "state": {
            "_model_module": "@jupyter-widgets/base",
            "_model_module_version": "1.2.0",
            "_model_name": "LayoutModel",
            "_view_count": null,
            "_view_module": "@jupyter-widgets/base",
            "_view_module_version": "1.2.0",
            "_view_name": "LayoutView",
            "align_content": null,
            "align_items": null,
            "align_self": null,
            "border": null,
            "bottom": null,
            "display": null,
            "flex": null,
            "flex_flow": null,
            "grid_area": null,
            "grid_auto_columns": null,
            "grid_auto_flow": null,
            "grid_auto_rows": null,
            "grid_column": null,
            "grid_gap": null,
            "grid_row": null,
            "grid_template_areas": null,
            "grid_template_columns": null,
            "grid_template_rows": null,
            "height": null,
            "justify_content": null,
            "justify_items": null,
            "left": null,
            "margin": null,
            "max_height": null,
            "max_width": null,
            "min_height": null,
            "min_width": null,
            "object_fit": null,
            "object_position": null,
            "order": null,
            "overflow": null,
            "overflow_x": null,
            "overflow_y": null,
            "padding": null,
            "right": null,
            "top": null,
            "visibility": null,
            "width": null
          }
        },
        "c3b3b23d7e644667adc2fa702c7d2678": {
          "model_module": "@jupyter-widgets/controls",
          "model_name": "DescriptionStyleModel",
          "model_module_version": "1.5.0",
          "state": {
            "_model_module": "@jupyter-widgets/controls",
            "_model_module_version": "1.5.0",
            "_model_name": "DescriptionStyleModel",
            "_view_count": null,
            "_view_module": "@jupyter-widgets/base",
            "_view_module_version": "1.2.0",
            "_view_name": "StyleView",
            "description_width": ""
          }
        },
        "1066f2de7b8e437b874a7705413cf7db": {
          "model_module": "@jupyter-widgets/base",
          "model_name": "LayoutModel",
          "model_module_version": "1.2.0",
          "state": {
            "_model_module": "@jupyter-widgets/base",
            "_model_module_version": "1.2.0",
            "_model_name": "LayoutModel",
            "_view_count": null,
            "_view_module": "@jupyter-widgets/base",
            "_view_module_version": "1.2.0",
            "_view_name": "LayoutView",
            "align_content": null,
            "align_items": null,
            "align_self": null,
            "border": null,
            "bottom": null,
            "display": null,
            "flex": null,
            "flex_flow": null,
            "grid_area": null,
            "grid_auto_columns": null,
            "grid_auto_flow": null,
            "grid_auto_rows": null,
            "grid_column": null,
            "grid_gap": null,
            "grid_row": null,
            "grid_template_areas": null,
            "grid_template_columns": null,
            "grid_template_rows": null,
            "height": null,
            "justify_content": null,
            "justify_items": null,
            "left": null,
            "margin": null,
            "max_height": null,
            "max_width": null,
            "min_height": null,
            "min_width": null,
            "object_fit": null,
            "object_position": null,
            "order": null,
            "overflow": null,
            "overflow_x": null,
            "overflow_y": null,
            "padding": null,
            "right": null,
            "top": null,
            "visibility": null,
            "width": null
          }
        },
        "419eb846e2914f9b9b8be0303b989a6c": {
          "model_module": "@jupyter-widgets/controls",
          "model_name": "ProgressStyleModel",
          "model_module_version": "1.5.0",
          "state": {
            "_model_module": "@jupyter-widgets/controls",
            "_model_module_version": "1.5.0",
            "_model_name": "ProgressStyleModel",
            "_view_count": null,
            "_view_module": "@jupyter-widgets/base",
            "_view_module_version": "1.2.0",
            "_view_name": "StyleView",
            "bar_color": null,
            "description_width": ""
          }
        },
        "3b97714dda3e47cb8f964e8d5c0ee840": {
          "model_module": "@jupyter-widgets/base",
          "model_name": "LayoutModel",
          "model_module_version": "1.2.0",
          "state": {
            "_model_module": "@jupyter-widgets/base",
            "_model_module_version": "1.2.0",
            "_model_name": "LayoutModel",
            "_view_count": null,
            "_view_module": "@jupyter-widgets/base",
            "_view_module_version": "1.2.0",
            "_view_name": "LayoutView",
            "align_content": null,
            "align_items": null,
            "align_self": null,
            "border": null,
            "bottom": null,
            "display": null,
            "flex": null,
            "flex_flow": null,
            "grid_area": null,
            "grid_auto_columns": null,
            "grid_auto_flow": null,
            "grid_auto_rows": null,
            "grid_column": null,
            "grid_gap": null,
            "grid_row": null,
            "grid_template_areas": null,
            "grid_template_columns": null,
            "grid_template_rows": null,
            "height": null,
            "justify_content": null,
            "justify_items": null,
            "left": null,
            "margin": null,
            "max_height": null,
            "max_width": null,
            "min_height": null,
            "min_width": null,
            "object_fit": null,
            "object_position": null,
            "order": null,
            "overflow": null,
            "overflow_x": null,
            "overflow_y": null,
            "padding": null,
            "right": null,
            "top": null,
            "visibility": null,
            "width": null
          }
        },
        "1a55585899504b46bcfe57f7e4e950e0": {
          "model_module": "@jupyter-widgets/controls",
          "model_name": "DescriptionStyleModel",
          "model_module_version": "1.5.0",
          "state": {
            "_model_module": "@jupyter-widgets/controls",
            "_model_module_version": "1.5.0",
            "_model_name": "DescriptionStyleModel",
            "_view_count": null,
            "_view_module": "@jupyter-widgets/base",
            "_view_module_version": "1.2.0",
            "_view_name": "StyleView",
            "description_width": ""
          }
        }
      }
    }
  },
  "cells": [
    {
      "cell_type": "markdown",
      "metadata": {
        "id": "view-in-github",
        "colab_type": "text"
      },
      "source": [
        "<a href=\"https://colab.research.google.com/github/SARA3SAEED/abu-LLM/blob/main/4_abu_part_02_QDrant_DB.ipynb\" target=\"_parent\"><img src=\"https://colab.research.google.com/assets/colab-badge.svg\" alt=\"Open In Colab\"/></a>"
      ]
    },
    {
      "cell_type": "code",
      "execution_count": null,
      "metadata": {
        "id": "GnM-KVh4VSuC"
      },
      "outputs": [],
      "source": [
        "pip install qdrant-client==1.11.1 sentence-transformers==3.0.1 datasets pympler==1.1"
      ]
    },
    {
      "cell_type": "markdown",
      "source": [
        "## Download Dataset"
      ],
      "metadata": {
        "id": "gspRRKOgVwON"
      }
    },
    {
      "cell_type": "code",
      "source": [
        "from datasets import load_dataset\n",
        "from tqdm.auto import tqdm\n",
        "import pandas as pd\n",
        "\n",
        "ds = load_dataset(\"Cohere/wikipedia-22-12\", \"ar\", streaming=True, trust_remote_code=True)"
      ],
      "metadata": {
        "id": "hMv5rAN2VyO-"
      },
      "execution_count": null,
      "outputs": []
    },
    {
      "cell_type": "code",
      "source": [
        "max_titles = 100\n",
        "all_titles = set()\n",
        "collected_recs = []\n",
        "\n",
        "progress_bar = tqdm()\n",
        "for rec in ds[\"train\"]:\n",
        "    if rec[\"title\"] not in all_titles:\n",
        "        all_titles.add(rec[\"title\"])\n",
        "        progress_bar.update(1)\n",
        "\n",
        "    if len(all_titles) == max_titles:\n",
        "        break\n",
        "\n",
        "    collected_recs.append(rec)"
      ],
      "metadata": {
        "colab": {
          "base_uri": "https://localhost:8080/",
          "height": 49,
          "referenced_widgets": [
            "57ad5a579c4548908b39291af0548ee3",
            "b2b1dfee9e0a41228df495af08b27749",
            "3029441d107b4c4192f6d942163755be",
            "9512733e1bc34af7bd1b2ebaafb9d56c",
            "2de4e7f2570745499d36378ee9aa7e9e",
            "6324412ac7384f21a8fffee7c77736cf",
            "8baa275f0d7b47689b5243aa841347df",
            "af4308dca46b4447b2b750fc6ceaa23c",
            "8c4b7d33a7004a9fb20d6f65b0649b28",
            "54fefc8e7635454996ac79a400d4fead",
            "478d858fdca44486a353f7de725373aa"
          ]
        },
        "id": "y97O7W6QV0vO",
        "outputId": "b90b06d1-feb9-4acb-f302-51f60f6dc41b"
      },
      "execution_count": null,
      "outputs": [
        {
          "output_type": "display_data",
          "data": {
            "text/plain": [
              "0it [00:00, ?it/s]"
            ],
            "application/vnd.jupyter.widget-view+json": {
              "version_major": 2,
              "version_minor": 0,
              "model_id": "57ad5a579c4548908b39291af0548ee3"
            }
          },
          "metadata": {}
        }
      ]
    },
    {
      "cell_type": "code",
      "source": [
        "collected_df = pd.DataFrame(collected_recs)\n",
        "collected_df = collected_df.drop(columns=[\"url\", \"wiki_id\", \"views\", \"paragraph_id\", \"langs\"])\n",
        "print(collected_df.shape)"
      ],
      "metadata": {
        "colab": {
          "base_uri": "https://localhost:8080/"
        },
        "id": "Nccgxu3BWAaL",
        "outputId": "3455c02e-2c98-40e9-cbec-776929c5b524"
      },
      "execution_count": null,
      "outputs": [
        {
          "output_type": "stream",
          "name": "stdout",
          "text": [
            "(8481, 3)\n"
          ]
        }
      ]
    },
    {
      "cell_type": "code",
      "source": [
        "# ===== Collecte text length\n",
        "collected_df[\"text_length\"] = collected_df[\"text\"].apply(lambda text: len(text.strip()))\n",
        "cleaned_collected_df = collected_df[ collected_df[\"text_length\"] <= 1500 ]\n",
        "print(cleaned_collected_df.shape)"
      ],
      "metadata": {
        "colab": {
          "base_uri": "https://localhost:8080/",
          "height": 34
        },
        "id": "8ADWSpvVWIy_",
        "outputId": "365990a6-ac09-40a9-d540-16db44e1e1d3"
      },
      "execution_count": null,
      "outputs": [
        {
          "output_type": "stream",
          "name": "stdout",
          "text": [
            "(8238, 4)\n"
          ]
        }
      ]
    },
    {
      "cell_type": "code",
      "source": [
        "cleaned_collected_df = cleaned_collected_df.sample(frac=1, random_state=101)"
      ],
      "metadata": {
        "id": "mZEDzy1SWSMF"
      },
      "execution_count": null,
      "outputs": []
    },
    {
      "cell_type": "markdown",
      "source": [
        "## Setup Qdrant DB"
      ],
      "metadata": {
        "id": "OvFR_6II6T_H"
      }
    },
    {
      "cell_type": "code",
      "source": [
        "from qdrant_client import QdrantClient\n",
        "from qdrant_client.models import Distance, VectorParams, PointStruct\n",
        "import os\n",
        "\n",
        "qdrant_db_path = \"./qdrant_db\"\n",
        "os.makedirs(qdrant_db_path, exist_ok=True)\n",
        "\n",
        "qdrant_client = QdrantClient(path=qdrant_db_path)"
      ],
      "metadata": {
        "id": "P7L2Hwrs6V7Y"
      },
      "execution_count": null,
      "outputs": []
    },
    {
      "cell_type": "code",
      "source": [
        "# create new collection\n",
        "collection_name = \"ar_wiki_base\"\n",
        "vec_size = 384\n",
        "\n",
        "qdrant_client.create_collection(\n",
        "    collection_name=collection_name,\n",
        "    vectors_config=VectorParams(size=vec_size, distance=Distance.COSINE),\n",
        ")"
      ],
      "metadata": {
        "colab": {
          "base_uri": "https://localhost:8080/"
        },
        "id": "6ETh66Q56iUR",
        "outputId": "61bccef8-8ba3-423e-bb2a-bcc268657937"
      },
      "execution_count": null,
      "outputs": [
        {
          "output_type": "execute_result",
          "data": {
            "text/plain": [
              "True"
            ]
          },
          "metadata": {},
          "execution_count": 11
        }
      ]
    },
    {
      "cell_type": "markdown",
      "source": [
        "## Load Embedding Model"
      ],
      "metadata": {
        "id": "bBBNWcGdW5PX"
      }
    },
    {
      "cell_type": "code",
      "source": [
        "from sentence_transformers import SentenceTransformer\n",
        "\n",
        "# ===== Slower and High Memory Consumption\n",
        "model = SentenceTransformer('sentence-transformers/paraphrase-multilingual-MiniLM-L12-v2', device=\"cuda:0\") # device=\"cpu\"\n",
        "\n",
        "normalize_embeddings = True"
      ],
      "metadata": {
        "id": "a6pkcx-PW7AO"
      },
      "execution_count": null,
      "outputs": []
    },
    {
      "cell_type": "markdown",
      "source": [
        "## Float32 | Push Data Into Qdrant Collection"
      ],
      "metadata": {
        "id": "tk1LWKgo7LyZ"
      }
    },
    {
      "cell_type": "code",
      "source": [
        "batch_size = 50\n",
        "total = cleaned_collected_df.shape[0]\n",
        "rec_id = 0\n",
        "\n",
        "for i in tqdm(range(0, total, batch_size)):\n",
        "    batch_titles = cleaned_collected_df[\"title\"].values[i:i+batch_size]\n",
        "    batch_texts = cleaned_collected_df[\"text\"].values[i:i+batch_size]\n",
        "    batch_embeds = model.encode(batch_texts).tolist()\n",
        "\n",
        "    points = []\n",
        "    for title, text, embed in zip(batch_titles, batch_texts, batch_embeds):\n",
        "        points.append(PointStruct(\n",
        "                        id=rec_id,\n",
        "                        vector=embed,\n",
        "                        payload={\"title\": title, \"text\": text}\n",
        "                    ))\n",
        "        rec_id += 1\n",
        "\n",
        "    qdrant_client.upsert(collection_name=collection_name, points=points)"
      ],
      "metadata": {
        "id": "f_IhvkMHXIyE"
      },
      "execution_count": null,
      "outputs": []
    },
    {
      "cell_type": "code",
      "source": [
        "# search\n",
        "query_text = \"متى أصدرت انستجرام تطبيقها المخصص لعملاء نظام تشغيل ميكروسوفت\"\n",
        "query_embed = model.encode(query_text).tolist()\n",
        "\n",
        "hits = qdrant_client.search(\n",
        "    collection_name=collection_name,\n",
        "    query_vector=query_embed,\n",
        "    limit=5\n",
        ")"
      ],
      "metadata": {
        "id": "wJ69887t-fOg"
      },
      "execution_count": null,
      "outputs": []
    },
    {
      "cell_type": "markdown",
      "source": [
        "## Binary | Push Data Into Qdrant Collection"
      ],
      "metadata": {
        "id": "sZ1TiTYP-bbg"
      }
    },
    {
      "cell_type": "code",
      "source": [
        "from qdrant_client.models import BinaryQuantization, BinaryQuantizationConfig\n",
        "from sentence_transformers.quantization import quantize_embeddings\n",
        "\n",
        "# create new collection\n",
        "collection_name = \"ar_wiki_binary\"\n",
        "vec_size = 384\n",
        "\n",
        "qdrant_client.create_collection(\n",
        "    collection_name=collection_name,\n",
        "    vectors_config=VectorParams(size=vec_size, distance=Distance.COSINE),\n",
        "    quantization_config=BinaryQuantization(\n",
        "        binary=BinaryQuantizationConfig(\n",
        "            always_ram=True,\n",
        "        ),\n",
        "    ),\n",
        ")\n",
        "\n",
        "# always_ram - whether to keep quantized vectors always cached in RAM or not.\n",
        "\n",
        "# to delete a collection\n",
        "# qdrant_client.delete_collection(collection_name=collection_name)"
      ],
      "metadata": {
        "colab": {
          "base_uri": "https://localhost:8080/"
        },
        "id": "OHqc-FZE_geJ",
        "outputId": "b2ec2765-549e-4d49-cd26-b25fae8b229b"
      },
      "execution_count": null,
      "outputs": [
        {
          "output_type": "execute_result",
          "data": {
            "text/plain": [
              "True"
            ]
          },
          "metadata": {},
          "execution_count": 35
        }
      ]
    },
    {
      "cell_type": "code",
      "source": [
        "batch_embeds = model.encode([\"test text\"]) # HERE <---\n",
        "binary_embeddings = quantize_embeddings(batch_embeds, precision=\"binary\")\n",
        "\n",
        "print(batch_embeds.shape)\n",
        "print(binary_embeddings.shape)"
      ],
      "metadata": {
        "colab": {
          "base_uri": "https://localhost:8080/"
        },
        "id": "atXdQ6wlAe8L",
        "outputId": "c8582112-4e9f-4124-a271-8287acff6682"
      },
      "execution_count": null,
      "outputs": [
        {
          "output_type": "stream",
          "name": "stdout",
          "text": [
            "(1, 384)\n",
            "(1, 48)\n"
          ]
        }
      ]
    },
    {
      "cell_type": "code",
      "source": [
        "batch_size = 50\n",
        "total = cleaned_collected_df.shape[0]\n",
        "rec_id = 0\n",
        "\n",
        "for i in tqdm(range(0, total, batch_size)):\n",
        "    batch_titles = cleaned_collected_df[\"title\"].values[i:i+batch_size]\n",
        "    batch_texts = cleaned_collected_df[\"text\"].values[i:i+batch_size]\n",
        "    batch_embeds = model.encode(batch_texts)\n",
        "\n",
        "    points = []\n",
        "    for title, text, embed in zip(batch_titles, batch_texts, batch_embeds):\n",
        "        points.append(PointStruct(\n",
        "                        id=rec_id,\n",
        "                        vector=embed,\n",
        "                        payload={\"title\": title, \"text\": text}\n",
        "                    ))\n",
        "        rec_id += 1\n",
        "\n",
        "    qdrant_client.upsert(collection_name=collection_name, points=points)"
      ],
      "metadata": {
        "colab": {
          "base_uri": "https://localhost:8080/",
          "height": 49,
          "referenced_widgets": [
            "89fe14c08e544ea3a5db69dd50c34bea",
            "7ca8ed4cb3ec4382a0d5095a52b5a1aa",
            "27d18b14ecd24a2dbdb07effbc8aaa77",
            "347a79b7132b4f7c9bad8fc02c3afb10",
            "04f4462e73fb4d5ab05593caeacf72d3",
            "f6bf09f7786e491987da3242c3716d54",
            "a1d60a16c700467d818d3cfc55555458",
            "5d8caba652d74beaacbf891a9efd090b",
            "ebdf4a5648df4705851c0a8365bd5c15",
            "47b6459b33364d90a2fd2bff4c808c86",
            "f809dcd023864e309d4d4804601c50e6"
          ]
        },
        "id": "isGgwcsM-dYT",
        "outputId": "47ba6c30-3cdd-4cfe-c27a-35f398e5a2b7"
      },
      "execution_count": null,
      "outputs": [
        {
          "output_type": "display_data",
          "data": {
            "text/plain": [
              "  0%|          | 0/165 [00:00<?, ?it/s]"
            ],
            "application/vnd.jupyter.widget-view+json": {
              "version_major": 2,
              "version_minor": 0,
              "model_id": "89fe14c08e544ea3a5db69dd50c34bea"
            }
          },
          "metadata": {}
        }
      ]
    },
    {
      "cell_type": "code",
      "source": [
        "from qdrant_client.models import SearchParams, QuantizationSearchParams\n",
        "\n",
        "# search\n",
        "query_text = \"متى أصدرت انستجرام تطبيقها المخصص لعملاء نظام تشغيل ميكروسوفت\"\n",
        "query_embed = model.encode(query_text)\n",
        "\n",
        "hits = qdrant_client.search(\n",
        "    collection_name=collection_name,\n",
        "    query_vector=query_embed,\n",
        "    limit=5\n",
        ")"
      ],
      "metadata": {
        "id": "SNSx9Swu_wC8"
      },
      "execution_count": null,
      "outputs": []
    },
    {
      "cell_type": "markdown",
      "source": [
        "## Scalar | Push Data Into Qdrant Collection"
      ],
      "metadata": {
        "id": "xOXk967RDqH1"
      }
    },
    {
      "cell_type": "code",
      "source": [
        "from qdrant_client.models import ScalarQuantization, ScalarQuantizationConfig, ScalarType\n",
        "from sentence_transformers.quantization import quantize_embeddings\n",
        "\n",
        "# create new collection\n",
        "collection_name = \"ar_wiki_scalar_int8\"\n",
        "vec_size = 384\n",
        "\n",
        "qdrant_client.create_collection(\n",
        "    collection_name=collection_name,\n",
        "    vectors_config=VectorParams(size=vec_size, distance=Distance.COSINE),\n",
        "    quantization_config=ScalarQuantization(\n",
        "        scalar=ScalarQuantizationConfig(\n",
        "            type=ScalarType.INT8,\n",
        "            quantile=0.99,\n",
        "            always_ram=True,\n",
        "        ),\n",
        "    ),\n",
        ")\n",
        "\n",
        "# more here: https://qdrant.tech/documentation/guides/quantization/?q=binary#setting-up-scalar-quantization"
      ],
      "metadata": {
        "colab": {
          "base_uri": "https://localhost:8080/"
        },
        "id": "nxpgvXk2D3tn",
        "outputId": "b372260d-3db4-4e38-8744-a172692526d9"
      },
      "execution_count": null,
      "outputs": [
        {
          "output_type": "execute_result",
          "data": {
            "text/plain": [
              "True"
            ]
          },
          "metadata": {},
          "execution_count": 59
        }
      ]
    },
    {
      "cell_type": "code",
      "source": [
        "from sentence_transformers.quantization import quantize_embeddings\n",
        "\n",
        "# prepare callibration (always used for any next embeddings)\n",
        "calibration_embeddings = model.encode(cleaned_collected_df[\"title\"].values)\n",
        "\n",
        "# scale a batch\n",
        "batch_embeddings = model.encode(cleaned_collected_df[\"title\"].values[:1000])\n",
        "\n",
        "int8_embeddings = quantize_embeddings(\n",
        "    batch_embeddings,\n",
        "    precision=\"int8\",\n",
        "    calibration_embeddings=calibration_embeddings,\n",
        ")"
      ],
      "metadata": {
        "id": "EqSyL8ANENMi"
      },
      "execution_count": null,
      "outputs": []
    },
    {
      "cell_type": "code",
      "source": [
        "batch_size = 50\n",
        "total = cleaned_collected_df.shape[0]\n",
        "rec_id = 0\n",
        "\n",
        "for i in tqdm(range(0, total, batch_size)):\n",
        "    batch_titles = cleaned_collected_df[\"title\"].values[i:i+batch_size]\n",
        "    batch_texts = cleaned_collected_df[\"text\"].values[i:i+batch_size]\n",
        "    batch_embeds = model.encode(batch_texts)\n",
        "\n",
        "    points = []\n",
        "    for title, text, embed in zip(batch_titles, batch_texts, batch_embeds):\n",
        "        points.append(PointStruct(\n",
        "                        id=rec_id,\n",
        "                        vector=embed,\n",
        "                        payload={\"title\": title, \"text\": text}\n",
        "                    ))\n",
        "        rec_id += 1\n",
        "\n",
        "    qdrant_client.upsert(collection_name=collection_name, points=points)"
      ],
      "metadata": {
        "colab": {
          "base_uri": "https://localhost:8080/",
          "height": 49,
          "referenced_widgets": [
            "ac0ba29b96114908a55149844184592a",
            "7dcaa5d9a74041e88da58d0220399a45",
            "31a97651813b45d3bfe0fbbba78e3333",
            "39fd14cd0df64ab58f55e6534ff9217c",
            "e61fb0efb111455ca38b29e02986a407",
            "dacd8f0dcfde43e4ab31170868f9fad7",
            "c3b3b23d7e644667adc2fa702c7d2678",
            "1066f2de7b8e437b874a7705413cf7db",
            "419eb846e2914f9b9b8be0303b989a6c",
            "3b97714dda3e47cb8f964e8d5c0ee840",
            "1a55585899504b46bcfe57f7e4e950e0"
          ]
        },
        "id": "8KwkBVJBEzNz",
        "outputId": "40d377aa-cbe7-4e0f-a9d7-514e040999af"
      },
      "execution_count": null,
      "outputs": [
        {
          "output_type": "display_data",
          "data": {
            "text/plain": [
              "  0%|          | 0/165 [00:00<?, ?it/s]"
            ],
            "application/vnd.jupyter.widget-view+json": {
              "version_major": 2,
              "version_minor": 0,
              "model_id": "ac0ba29b96114908a55149844184592a"
            }
          },
          "metadata": {}
        }
      ]
    },
    {
      "cell_type": "code",
      "source": [
        "from qdrant_client.models import SearchParams, QuantizationSearchParams\n",
        "\n",
        "# search\n",
        "query_text = \"متى أصدرت انستجرام تطبيقها المخصص لعملاء نظام تشغيل ميكروسوفت\"\n",
        "query_embed = model.encode(query_text)\n",
        "\n",
        "hits = qdrant_client.search(\n",
        "    collection_name=collection_name,\n",
        "    query_vector=query_embed,\n",
        "    limit=5,\n",
        "    search_params=SearchParams(\n",
        "        quantization=QuantizationSearchParams(\n",
        "            rescore=True, # Having the original vectors available, Qdrant can re-evaluate top-k search results using the original vectors.\n",
        "            oversampling=2.0,\n",
        "        )\n",
        "    ),\n",
        ")\n",
        "\n",
        "# more here: https://qdrant.tech/documentation/guides/quantization/?q=binary#searching-with-quantization"
      ],
      "metadata": {
        "id": "_7DwSq_GFjxW"
      },
      "execution_count": null,
      "outputs": []
    },
    {
      "cell_type": "markdown",
      "source": [
        "## Re-Ranking"
      ],
      "metadata": {
        "id": "D691NLX8GT78"
      }
    },
    {
      "cell_type": "code",
      "source": [
        "from transformers import AutoModelForSequenceClassification\n",
        "\n",
        "reranker_model = AutoModelForSequenceClassification.from_pretrained(\n",
        "    'jinaai/jina-reranker-v2-base-multilingual',\n",
        "    torch_dtype=\"auto\",\n",
        "    trust_remote_code=True,\n",
        ").to('cuda:0')\n",
        "\n",
        "reranker_model.eval()"
      ],
      "metadata": {
        "id": "m9XEKihJGCoV"
      },
      "execution_count": null,
      "outputs": []
    },
    {
      "cell_type": "code",
      "source": [
        "# Example query and documents\n",
        "query = \"منتجات ازالة البقع السوداء تحت العينين\"\n",
        "documents = [\n",
        "    \"Organic skincare for sensitive skin with aloe vera and chamomile.\",\n",
        "    \"New makeup trends focus on bold colors and innovative techniques\",\n",
        "    \"Bio-Hautpflege für empfindliche Haut mit Aloe Vera und Kamille\",\n",
        "    \"Produits pour éliminer les taches brunes sous les yeux\",\n",
        "    \"Neue Make-up-Trends setzen auf kräftige Farben und innovative Techniken\",\n",
        "    \"Cuidado de la piel orgánico para piel sensible con aloe vera y manzanilla\",\n",
        "    \"Las nuevas tendencias de maquillaje se centran en colores vivos y técnicas innovadoras\",\n",
        "    \"针对敏感肌专门设计的天然有机护肤产品\",\n",
        "    \"新的化妆趋势注重鲜艳的颜色和创新的技巧\",\n",
        "    \"敏感肌のために特別に設計された天然有機スキンケア製品\",\n",
        "    \"新しいメイクのトレンドは鮮やかな色と革新的な技術に焦点を当てています\",\n",
        "]\n",
        "\n",
        "# construct sentence pairs\n",
        "sentence_pairs = [[query, doc] for doc in documents]\n",
        "\n",
        "scores = reranker_model.compute_score(sentence_pairs, max_length=1024)"
      ],
      "metadata": {
        "id": "OgV1aBCMH7l8"
      },
      "execution_count": null,
      "outputs": []
    },
    {
      "cell_type": "code",
      "source": [
        "import numpy as np\n",
        "\n",
        "top_n = 5\n",
        "top_indices = np.argsort(scores)[::-1][:top_n]\n",
        "\n",
        "for idx in top_indices:\n",
        "    score = scores[idx]\n",
        "    print(f\"Score: {score:.4f} | Document: {documents[idx]}\")\n",
        "    print(\"=\"*30)"
      ],
      "metadata": {
        "colab": {
          "base_uri": "https://localhost:8080/"
        },
        "id": "WSH1lSPsIBjo",
        "outputId": "86c57471-94be-49df-f50a-c3f8180311b9"
      },
      "execution_count": null,
      "outputs": [
        {
          "output_type": "stream",
          "name": "stdout",
          "text": [
            "Score: 0.7931 | Document: Produits pour éliminer les taches brunes sous les yeux\n",
            "==============================\n",
            "Score: 0.1755 | Document: Las nuevas tendencias de maquillaje se centran en colores vivos y técnicas innovadoras\n",
            "==============================\n",
            "Score: 0.1285 | Document: 新しいメイクのトレンドは鮮やかな色と革新的な技術に焦点を当てています\n",
            "==============================\n",
            "Score: 0.0888 | Document: 敏感肌のために特別に設計された天然有機スキンケア製品\n",
            "==============================\n",
            "Score: 0.0851 | Document: 新的化妆趋势注重鲜艳的颜色和创新的技巧\n",
            "==============================\n"
          ]
        }
      ]
    },
    {
      "cell_type": "markdown",
      "source": [
        "## Re-Score Qdrant Results"
      ],
      "metadata": {
        "id": "0jwI8yKdJmw8"
      }
    },
    {
      "cell_type": "code",
      "source": [
        "collection_name = \"ar_wiki_scalar_int8\"\n",
        "query_text = \"متى أصدرت انستجرام تطبيقها المخصص لعملاء نظام تشغيل ميكروسوفت\"\n",
        "query_embed = model.encode(query_text)\n",
        "\n",
        "hits = qdrant_client.search(\n",
        "    collection_name=collection_name,\n",
        "    query_vector=query_embed,\n",
        "    limit=5,\n",
        "    search_params=SearchParams(\n",
        "        quantization=QuantizationSearchParams(\n",
        "            rescore=True, # Having the original vectors available, Qdrant can re-evaluate top-k search results using the original vectors.\n",
        "            oversampling=2.0,\n",
        "        )\n",
        "    ),\n",
        ")"
      ],
      "metadata": {
        "id": "FyorBVkaIQHo"
      },
      "execution_count": null,
      "outputs": []
    },
    {
      "cell_type": "code",
      "source": [
        "hits_texts = [\n",
        "    hit.payload[\"text\"]\n",
        "    for hit in hits\n",
        "]\n",
        "\n",
        "# construct sentence pairs\n",
        "sentence_pairs = [[query_text, doc] for doc in hits_texts]\n",
        "\n",
        "scores = reranker_model.compute_score(sentence_pairs, max_length=1024)"
      ],
      "metadata": {
        "id": "xy579qVcJwEd"
      },
      "execution_count": null,
      "outputs": []
    },
    {
      "cell_type": "code",
      "source": [
        "import numpy as np\n",
        "\n",
        "top_n = 5\n",
        "top_indices = np.argsort(scores)[::-1][:top_n]\n",
        "\n",
        "for idx in top_indices:\n",
        "    score = scores[idx]\n",
        "    print(f\"Score: {score:.4f} | Document: {hits_texts[idx]}\")\n",
        "    print(\"=\"*30)"
      ],
      "metadata": {
        "colab": {
          "base_uri": "https://localhost:8080/"
        },
        "id": "Yq_cXPZrJ9kO",
        "outputId": "1a59642c-2396-4e2a-8661-b4cda0fc1a76"
      },
      "execution_count": null,
      "outputs": [
        {
          "output_type": "stream",
          "name": "stdout",
          "text": [
            "Score: 0.6123 | Document: في أبريل 2016، أصدرت إنستغرام تطبيقها إلى ويندوز 10 موبايل، بعد سنوات من الطلب من قبل مايكروسوفت والعامة بأصدار تطبيق إلى المنصة. وفي 21 نوفمبر، 2013، أصدرت إنستغرام لأول مرة تطبيقها ليعمل على ويندوز فون 8، وسبق ذلك إطلاق نسخة بيتا تجريبية لإنستغرام على المنصة. وأضافت فيه الدعم للمقاطع المرئية (مشاهدة وإنشاء المنشورات أو القصص، ومشاهدة البثوث المباشرة)، وكذلك المنشورات والرسائل المباشرة. وفي أكتوبر 2016، تم إصدار تطبيق للحواسيب الشخصية والأجهزة اللوحية التي تعمل على ويندوز 10. وفي مايو 2016، حدثت إنستغرام موقعها الإلكتروني على المتصفح ليسمح للمستخدمين برفع الصور، وإضافة نسخة \"lightweight\" إلى نافذة الاستكشاف.\n",
            "==============================\n",
            "Score: 0.1859 | Document: في نوفمبر 2015، أعلنت إنستغرام أنها في 1 يونيو، 2016 ستبدأ بإنهاء وصول بيئة برمجة التطبيقات إلى المنصة وذلك لصيانة التحكم من أجل المجتمع وتوفير خارطة طريق واضحة للمطورين وإنشاء بيئة مبنية أكثر استمرارية تستند على تجارب أصلية غير مزيفة على المنصة، ويتضمن ذلك المحتوى الموجه بإتجاه ناشري المحتوى، والمُعلنين. أفيد بأن تلك التغييرات كان المقصود منها هو ثني عملاء خدمات الطرف الثالث من نسخ تجربة إنستغرام بالكامل (وذلك بسبب زيادة عمليات تحقيق الدخل من الخدمة)، وبسبب أسباب أمنية، (مثل منع الإساءة من قبل خدمات الرشق والضغط على المنشورات الممولة والإعجابات، وأيضاً الاستيلاء واختراق الحسابات). في أسبوع فضيحة بيانات فيسبوك-كامبريدج أناليتيكا بدأت إنستغرام نشر قيود إضافية على بيئة برمجيات تطبيقها في عام 2018.\n",
            "==============================\n",
            "Score: 0.0804 | Document: بعد أشهر في المرحلة التجريبية، تم إطلاق الإصدار الرسمي الأول من واتساب في نوفمبر 2009، حصريًا في متجر التطبيقات لأجهزة آيفون. في يناير 2010، تمت إضافة دعم هواتف بلاك بيري الذكية؛ وبعد ذلك لنظام التشغيل سيمبيان OS في مايو 2010 ونظام التشغيل اندرويد في أغسطس 2010. في أغسطس 2011، تمت إضافة نسخة تجريبية لنظام التشغيل غير الذكي OS سيريس 40 من نوكيا. بعد شهر، تمت إضافة دعم ويندوز فون، متبوعًا بـ بلاك بيري 10 في مارس 2013. في أبريل 2015، تمت إضافة دعم لنظام التشغيل تايزن OS من سامسونج. كان أقدم جهاز قادر على تشغيل واتساب هو نوكيا N95 المستند إلى سيمبيان والذي تم إصداره في مارس 2007. (اعتبارًا من يونيو 2017، لم يعد واتساب متوافقًا معه.)\n",
            "==============================\n",
            "Score: 0.0666 | Document: في يناير 2020، اكتشفت تشك بوينت ثغرة أمنية في تيك توك والتي كان من الممكن أن تسمح للقراصنة بالوصول إلى حسابات المستخدمين باستخدام خدمة الرسائل القصيرة. في شباط (فبراير)، انتقد الرئيس التنفيذي لشركة ريديت، ستيف هوفمان، التطبيق ووصفه بأنه «برنامج تجسس»، وقال «إنني أنظر إلى هذا التطبيق على أنه طفيلي للغاية، لدرجة أنه يستمع دائمًا، وتقنية البصمات التي يستخدمونها مرعبة حقًا، أنا لا أستطيع سماح نفسي بتثبيت تطبيق مثل هذا على هاتفي». رداً على تعليقات هوفمان، صرحتتيك توك أن «هذه اتهامات لا أساس لها من دون دليل.» قام ولز فارجو بحظر التطبيق من أجهزته بسبب مخاوف تتعلق بالخصوصية والأمان.\n",
            "==============================\n",
            "Score: 0.0575 | Document: تشجيعًا لروح المرح في الشركة، اعتادت شركة جوجل على نشر دعابة طريفة في أول شهر إبريل من كل عام (كذبة إبريل) – مثل منتج جوجل مينتالبليكس الذي يدعي استخدام القوة العقلية للبحث على الويب. أما في عام 2002، فقد ادعوا أن الحمام هو السر وراء انتشار وازدهار محرك البحث الخاص بهم. وفي عام 2004، ادعت الشركة إنتاجها برنامجًا أسمته \"جوجل لونر\" (يزعم البحث عن وظائف على سطح القمر). أما في 2005، فقد تم الإعلان عن مشروب خيالي لتنشيط العقل وأسمته \"جوجل جلب\". وفي عام 2006، أشاعت الشركة عن إنتاجها خدمة \"جوجل رومانس\" الخيالية، وهي خدمة مواعدة افتراضية على الإنترنت. أما في عام 2007، فقد أعلنت عن منتجين هزليين. أولهما عبارة عن خدمة إنترنت لاسلكي مجاني يطلق عليه (TiSP) وزعموا أن المستخدم يستطيع الاتصال بالإنترنت عن طريق غمس أحد طرفي كابل الألياف البصرية في التواليت والانتظار لمدة ساعة حتى يقوم برنامج (PHD) بتوصيله بالإنترنت. بالإضافة إلى ذلك، عرضت صفحة جي ميل الخاصة بالشركة إعلانًا عن '\"جي ميل بيبر\" التي تسمح لمستخدمي خدمة البريد الإلكتروني المجاني الخاصة بـها بطباعة رسائلهم الإلكترونية وإرسالها لعنوان بريد عادي.\n",
            "==============================\n"
          ]
        }
      ]
    }
  ]
}